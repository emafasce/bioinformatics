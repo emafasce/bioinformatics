{
  "nbformat": 4,
  "nbformat_minor": 0,
  "metadata": {
    "colab": {
      "name": "new_experiment.ipynb",
      "provenance": [],
      "collapsed_sections": []
    },
    "kernelspec": {
      "display_name": "Python 3",
      "name": "python3"
    },
    "language_info": {
      "name": "python"
    },
    "widgets": {
      "application/vnd.jupyter.widget-state+json": {
        "3996b1e30fa34a77a444108a8425262e": {
          "model_module": "@jupyter-widgets/controls",
          "model_name": "VBoxModel",
          "state": {
            "_view_name": "VBoxView",
            "_dom_classes": [],
            "_model_name": "VBoxModel",
            "_view_module": "@jupyter-widgets/controls",
            "_model_module_version": "1.5.0",
            "_view_count": null,
            "_view_module_version": "1.5.0",
            "box_style": "",
            "layout": "IPY_MODEL_61ac8b7998ea4884a311f63c7df88b4a",
            "_model_module": "@jupyter-widgets/controls",
            "children": [
              "IPY_MODEL_9dda845fab39479da1128b2567d5f740",
              "IPY_MODEL_e488aa2dbf9e4c9095b9caf6f481127c"
            ]
          }
        },
        "61ac8b7998ea4884a311f63c7df88b4a": {
          "model_module": "@jupyter-widgets/base",
          "model_name": "LayoutModel",
          "state": {
            "_view_name": "LayoutView",
            "grid_template_rows": null,
            "right": null,
            "justify_content": null,
            "_view_module": "@jupyter-widgets/base",
            "overflow": null,
            "_model_module_version": "1.2.0",
            "_view_count": null,
            "flex_flow": null,
            "width": null,
            "min_width": null,
            "border": null,
            "align_items": null,
            "bottom": null,
            "_model_module": "@jupyter-widgets/base",
            "top": null,
            "grid_column": null,
            "overflow_y": null,
            "overflow_x": null,
            "grid_auto_flow": null,
            "grid_area": null,
            "grid_template_columns": null,
            "flex": null,
            "_model_name": "LayoutModel",
            "justify_items": null,
            "grid_row": null,
            "max_height": null,
            "align_content": null,
            "visibility": null,
            "align_self": null,
            "height": null,
            "min_height": null,
            "padding": null,
            "grid_auto_rows": null,
            "grid_gap": null,
            "max_width": null,
            "order": null,
            "_view_module_version": "1.2.0",
            "grid_template_areas": null,
            "object_position": null,
            "object_fit": null,
            "grid_auto_columns": null,
            "margin": null,
            "display": null,
            "left": null
          }
        },
        "9dda845fab39479da1128b2567d5f740": {
          "model_module": "@jupyter-widgets/controls",
          "model_name": "LabelModel",
          "state": {
            "_view_name": "LabelView",
            "style": "IPY_MODEL_685c8d58bc9e44469d6b933078835181",
            "_dom_classes": [],
            "description": "",
            "_model_name": "LabelModel",
            "placeholder": "​",
            "_view_module": "@jupyter-widgets/controls",
            "_model_module_version": "1.5.0",
            "value": " 0.01MB of 0.01MB uploaded (0.00MB deduped)\r",
            "_view_count": null,
            "_view_module_version": "1.5.0",
            "description_tooltip": null,
            "_model_module": "@jupyter-widgets/controls",
            "layout": "IPY_MODEL_77281b16f9ed49bdab6c1a335fc3a913"
          }
        },
        "e488aa2dbf9e4c9095b9caf6f481127c": {
          "model_module": "@jupyter-widgets/controls",
          "model_name": "FloatProgressModel",
          "state": {
            "_view_name": "ProgressView",
            "style": "IPY_MODEL_97391038a54149348c9b25cd61b608ef",
            "_dom_classes": [],
            "description": "",
            "_model_name": "FloatProgressModel",
            "bar_style": "",
            "max": 1,
            "_view_module": "@jupyter-widgets/controls",
            "_model_module_version": "1.5.0",
            "value": 1,
            "_view_count": null,
            "_view_module_version": "1.5.0",
            "orientation": "horizontal",
            "min": 0,
            "description_tooltip": null,
            "_model_module": "@jupyter-widgets/controls",
            "layout": "IPY_MODEL_ce0cdeb25d2849a5a1f0f37208c3f741"
          }
        },
        "685c8d58bc9e44469d6b933078835181": {
          "model_module": "@jupyter-widgets/controls",
          "model_name": "DescriptionStyleModel",
          "state": {
            "_view_name": "StyleView",
            "_model_name": "DescriptionStyleModel",
            "description_width": "",
            "_view_module": "@jupyter-widgets/base",
            "_model_module_version": "1.5.0",
            "_view_count": null,
            "_view_module_version": "1.2.0",
            "_model_module": "@jupyter-widgets/controls"
          }
        },
        "77281b16f9ed49bdab6c1a335fc3a913": {
          "model_module": "@jupyter-widgets/base",
          "model_name": "LayoutModel",
          "state": {
            "_view_name": "LayoutView",
            "grid_template_rows": null,
            "right": null,
            "justify_content": null,
            "_view_module": "@jupyter-widgets/base",
            "overflow": null,
            "_model_module_version": "1.2.0",
            "_view_count": null,
            "flex_flow": null,
            "width": null,
            "min_width": null,
            "border": null,
            "align_items": null,
            "bottom": null,
            "_model_module": "@jupyter-widgets/base",
            "top": null,
            "grid_column": null,
            "overflow_y": null,
            "overflow_x": null,
            "grid_auto_flow": null,
            "grid_area": null,
            "grid_template_columns": null,
            "flex": null,
            "_model_name": "LayoutModel",
            "justify_items": null,
            "grid_row": null,
            "max_height": null,
            "align_content": null,
            "visibility": null,
            "align_self": null,
            "height": null,
            "min_height": null,
            "padding": null,
            "grid_auto_rows": null,
            "grid_gap": null,
            "max_width": null,
            "order": null,
            "_view_module_version": "1.2.0",
            "grid_template_areas": null,
            "object_position": null,
            "object_fit": null,
            "grid_auto_columns": null,
            "margin": null,
            "display": null,
            "left": null
          }
        },
        "97391038a54149348c9b25cd61b608ef": {
          "model_module": "@jupyter-widgets/controls",
          "model_name": "ProgressStyleModel",
          "state": {
            "_view_name": "StyleView",
            "_model_name": "ProgressStyleModel",
            "description_width": "",
            "_view_module": "@jupyter-widgets/base",
            "_model_module_version": "1.5.0",
            "_view_count": null,
            "_view_module_version": "1.2.0",
            "bar_color": null,
            "_model_module": "@jupyter-widgets/controls"
          }
        },
        "ce0cdeb25d2849a5a1f0f37208c3f741": {
          "model_module": "@jupyter-widgets/base",
          "model_name": "LayoutModel",
          "state": {
            "_view_name": "LayoutView",
            "grid_template_rows": null,
            "right": null,
            "justify_content": null,
            "_view_module": "@jupyter-widgets/base",
            "overflow": null,
            "_model_module_version": "1.2.0",
            "_view_count": null,
            "flex_flow": null,
            "width": null,
            "min_width": null,
            "border": null,
            "align_items": null,
            "bottom": null,
            "_model_module": "@jupyter-widgets/base",
            "top": null,
            "grid_column": null,
            "overflow_y": null,
            "overflow_x": null,
            "grid_auto_flow": null,
            "grid_area": null,
            "grid_template_columns": null,
            "flex": null,
            "_model_name": "LayoutModel",
            "justify_items": null,
            "grid_row": null,
            "max_height": null,
            "align_content": null,
            "visibility": null,
            "align_self": null,
            "height": null,
            "min_height": null,
            "padding": null,
            "grid_auto_rows": null,
            "grid_gap": null,
            "max_width": null,
            "order": null,
            "_view_module_version": "1.2.0",
            "grid_template_areas": null,
            "object_position": null,
            "object_fit": null,
            "grid_auto_columns": null,
            "margin": null,
            "display": null,
            "left": null
          }
        },
        "3706847d00bb4deba5a556e486d2584a": {
          "model_module": "@jupyter-widgets/controls",
          "model_name": "VBoxModel",
          "state": {
            "_view_name": "VBoxView",
            "_dom_classes": [],
            "_model_name": "VBoxModel",
            "_view_module": "@jupyter-widgets/controls",
            "_model_module_version": "1.5.0",
            "_view_count": null,
            "_view_module_version": "1.5.0",
            "box_style": "",
            "layout": "IPY_MODEL_c2566d4aee1b407ab43968ddacda0962",
            "_model_module": "@jupyter-widgets/controls",
            "children": [
              "IPY_MODEL_2cdedff4f31d415d9c7f9fa9bd62822c",
              "IPY_MODEL_87ff4871d2d1473ba2aeb39efd8b885c"
            ]
          }
        },
        "c2566d4aee1b407ab43968ddacda0962": {
          "model_module": "@jupyter-widgets/base",
          "model_name": "LayoutModel",
          "state": {
            "_view_name": "LayoutView",
            "grid_template_rows": null,
            "right": null,
            "justify_content": null,
            "_view_module": "@jupyter-widgets/base",
            "overflow": null,
            "_model_module_version": "1.2.0",
            "_view_count": null,
            "flex_flow": null,
            "width": null,
            "min_width": null,
            "border": null,
            "align_items": null,
            "bottom": null,
            "_model_module": "@jupyter-widgets/base",
            "top": null,
            "grid_column": null,
            "overflow_y": null,
            "overflow_x": null,
            "grid_auto_flow": null,
            "grid_area": null,
            "grid_template_columns": null,
            "flex": null,
            "_model_name": "LayoutModel",
            "justify_items": null,
            "grid_row": null,
            "max_height": null,
            "align_content": null,
            "visibility": null,
            "align_self": null,
            "height": null,
            "min_height": null,
            "padding": null,
            "grid_auto_rows": null,
            "grid_gap": null,
            "max_width": null,
            "order": null,
            "_view_module_version": "1.2.0",
            "grid_template_areas": null,
            "object_position": null,
            "object_fit": null,
            "grid_auto_columns": null,
            "margin": null,
            "display": null,
            "left": null
          }
        },
        "2cdedff4f31d415d9c7f9fa9bd62822c": {
          "model_module": "@jupyter-widgets/controls",
          "model_name": "LabelModel",
          "state": {
            "_view_name": "LabelView",
            "style": "IPY_MODEL_33dddd12a93b49a9a2f4606605fad462",
            "_dom_classes": [],
            "description": "",
            "_model_name": "LabelModel",
            "placeholder": "​",
            "_view_module": "@jupyter-widgets/controls",
            "_model_module_version": "1.5.0",
            "value": " 0.02MB of 0.02MB uploaded (0.00MB deduped)\r",
            "_view_count": null,
            "_view_module_version": "1.5.0",
            "description_tooltip": null,
            "_model_module": "@jupyter-widgets/controls",
            "layout": "IPY_MODEL_76a89a6587df48f1b8c1d5352a7234c0"
          }
        },
        "87ff4871d2d1473ba2aeb39efd8b885c": {
          "model_module": "@jupyter-widgets/controls",
          "model_name": "FloatProgressModel",
          "state": {
            "_view_name": "ProgressView",
            "style": "IPY_MODEL_ca0103ce57864719a35e20a0c106e1d9",
            "_dom_classes": [],
            "description": "",
            "_model_name": "FloatProgressModel",
            "bar_style": "",
            "max": 1,
            "_view_module": "@jupyter-widgets/controls",
            "_model_module_version": "1.5.0",
            "value": 1,
            "_view_count": null,
            "_view_module_version": "1.5.0",
            "orientation": "horizontal",
            "min": 0,
            "description_tooltip": null,
            "_model_module": "@jupyter-widgets/controls",
            "layout": "IPY_MODEL_dd6e1d31fe524e4e81fa388be3927e2c"
          }
        },
        "33dddd12a93b49a9a2f4606605fad462": {
          "model_module": "@jupyter-widgets/controls",
          "model_name": "DescriptionStyleModel",
          "state": {
            "_view_name": "StyleView",
            "_model_name": "DescriptionStyleModel",
            "description_width": "",
            "_view_module": "@jupyter-widgets/base",
            "_model_module_version": "1.5.0",
            "_view_count": null,
            "_view_module_version": "1.2.0",
            "_model_module": "@jupyter-widgets/controls"
          }
        },
        "76a89a6587df48f1b8c1d5352a7234c0": {
          "model_module": "@jupyter-widgets/base",
          "model_name": "LayoutModel",
          "state": {
            "_view_name": "LayoutView",
            "grid_template_rows": null,
            "right": null,
            "justify_content": null,
            "_view_module": "@jupyter-widgets/base",
            "overflow": null,
            "_model_module_version": "1.2.0",
            "_view_count": null,
            "flex_flow": null,
            "width": null,
            "min_width": null,
            "border": null,
            "align_items": null,
            "bottom": null,
            "_model_module": "@jupyter-widgets/base",
            "top": null,
            "grid_column": null,
            "overflow_y": null,
            "overflow_x": null,
            "grid_auto_flow": null,
            "grid_area": null,
            "grid_template_columns": null,
            "flex": null,
            "_model_name": "LayoutModel",
            "justify_items": null,
            "grid_row": null,
            "max_height": null,
            "align_content": null,
            "visibility": null,
            "align_self": null,
            "height": null,
            "min_height": null,
            "padding": null,
            "grid_auto_rows": null,
            "grid_gap": null,
            "max_width": null,
            "order": null,
            "_view_module_version": "1.2.0",
            "grid_template_areas": null,
            "object_position": null,
            "object_fit": null,
            "grid_auto_columns": null,
            "margin": null,
            "display": null,
            "left": null
          }
        },
        "ca0103ce57864719a35e20a0c106e1d9": {
          "model_module": "@jupyter-widgets/controls",
          "model_name": "ProgressStyleModel",
          "state": {
            "_view_name": "StyleView",
            "_model_name": "ProgressStyleModel",
            "description_width": "",
            "_view_module": "@jupyter-widgets/base",
            "_model_module_version": "1.5.0",
            "_view_count": null,
            "_view_module_version": "1.2.0",
            "bar_color": null,
            "_model_module": "@jupyter-widgets/controls"
          }
        },
        "dd6e1d31fe524e4e81fa388be3927e2c": {
          "model_module": "@jupyter-widgets/base",
          "model_name": "LayoutModel",
          "state": {
            "_view_name": "LayoutView",
            "grid_template_rows": null,
            "right": null,
            "justify_content": null,
            "_view_module": "@jupyter-widgets/base",
            "overflow": null,
            "_model_module_version": "1.2.0",
            "_view_count": null,
            "flex_flow": null,
            "width": null,
            "min_width": null,
            "border": null,
            "align_items": null,
            "bottom": null,
            "_model_module": "@jupyter-widgets/base",
            "top": null,
            "grid_column": null,
            "overflow_y": null,
            "overflow_x": null,
            "grid_auto_flow": null,
            "grid_area": null,
            "grid_template_columns": null,
            "flex": null,
            "_model_name": "LayoutModel",
            "justify_items": null,
            "grid_row": null,
            "max_height": null,
            "align_content": null,
            "visibility": null,
            "align_self": null,
            "height": null,
            "min_height": null,
            "padding": null,
            "grid_auto_rows": null,
            "grid_gap": null,
            "max_width": null,
            "order": null,
            "_view_module_version": "1.2.0",
            "grid_template_areas": null,
            "object_position": null,
            "object_fit": null,
            "grid_auto_columns": null,
            "margin": null,
            "display": null,
            "left": null
          }
        },
        "3ed06e5c11da4b85af44b26cbe5eb64e": {
          "model_module": "@jupyter-widgets/controls",
          "model_name": "VBoxModel",
          "state": {
            "_view_name": "VBoxView",
            "_dom_classes": [],
            "_model_name": "VBoxModel",
            "_view_module": "@jupyter-widgets/controls",
            "_model_module_version": "1.5.0",
            "_view_count": null,
            "_view_module_version": "1.5.0",
            "box_style": "",
            "layout": "IPY_MODEL_cd50146f3f534550ae378ac8fe73e036",
            "_model_module": "@jupyter-widgets/controls",
            "children": [
              "IPY_MODEL_786a3d4fe0914a40b5dace3cbd6f91b2",
              "IPY_MODEL_c9c71df1f5b64f3c8623c60b58d4cbf0"
            ]
          }
        },
        "cd50146f3f534550ae378ac8fe73e036": {
          "model_module": "@jupyter-widgets/base",
          "model_name": "LayoutModel",
          "state": {
            "_view_name": "LayoutView",
            "grid_template_rows": null,
            "right": null,
            "justify_content": null,
            "_view_module": "@jupyter-widgets/base",
            "overflow": null,
            "_model_module_version": "1.2.0",
            "_view_count": null,
            "flex_flow": null,
            "width": null,
            "min_width": null,
            "border": null,
            "align_items": null,
            "bottom": null,
            "_model_module": "@jupyter-widgets/base",
            "top": null,
            "grid_column": null,
            "overflow_y": null,
            "overflow_x": null,
            "grid_auto_flow": null,
            "grid_area": null,
            "grid_template_columns": null,
            "flex": null,
            "_model_name": "LayoutModel",
            "justify_items": null,
            "grid_row": null,
            "max_height": null,
            "align_content": null,
            "visibility": null,
            "align_self": null,
            "height": null,
            "min_height": null,
            "padding": null,
            "grid_auto_rows": null,
            "grid_gap": null,
            "max_width": null,
            "order": null,
            "_view_module_version": "1.2.0",
            "grid_template_areas": null,
            "object_position": null,
            "object_fit": null,
            "grid_auto_columns": null,
            "margin": null,
            "display": null,
            "left": null
          }
        },
        "786a3d4fe0914a40b5dace3cbd6f91b2": {
          "model_module": "@jupyter-widgets/controls",
          "model_name": "LabelModel",
          "state": {
            "_view_name": "LabelView",
            "style": "IPY_MODEL_ac2a105d95524944a1170c8613e2e425",
            "_dom_classes": [],
            "description": "",
            "_model_name": "LabelModel",
            "placeholder": "​",
            "_view_module": "@jupyter-widgets/controls",
            "_model_module_version": "1.5.0",
            "value": " 0.01MB of 0.01MB uploaded (0.00MB deduped)\r",
            "_view_count": null,
            "_view_module_version": "1.5.0",
            "description_tooltip": null,
            "_model_module": "@jupyter-widgets/controls",
            "layout": "IPY_MODEL_aeaf2819f82e4c8a8c354f9045ddc4f4"
          }
        },
        "c9c71df1f5b64f3c8623c60b58d4cbf0": {
          "model_module": "@jupyter-widgets/controls",
          "model_name": "FloatProgressModel",
          "state": {
            "_view_name": "ProgressView",
            "style": "IPY_MODEL_433500af980d40baa5fc1b8cb3d823b0",
            "_dom_classes": [],
            "description": "",
            "_model_name": "FloatProgressModel",
            "bar_style": "",
            "max": 1,
            "_view_module": "@jupyter-widgets/controls",
            "_model_module_version": "1.5.0",
            "value": 1,
            "_view_count": null,
            "_view_module_version": "1.5.0",
            "orientation": "horizontal",
            "min": 0,
            "description_tooltip": null,
            "_model_module": "@jupyter-widgets/controls",
            "layout": "IPY_MODEL_c2f8970e84214049bd4556b4e710075b"
          }
        },
        "ac2a105d95524944a1170c8613e2e425": {
          "model_module": "@jupyter-widgets/controls",
          "model_name": "DescriptionStyleModel",
          "state": {
            "_view_name": "StyleView",
            "_model_name": "DescriptionStyleModel",
            "description_width": "",
            "_view_module": "@jupyter-widgets/base",
            "_model_module_version": "1.5.0",
            "_view_count": null,
            "_view_module_version": "1.2.0",
            "_model_module": "@jupyter-widgets/controls"
          }
        },
        "aeaf2819f82e4c8a8c354f9045ddc4f4": {
          "model_module": "@jupyter-widgets/base",
          "model_name": "LayoutModel",
          "state": {
            "_view_name": "LayoutView",
            "grid_template_rows": null,
            "right": null,
            "justify_content": null,
            "_view_module": "@jupyter-widgets/base",
            "overflow": null,
            "_model_module_version": "1.2.0",
            "_view_count": null,
            "flex_flow": null,
            "width": null,
            "min_width": null,
            "border": null,
            "align_items": null,
            "bottom": null,
            "_model_module": "@jupyter-widgets/base",
            "top": null,
            "grid_column": null,
            "overflow_y": null,
            "overflow_x": null,
            "grid_auto_flow": null,
            "grid_area": null,
            "grid_template_columns": null,
            "flex": null,
            "_model_name": "LayoutModel",
            "justify_items": null,
            "grid_row": null,
            "max_height": null,
            "align_content": null,
            "visibility": null,
            "align_self": null,
            "height": null,
            "min_height": null,
            "padding": null,
            "grid_auto_rows": null,
            "grid_gap": null,
            "max_width": null,
            "order": null,
            "_view_module_version": "1.2.0",
            "grid_template_areas": null,
            "object_position": null,
            "object_fit": null,
            "grid_auto_columns": null,
            "margin": null,
            "display": null,
            "left": null
          }
        },
        "433500af980d40baa5fc1b8cb3d823b0": {
          "model_module": "@jupyter-widgets/controls",
          "model_name": "ProgressStyleModel",
          "state": {
            "_view_name": "StyleView",
            "_model_name": "ProgressStyleModel",
            "description_width": "",
            "_view_module": "@jupyter-widgets/base",
            "_model_module_version": "1.5.0",
            "_view_count": null,
            "_view_module_version": "1.2.0",
            "bar_color": null,
            "_model_module": "@jupyter-widgets/controls"
          }
        },
        "c2f8970e84214049bd4556b4e710075b": {
          "model_module": "@jupyter-widgets/base",
          "model_name": "LayoutModel",
          "state": {
            "_view_name": "LayoutView",
            "grid_template_rows": null,
            "right": null,
            "justify_content": null,
            "_view_module": "@jupyter-widgets/base",
            "overflow": null,
            "_model_module_version": "1.2.0",
            "_view_count": null,
            "flex_flow": null,
            "width": null,
            "min_width": null,
            "border": null,
            "align_items": null,
            "bottom": null,
            "_model_module": "@jupyter-widgets/base",
            "top": null,
            "grid_column": null,
            "overflow_y": null,
            "overflow_x": null,
            "grid_auto_flow": null,
            "grid_area": null,
            "grid_template_columns": null,
            "flex": null,
            "_model_name": "LayoutModel",
            "justify_items": null,
            "grid_row": null,
            "max_height": null,
            "align_content": null,
            "visibility": null,
            "align_self": null,
            "height": null,
            "min_height": null,
            "padding": null,
            "grid_auto_rows": null,
            "grid_gap": null,
            "max_width": null,
            "order": null,
            "_view_module_version": "1.2.0",
            "grid_template_areas": null,
            "object_position": null,
            "object_fit": null,
            "grid_auto_columns": null,
            "margin": null,
            "display": null,
            "left": null
          }
        },
        "dd804d093b6045b3a1aea92e00728339": {
          "model_module": "@jupyter-widgets/controls",
          "model_name": "VBoxModel",
          "state": {
            "_view_name": "VBoxView",
            "_dom_classes": [],
            "_model_name": "VBoxModel",
            "_view_module": "@jupyter-widgets/controls",
            "_model_module_version": "1.5.0",
            "_view_count": null,
            "_view_module_version": "1.5.0",
            "box_style": "",
            "layout": "IPY_MODEL_c2b3634793b541b4b1ec17e758635caf",
            "_model_module": "@jupyter-widgets/controls",
            "children": [
              "IPY_MODEL_b1bb0ae8f4a1498b86d1fdd7813d23dd",
              "IPY_MODEL_b846ddd82e3a4c70a7fd6e6bdb450468"
            ]
          }
        },
        "c2b3634793b541b4b1ec17e758635caf": {
          "model_module": "@jupyter-widgets/base",
          "model_name": "LayoutModel",
          "state": {
            "_view_name": "LayoutView",
            "grid_template_rows": null,
            "right": null,
            "justify_content": null,
            "_view_module": "@jupyter-widgets/base",
            "overflow": null,
            "_model_module_version": "1.2.0",
            "_view_count": null,
            "flex_flow": null,
            "width": null,
            "min_width": null,
            "border": null,
            "align_items": null,
            "bottom": null,
            "_model_module": "@jupyter-widgets/base",
            "top": null,
            "grid_column": null,
            "overflow_y": null,
            "overflow_x": null,
            "grid_auto_flow": null,
            "grid_area": null,
            "grid_template_columns": null,
            "flex": null,
            "_model_name": "LayoutModel",
            "justify_items": null,
            "grid_row": null,
            "max_height": null,
            "align_content": null,
            "visibility": null,
            "align_self": null,
            "height": null,
            "min_height": null,
            "padding": null,
            "grid_auto_rows": null,
            "grid_gap": null,
            "max_width": null,
            "order": null,
            "_view_module_version": "1.2.0",
            "grid_template_areas": null,
            "object_position": null,
            "object_fit": null,
            "grid_auto_columns": null,
            "margin": null,
            "display": null,
            "left": null
          }
        },
        "b1bb0ae8f4a1498b86d1fdd7813d23dd": {
          "model_module": "@jupyter-widgets/controls",
          "model_name": "LabelModel",
          "state": {
            "_view_name": "LabelView",
            "style": "IPY_MODEL_fbf7fcc0e17342a5917f2adaa70e4fb2",
            "_dom_classes": [],
            "description": "",
            "_model_name": "LabelModel",
            "placeholder": "​",
            "_view_module": "@jupyter-widgets/controls",
            "_model_module_version": "1.5.0",
            "value": " 0.01MB of 0.01MB uploaded (0.00MB deduped)\r",
            "_view_count": null,
            "_view_module_version": "1.5.0",
            "description_tooltip": null,
            "_model_module": "@jupyter-widgets/controls",
            "layout": "IPY_MODEL_908f47b4892c4bd0ab8cb4e9b419646d"
          }
        },
        "b846ddd82e3a4c70a7fd6e6bdb450468": {
          "model_module": "@jupyter-widgets/controls",
          "model_name": "FloatProgressModel",
          "state": {
            "_view_name": "ProgressView",
            "style": "IPY_MODEL_4cbda0c38efd4bd2921bcb0a1cfbadc2",
            "_dom_classes": [],
            "description": "",
            "_model_name": "FloatProgressModel",
            "bar_style": "",
            "max": 1,
            "_view_module": "@jupyter-widgets/controls",
            "_model_module_version": "1.5.0",
            "value": 1,
            "_view_count": null,
            "_view_module_version": "1.5.0",
            "orientation": "horizontal",
            "min": 0,
            "description_tooltip": null,
            "_model_module": "@jupyter-widgets/controls",
            "layout": "IPY_MODEL_fed1955b84814766bf8ac0f6fcbee23f"
          }
        },
        "fbf7fcc0e17342a5917f2adaa70e4fb2": {
          "model_module": "@jupyter-widgets/controls",
          "model_name": "DescriptionStyleModel",
          "state": {
            "_view_name": "StyleView",
            "_model_name": "DescriptionStyleModel",
            "description_width": "",
            "_view_module": "@jupyter-widgets/base",
            "_model_module_version": "1.5.0",
            "_view_count": null,
            "_view_module_version": "1.2.0",
            "_model_module": "@jupyter-widgets/controls"
          }
        },
        "908f47b4892c4bd0ab8cb4e9b419646d": {
          "model_module": "@jupyter-widgets/base",
          "model_name": "LayoutModel",
          "state": {
            "_view_name": "LayoutView",
            "grid_template_rows": null,
            "right": null,
            "justify_content": null,
            "_view_module": "@jupyter-widgets/base",
            "overflow": null,
            "_model_module_version": "1.2.0",
            "_view_count": null,
            "flex_flow": null,
            "width": null,
            "min_width": null,
            "border": null,
            "align_items": null,
            "bottom": null,
            "_model_module": "@jupyter-widgets/base",
            "top": null,
            "grid_column": null,
            "overflow_y": null,
            "overflow_x": null,
            "grid_auto_flow": null,
            "grid_area": null,
            "grid_template_columns": null,
            "flex": null,
            "_model_name": "LayoutModel",
            "justify_items": null,
            "grid_row": null,
            "max_height": null,
            "align_content": null,
            "visibility": null,
            "align_self": null,
            "height": null,
            "min_height": null,
            "padding": null,
            "grid_auto_rows": null,
            "grid_gap": null,
            "max_width": null,
            "order": null,
            "_view_module_version": "1.2.0",
            "grid_template_areas": null,
            "object_position": null,
            "object_fit": null,
            "grid_auto_columns": null,
            "margin": null,
            "display": null,
            "left": null
          }
        },
        "4cbda0c38efd4bd2921bcb0a1cfbadc2": {
          "model_module": "@jupyter-widgets/controls",
          "model_name": "ProgressStyleModel",
          "state": {
            "_view_name": "StyleView",
            "_model_name": "ProgressStyleModel",
            "description_width": "",
            "_view_module": "@jupyter-widgets/base",
            "_model_module_version": "1.5.0",
            "_view_count": null,
            "_view_module_version": "1.2.0",
            "bar_color": null,
            "_model_module": "@jupyter-widgets/controls"
          }
        },
        "fed1955b84814766bf8ac0f6fcbee23f": {
          "model_module": "@jupyter-widgets/base",
          "model_name": "LayoutModel",
          "state": {
            "_view_name": "LayoutView",
            "grid_template_rows": null,
            "right": null,
            "justify_content": null,
            "_view_module": "@jupyter-widgets/base",
            "overflow": null,
            "_model_module_version": "1.2.0",
            "_view_count": null,
            "flex_flow": null,
            "width": null,
            "min_width": null,
            "border": null,
            "align_items": null,
            "bottom": null,
            "_model_module": "@jupyter-widgets/base",
            "top": null,
            "grid_column": null,
            "overflow_y": null,
            "overflow_x": null,
            "grid_auto_flow": null,
            "grid_area": null,
            "grid_template_columns": null,
            "flex": null,
            "_model_name": "LayoutModel",
            "justify_items": null,
            "grid_row": null,
            "max_height": null,
            "align_content": null,
            "visibility": null,
            "align_self": null,
            "height": null,
            "min_height": null,
            "padding": null,
            "grid_auto_rows": null,
            "grid_gap": null,
            "max_width": null,
            "order": null,
            "_view_module_version": "1.2.0",
            "grid_template_areas": null,
            "object_position": null,
            "object_fit": null,
            "grid_auto_columns": null,
            "margin": null,
            "display": null,
            "left": null
          }
        }
      }
    },
    "accelerator": "GPU"
  },
  "cells": [
    {
      "cell_type": "markdown",
      "metadata": {
        "id": "3SnrP1yHkiid"
      },
      "source": [
        "Creating dataset and dataloaders"
      ]
    },
    {
      "cell_type": "code",
      "metadata": {
        "colab": {
          "base_uri": "https://localhost:8080/"
        },
        "id": "Gp0vxYT754un",
        "outputId": "5cd05b50-c963-4da4-cc9c-b18a246bc83a"
      },
      "source": [
        "from torch.utils.data import Dataset\n",
        "from pathlib import Path\n",
        "import cv2\n",
        "from PIL import Image\n",
        "import numpy as np\n",
        "import os\n",
        "import albumentations as A\n",
        "from torchvision.transforms import *\n",
        "from torch.utils.data.dataset import random_split\n",
        "from torch.utils.data import DataLoader\n",
        "import torch\n",
        "\n",
        "class VascularDataset(Dataset):\n",
        "    \"\"\"\n",
        "    Dataset class for the vascular dataset:\n",
        "    \"\"\"\n",
        "    def __init__(self,\n",
        "                 folder_path,\n",
        "                 transform=None):\n",
        "        super(VascularDataset, self).__init__()\n",
        "        self.folder_path=folder_path\n",
        "        self.images = self.build_dataset()\n",
        "        self.mean_normalization=(0.485, 0.456, 0.406)\n",
        "        self.std_normalization=(0.229, 0.224, 0.225)\n",
        "        self.totensor=ToTensor()\n",
        "        self.resize=Compose([Resize(224)])\n",
        "\n",
        "    def build_dataset(self):\n",
        "        #imgs = sorted(Path(self.folder_path).glob(\"**/[!*seg*]*.png\"))\n",
        "        imgs = [path for path in sorted(Path(self.folder_path).glob(\"**/*.png\")) if 'seg' not in str(path).split('/')[-1]]\n",
        "        return imgs\n",
        "\n",
        "    def __len__(self):\n",
        "        return len(self.images)\n",
        "\n",
        "    def __getitem__(self, index):\n",
        "\n",
        "        img_path = str(self.images[index])\n",
        "        img = cv2.imread(img_path)\n",
        "        img = cv2.cvtColor(img, cv2.COLOR_BGR2RGB)\n",
        "        img=self.resize(Image.fromarray(img))\n",
        "        img=self.totensor(img)\n",
        "\n",
        "        if 'crop' in img_path:\n",
        "          seg_path = img_path.replace('crop', 'seg_crop')\n",
        "          \n",
        "          try:\n",
        "              seg = Image.open(seg_path)\n",
        "          except FileNotFoundError:\n",
        "            try:\n",
        "              seg_path=seg_path.replace('seg_crop','segmentation_crop')\n",
        "              seg = Image.open(seg_path)\n",
        "            except FileNotFoundError:\n",
        "              seg_path=seg_path.replace('segmentation_crop','segmentation-crop')\n",
        "              seg = Image.open(seg_path)\n",
        "        else:\n",
        "          seg_path=img_path.replace('img','seg')\n",
        "          seg = Image.open(seg_path)\n",
        "\n",
        "        seg = seg.convert('RGB')    # remove the transparent portion of the image\n",
        "        seg = seg.convert('L')      # from RGB to black and white\n",
        "        seg=self.resize(seg)      \n",
        "        seg = seg.point(lambda x: 0 if x < 1 else 255.0, '1')\n",
        "        seg = np.array(seg, dtype=np.float32)  # equivalent to a cv2 image\n",
        "        seg = np.expand_dims(seg, axis=0)\n",
        "        '''\n",
        "        if self.transform:\n",
        "            transformed = self.transform(image=img, mask=seg)\n",
        "            img = transformed['image']\n",
        "            seg = transformed['mask']\n",
        "        '''\n",
        "        return img, seg\n",
        "\n",
        "def connect_to_drive():\n",
        "  from google.colab import drive\n",
        "  drive.mount('/content/gdrive', force_remount=True)\n",
        "\n",
        "def split_dataset_into_train_and_valid(dataset, percentage_train):\n",
        "  lengths = [int(len(dataset)*percentage_train), len(dataset)-int(len(dataset)*percentage_train)]\n",
        "  train_dataset, valid_dataset = random_split(dataset, lengths)\n",
        "  return train_dataset, valid_dataset\n",
        "\n",
        "\n",
        "connect_to_drive()\n",
        "\n",
        "import random\n",
        "torch.manual_seed(0)\n",
        "random.seed(0)\n",
        "\n",
        "input_path_training='/content/gdrive/.shortcut-targets-by-id/1mtNVywqwmtCBefeGQrY2c6F6xBQQWq30/vascular_segmentation/Train'\n",
        "training_dataset=VascularDataset(input_path_training)\n",
        "\n",
        "input_path_test='/content/gdrive/.shortcut-targets-by-id/1mtNVywqwmtCBefeGQrY2c6F6xBQQWq30/vascular_segmentation/Test'\n",
        "test_dataset=VascularDataset(input_path_test)\n",
        "\n",
        "save_model_folder='/content/gdrive/'\n",
        "\n",
        "percentage_train=0.8\n",
        "train_dataset, valid_dataset=split_dataset_into_train_and_valid(training_dataset, percentage_train)\n",
        "\n",
        "batch_size=32\n",
        "\n",
        "print(f'Training dataset length: {len(train_dataset)}')\n",
        "print(f'Validation dataset length: {len(valid_dataset)}')\n",
        "print(f'Test dataset length: {len(test_dataset)}')\n",
        "\n",
        "train_dataloader=DataLoader(train_dataset, batch_size=batch_size,num_workers=1, shuffle=True, pin_memory=True)\n",
        "valid_dataloader=DataLoader(valid_dataset, batch_size=batch_size, shuffle=False, num_workers=1, pin_memory=True)\n",
        "test_dataloader=DataLoader(test_dataset, batch_size=batch_size, shuffle=False, num_workers=1)"
      ],
      "execution_count": null,
      "outputs": [
        {
          "output_type": "stream",
          "text": [
            "Mounted at /content/gdrive\n",
            "Training dataset length: 160\n",
            "Validation dataset length: 40\n",
            "Test dataset length: 10\n"
          ],
          "name": "stdout"
        }
      ]
    },
    {
      "cell_type": "markdown",
      "metadata": {
        "id": "9fjAMf0_ktot"
      },
      "source": [
        "Initializing Wandb and defining hyperparameters"
      ]
    },
    {
      "cell_type": "code",
      "metadata": {
        "colab": {
          "base_uri": "https://localhost:8080/",
          "height": 1000,
          "referenced_widgets": [
            "3996b1e30fa34a77a444108a8425262e",
            "61ac8b7998ea4884a311f63c7df88b4a",
            "9dda845fab39479da1128b2567d5f740",
            "e488aa2dbf9e4c9095b9caf6f481127c",
            "685c8d58bc9e44469d6b933078835181",
            "77281b16f9ed49bdab6c1a335fc3a913",
            "97391038a54149348c9b25cd61b608ef",
            "ce0cdeb25d2849a5a1f0f37208c3f741"
          ]
        },
        "id": "pTmrm7be6ALp",
        "outputId": "4382351e-72b4-4c27-b472-8aa96ff03afb"
      },
      "source": [
        "!pip install segmentation-models-pytorch\n",
        "import segmentation_models_pytorch as smp\n",
        "#import collections.abc as container_abcs\n",
        "\n",
        "!pip install wandb\n",
        "import wandb\n",
        "wandb.init(project=\"2\")\n",
        "\n",
        "from torch.optim.lr_scheduler import StepLR\n",
        "\n",
        "def register_wandb_config(model_type, n_epochs, lr_config, encoder_type, optimizer_config, step_size, gamma, number_of_crops_each_image):\n",
        "  wandb.config.model_type = model_type\n",
        "  wandb.config.epochs = n_epochs\n",
        "  wandb.config.learning_rate = lr_config\n",
        "  wandb.config.encoder = encoder_type\n",
        "  wandb.config.optimizer = optimizer_config\n",
        "  wandb.config.step_size = step_size\n",
        "  wandb.config.gamma = gamma\n",
        "  wandb.config.number_of_crops_each_image = number_of_crops_each_image\n",
        "\n",
        "lr_config=0.5\n",
        "optimizer_config = 'SGD'\n",
        "n_epochs=50\n",
        "encoder_type='resnet18'\n",
        "model_type='Unet'\n",
        "step_size=5\n",
        "gamma=0.1\n",
        "number_of_crops_each_image=1\n",
        "\n",
        "save_model_path='/content/gdrive/MyDrive/Saved_models/'+model_type+'/'+wandb.run.name\n",
        "print(f'Path for model saving: {save_model_path}')\n",
        "\n",
        "register_wandb_config(model_type, n_epochs, lr_config, encoder_type, optimizer_config, step_size, gamma, number_of_crops_each_image)"
      ],
      "execution_count": null,
      "outputs": [
        {
          "output_type": "stream",
          "text": [
            "Requirement already satisfied: segmentation-models-pytorch in /usr/local/lib/python3.7/dist-packages (0.1.3)\n",
            "Requirement already satisfied: efficientnet-pytorch==0.6.3 in /usr/local/lib/python3.7/dist-packages (from segmentation-models-pytorch) (0.6.3)\n",
            "Requirement already satisfied: timm==0.3.2 in /usr/local/lib/python3.7/dist-packages (from segmentation-models-pytorch) (0.3.2)\n",
            "Requirement already satisfied: pretrainedmodels==0.7.4 in /usr/local/lib/python3.7/dist-packages (from segmentation-models-pytorch) (0.7.4)\n",
            "Requirement already satisfied: torchvision>=0.3.0 in /usr/local/lib/python3.7/dist-packages (from segmentation-models-pytorch) (0.10.0+cu102)\n",
            "Requirement already satisfied: torch in /usr/local/lib/python3.7/dist-packages (from efficientnet-pytorch==0.6.3->segmentation-models-pytorch) (1.9.0+cu102)\n",
            "Requirement already satisfied: munch in /usr/local/lib/python3.7/dist-packages (from pretrainedmodels==0.7.4->segmentation-models-pytorch) (2.5.0)\n",
            "Requirement already satisfied: tqdm in /usr/local/lib/python3.7/dist-packages (from pretrainedmodels==0.7.4->segmentation-models-pytorch) (4.41.1)\n",
            "Requirement already satisfied: numpy in /usr/local/lib/python3.7/dist-packages (from torchvision>=0.3.0->segmentation-models-pytorch) (1.19.5)\n",
            "Requirement already satisfied: pillow>=5.3.0 in /usr/local/lib/python3.7/dist-packages (from torchvision>=0.3.0->segmentation-models-pytorch) (7.1.2)\n",
            "Requirement already satisfied: typing-extensions in /usr/local/lib/python3.7/dist-packages (from torch->efficientnet-pytorch==0.6.3->segmentation-models-pytorch) (3.7.4.3)\n",
            "Requirement already satisfied: six in /usr/local/lib/python3.7/dist-packages (from munch->pretrainedmodels==0.7.4->segmentation-models-pytorch) (1.15.0)\n",
            "Requirement already satisfied: wandb in /usr/local/lib/python3.7/dist-packages (0.10.33)\n",
            "Requirement already satisfied: python-dateutil>=2.6.1 in /usr/local/lib/python3.7/dist-packages (from wandb) (2.8.1)\n",
            "Requirement already satisfied: Click!=8.0.0,>=7.0 in /usr/local/lib/python3.7/dist-packages (from wandb) (7.1.2)\n",
            "Requirement already satisfied: configparser>=3.8.1 in /usr/local/lib/python3.7/dist-packages (from wandb) (5.0.2)\n",
            "Requirement already satisfied: requests<3,>=2.0.0 in /usr/local/lib/python3.7/dist-packages (from wandb) (2.23.0)\n",
            "Requirement already satisfied: sentry-sdk>=0.4.0 in /usr/local/lib/python3.7/dist-packages (from wandb) (1.1.0)\n",
            "Requirement already satisfied: docker-pycreds>=0.4.0 in /usr/local/lib/python3.7/dist-packages (from wandb) (0.4.0)\n",
            "Requirement already satisfied: PyYAML in /usr/local/lib/python3.7/dist-packages (from wandb) (3.13)\n",
            "Requirement already satisfied: psutil>=5.0.0 in /usr/local/lib/python3.7/dist-packages (from wandb) (5.4.8)\n",
            "Requirement already satisfied: pathtools in /usr/local/lib/python3.7/dist-packages (from wandb) (0.1.2)\n",
            "Requirement already satisfied: GitPython>=1.0.0 in /usr/local/lib/python3.7/dist-packages (from wandb) (3.1.18)\n",
            "Requirement already satisfied: six>=1.13.0 in /usr/local/lib/python3.7/dist-packages (from wandb) (1.15.0)\n",
            "Requirement already satisfied: promise<3,>=2.0 in /usr/local/lib/python3.7/dist-packages (from wandb) (2.3)\n",
            "Requirement already satisfied: protobuf>=3.12.0 in /usr/local/lib/python3.7/dist-packages (from wandb) (3.12.4)\n",
            "Requirement already satisfied: shortuuid>=0.5.0 in /usr/local/lib/python3.7/dist-packages (from wandb) (1.0.1)\n",
            "Requirement already satisfied: subprocess32>=3.5.3 in /usr/local/lib/python3.7/dist-packages (from wandb) (3.5.4)\n",
            "Requirement already satisfied: urllib3!=1.25.0,!=1.25.1,<1.26,>=1.21.1 in /usr/local/lib/python3.7/dist-packages (from requests<3,>=2.0.0->wandb) (1.24.3)\n",
            "Requirement already satisfied: idna<3,>=2.5 in /usr/local/lib/python3.7/dist-packages (from requests<3,>=2.0.0->wandb) (2.10)\n",
            "Requirement already satisfied: certifi>=2017.4.17 in /usr/local/lib/python3.7/dist-packages (from requests<3,>=2.0.0->wandb) (2021.5.30)\n",
            "Requirement already satisfied: chardet<4,>=3.0.2 in /usr/local/lib/python3.7/dist-packages (from requests<3,>=2.0.0->wandb) (3.0.4)\n",
            "Requirement already satisfied: gitdb<5,>=4.0.1 in /usr/local/lib/python3.7/dist-packages (from GitPython>=1.0.0->wandb) (4.0.7)\n",
            "Requirement already satisfied: typing-extensions>=3.7.4.0; python_version < \"3.8\" in /usr/local/lib/python3.7/dist-packages (from GitPython>=1.0.0->wandb) (3.7.4.3)\n",
            "Requirement already satisfied: setuptools in /usr/local/lib/python3.7/dist-packages (from protobuf>=3.12.0->wandb) (57.0.0)\n",
            "Requirement already satisfied: smmap<5,>=3.0.1 in /usr/local/lib/python3.7/dist-packages (from gitdb<5,>=4.0.1->GitPython>=1.0.0->wandb) (4.0.0)\n"
          ],
          "name": "stdout"
        },
        {
          "output_type": "display_data",
          "data": {
            "text/html": [
              "Finishing last run (ID:1szg0hus) before initializing another..."
            ],
            "text/plain": [
              "<IPython.core.display.HTML object>"
            ]
          },
          "metadata": {
            "tags": []
          }
        },
        {
          "output_type": "display_data",
          "data": {
            "text/html": [
              "<br/>Waiting for W&B process to finish, PID 1486<br/>Program ended successfully."
            ],
            "text/plain": [
              "<IPython.core.display.HTML object>"
            ]
          },
          "metadata": {
            "tags": []
          }
        },
        {
          "output_type": "display_data",
          "data": {
            "application/vnd.jupyter.widget-view+json": {
              "model_id": "3996b1e30fa34a77a444108a8425262e",
              "version_minor": 0,
              "version_major": 2
            },
            "text/plain": [
              "VBox(children=(Label(value=' 0.00MB of 0.00MB uploaded (0.00MB deduped)\\r'), FloatProgress(value=1.0, max=1.0)…"
            ]
          },
          "metadata": {
            "tags": []
          }
        },
        {
          "output_type": "display_data",
          "data": {
            "text/html": [
              "Find user logs for this run at: <code>/content/wandb/run-20210704_172524-1szg0hus/logs/debug.log</code>"
            ],
            "text/plain": [
              "<IPython.core.display.HTML object>"
            ]
          },
          "metadata": {
            "tags": []
          }
        },
        {
          "output_type": "display_data",
          "data": {
            "text/html": [
              "Find internal logs for this run at: <code>/content/wandb/run-20210704_172524-1szg0hus/logs/debug-internal.log</code>"
            ],
            "text/plain": [
              "<IPython.core.display.HTML object>"
            ]
          },
          "metadata": {
            "tags": []
          }
        },
        {
          "output_type": "display_data",
          "data": {
            "text/html": [
              "<h3>Run summary:</h3><br/><style>\n",
              "    table.wandb td:nth-child(1) { padding: 0 10px; text-align: right }\n",
              "    </style><table class=\"wandb\">\n",
              "<tr><td>training loss</td><td>0.0199</td></tr><tr><td>_runtime</td><td>119</td></tr><tr><td>_timestamp</td><td>1625419646</td></tr><tr><td>_step</td><td>11</td></tr><tr><td>training iou</td><td>0.00131</td></tr><tr><td>validation loss</td><td>57716.43125</td></tr><tr><td>validation iou</td><td>0.0</td></tr></table>"
            ],
            "text/plain": [
              "<IPython.core.display.HTML object>"
            ]
          },
          "metadata": {
            "tags": []
          }
        },
        {
          "output_type": "display_data",
          "data": {
            "text/html": [
              "<h3>Run history:</h3><br/><style>\n",
              "    table.wandb td:nth-child(1) { padding: 0 10px; text-align: right }\n",
              "    </style><table class=\"wandb\">\n",
              "<tr><td>training loss</td><td>█▁▁</td></tr><tr><td>_runtime</td><td>▁▁▂▂▄▄▅▅▇▇██</td></tr><tr><td>_timestamp</td><td>▁▁▂▂▄▄▅▅▇▇██</td></tr><tr><td>_step</td><td>▁▂▂▃▄▄▅▅▆▇▇█</td></tr><tr><td>training iou</td><td>█▁▁</td></tr><tr><td>validation loss</td><td>█▁▁</td></tr><tr><td>validation iou</td><td>▁▁▁</td></tr></table><br/>"
            ],
            "text/plain": [
              "<IPython.core.display.HTML object>"
            ]
          },
          "metadata": {
            "tags": []
          }
        },
        {
          "output_type": "display_data",
          "data": {
            "text/html": [
              "Synced 5 W&B file(s), 0 media file(s), 0 artifact file(s) and 0 other file(s)"
            ],
            "text/plain": [
              "<IPython.core.display.HTML object>"
            ]
          },
          "metadata": {
            "tags": []
          }
        },
        {
          "output_type": "display_data",
          "data": {
            "text/html": [
              "\n",
              "                    <br/>Synced <strong style=\"color:#cdcd00\">avid-wildflower-6</strong>: <a href=\"https://wandb.ai/emanuelefasce/2/runs/1szg0hus\" target=\"_blank\">https://wandb.ai/emanuelefasce/2/runs/1szg0hus</a><br/>\n",
              "                "
            ],
            "text/plain": [
              "<IPython.core.display.HTML object>"
            ]
          },
          "metadata": {
            "tags": []
          }
        },
        {
          "output_type": "display_data",
          "data": {
            "text/html": [
              "...Successfully finished last run (ID:1szg0hus). Initializing new run:<br/><br/>"
            ],
            "text/plain": [
              "<IPython.core.display.HTML object>"
            ]
          },
          "metadata": {
            "tags": []
          }
        },
        {
          "output_type": "display_data",
          "data": {
            "text/html": [
              "\n",
              "                Tracking run with wandb version 0.10.33<br/>\n",
              "                Syncing run <strong style=\"color:#cdcd00\">lucky-valley-7</strong> to <a href=\"https://wandb.ai\" target=\"_blank\">Weights & Biases</a> <a href=\"https://docs.wandb.com/integrations/jupyter.html\" target=\"_blank\">(Documentation)</a>.<br/>\n",
              "                Project page: <a href=\"https://wandb.ai/emanuelefasce/2\" target=\"_blank\">https://wandb.ai/emanuelefasce/2</a><br/>\n",
              "                Run page: <a href=\"https://wandb.ai/emanuelefasce/2/runs/3svsphjv\" target=\"_blank\">https://wandb.ai/emanuelefasce/2/runs/3svsphjv</a><br/>\n",
              "                Run data is saved locally in <code>/content/wandb/run-20210704_172755-3svsphjv</code><br/><br/>\n",
              "            "
            ],
            "text/plain": [
              "<IPython.core.display.HTML object>"
            ]
          },
          "metadata": {
            "tags": []
          }
        },
        {
          "output_type": "stream",
          "text": [
            "Path for model saving: /content/gdrive/MyDrive/Saved_models/Unet/lucky-valley-7\n"
          ],
          "name": "stdout"
        }
      ]
    },
    {
      "cell_type": "markdown",
      "metadata": {
        "id": "qxHKWkWz58Wn"
      },
      "source": [
        "Initializing model, optimizers, schedulers, metrics, loss, defining saving folder\n",
        "\n",
        "---\n",
        "\n"
      ]
    },
    {
      "cell_type": "code",
      "metadata": {
        "colab": {
          "base_uri": "https://localhost:8080/"
        },
        "id": "wKZFHxW656Lj",
        "outputId": "9cdffb3d-0fe6-40a6-f180-dcaffc51282f"
      },
      "source": [
        "from torch.optim import SGD\n",
        "from torch.optim.lr_scheduler import StepLR\n",
        "\n",
        "model = smp.Unet(\n",
        "    encoder_name=encoder_type,       \n",
        "    encoder_weights=\"imagenet\", \n",
        "    in_channels=3,                 \n",
        "    classes=1,\n",
        ")\n",
        "\n",
        "model.cuda()\n",
        "optimizer = SGD(model.parameters(), lr=lr_config, momentum=0.9)\n",
        "loss=torch.nn.BCEWithLogitsLoss()\n",
        "\n",
        "\n",
        "def iou_numpy(outputs: np.array, labels: np.array):\n",
        "    intersection = torch.logical_and(labels, outputs)\n",
        "    union = torch.logical_or(labels, outputs)\n",
        "    iou_score = torch.sum(intersection) / torch.sum(union)\n",
        "    return iou_score \n",
        "\n",
        "print(f'Using GPU {torch.cuda.get_device_name(0)}')\n",
        "\n",
        "one=torch.ones(size=(3,1)).cuda()\n",
        "print(one.device)"
      ],
      "execution_count": null,
      "outputs": [
        {
          "output_type": "stream",
          "text": [
            "Using GPU Tesla T4\n",
            "cuda:0\n"
          ],
          "name": "stdout"
        }
      ]
    },
    {
      "cell_type": "markdown",
      "metadata": {
        "id": "64Nwzq8IT_bM"
      },
      "source": [
        "Training, validation, saving model"
      ]
    },
    {
      "cell_type": "code",
      "metadata": {
        "colab": {
          "base_uri": "https://localhost:8080/",
          "height": 1000
        },
        "id": "ppgqROpYWJqd",
        "outputId": "ce7e77dc-de8d-4528-8059-dc27eadde692"
      },
      "source": [
        "from tqdm import tqdm\n",
        "\n",
        "lowest_validation_loss=9999\n",
        "\n",
        "for epoch in range(1, n_epochs+1, 1):\n",
        "\n",
        "  #Training phase\n",
        "  model.train()\n",
        "  training_loss=0\n",
        "  training_iou=0\n",
        "  training_samples=0\n",
        "\n",
        "  for x,y in tqdm(train_dataloader): \n",
        "    optimizer.zero_grad()\n",
        "    out=model(x.cuda())\n",
        "    myloss=loss(out, y.cuda())\n",
        "\n",
        "    for out_i,y_i in zip(out,y.cuda()):\n",
        "      iou=iou_numpy(out_i>0,y_i)\n",
        "      training_iou+=iou\n",
        "      training_samples+=1\n",
        "\n",
        "    myloss.backward()\n",
        "    optimizer.step()\n",
        "    training_loss+=myloss.item()\n",
        "  \n",
        "  print(f'Epoch #{epoch}, training loss: {training_loss/training_samples}, training iou: {training_iou/training_samples}')\n",
        "\n",
        "  wandb.log({\"training loss\": training_loss/training_samples})\n",
        "  wandb.log({\"training iou\": training_iou/training_samples})\n",
        "\n",
        "  #Validation phase\n",
        "  model.eval()\n",
        "  validation_loss=0\n",
        "  validation_iou=0\n",
        "  validation_samples=0\n",
        "\n",
        "  for x,y in tqdm(valid_dataloader): \n",
        "    out=model(x.cuda())\n",
        "    myloss=loss(out, y.cuda())\n",
        "\n",
        "    for out_i,y_i in zip(out,y.cuda()):\n",
        "      iou=iou_numpy(out_i>0,y_i)\n",
        "      validation_iou+=iou\n",
        "      validation_samples+=1\n",
        "\n",
        "    validation_loss+=myloss.item()\n",
        "\n",
        "  print(f'Epoch #{epoch}, validation loss: {validation_loss/validation_samples}, validation iou: {validation_iou/validation_samples}')\n",
        "\n",
        "  if validation_loss/validation_samples<lowest_validation_loss:\n",
        "    lowest_validation_loss=validation_loss/validation_samples\n",
        "    torch.save(model,f'{save_model_path}.pth')\n",
        "    last_epoch_saved=epoch\n",
        "    \n",
        "  wandb.log({\"validation loss\": validation_loss/validation_samples})\n",
        "  wandb.log({\"validation iou\": validation_iou/validation_samples})\n",
        "\n",
        "print(f'Last epoch saved: {last_epoch_saved}')\n"
      ],
      "execution_count": null,
      "outputs": [
        {
          "output_type": "stream",
          "text": [
            "\n",
            "\n",
            "  0%|          | 0/5 [00:00<?, ?it/s]\u001b[A\u001b[A\n",
            "\n",
            " 20%|██        | 1/5 [00:10<00:42, 10.56s/it]\u001b[A\u001b[A\n",
            "\n",
            " 40%|████      | 2/5 [00:10<00:22,  7.48s/it]\u001b[A\u001b[A\n",
            "\n",
            " 60%|██████    | 3/5 [00:20<00:16,  8.16s/it]\u001b[A\u001b[A\n",
            "\n",
            " 80%|████████  | 4/5 [00:20<00:05,  5.80s/it]\u001b[A\u001b[A\n",
            "\n",
            "100%|██████████| 5/5 [00:27<00:00,  5.58s/it]\n",
            "\n",
            "\n",
            "  0%|          | 0/2 [00:00<?, ?it/s]\u001b[A\u001b[A"
          ],
          "name": "stderr"
        },
        {
          "output_type": "stream",
          "text": [
            "Epoch #1, training loss: 0.021421968191862106, training iou: 0.08509716391563416\n"
          ],
          "name": "stdout"
        },
        {
          "output_type": "stream",
          "text": [
            "\n",
            "\n",
            " 50%|█████     | 1/2 [00:07<00:07,  7.15s/it]\u001b[A\u001b[A\n",
            "\n",
            "100%|██████████| 2/2 [00:08<00:00,  4.44s/it]\n"
          ],
          "name": "stderr"
        },
        {
          "output_type": "stream",
          "text": [
            "Epoch #1, validation loss: 0.030112726986408232, validation iou: 6.120959733380005e-05\n"
          ],
          "name": "stdout"
        },
        {
          "output_type": "stream",
          "text": [
            "\n",
            "\n",
            "  0%|          | 0/5 [00:00<?, ?it/s]\u001b[A\u001b[A\n",
            "\n",
            " 20%|██        | 1/5 [00:10<00:42, 10.59s/it]\u001b[A\u001b[A\n",
            "\n",
            " 40%|████      | 2/5 [00:10<00:22,  7.51s/it]\u001b[A\u001b[A\n",
            "\n",
            " 60%|██████    | 3/5 [00:20<00:16,  8.20s/it]\u001b[A\u001b[A\n",
            "\n",
            " 80%|████████  | 4/5 [00:20<00:05,  5.82s/it]\u001b[A\u001b[A\n",
            "\n",
            "100%|██████████| 5/5 [00:28<00:00,  5.62s/it]\n",
            "\n",
            "\n",
            "  0%|          | 0/2 [00:00<?, ?it/s]\u001b[A\u001b[A"
          ],
          "name": "stderr"
        },
        {
          "output_type": "stream",
          "text": [
            "Epoch #2, training loss: 0.018966682627797125, training iou: 0.02610003761947155\n"
          ],
          "name": "stdout"
        },
        {
          "output_type": "stream",
          "text": [
            "\n",
            "\n",
            " 50%|█████     | 1/2 [00:07<00:07,  7.23s/it]\u001b[A\u001b[A\n",
            "\n",
            "100%|██████████| 2/2 [00:08<00:00,  4.49s/it]\n"
          ],
          "name": "stderr"
        },
        {
          "output_type": "stream",
          "text": [
            "Epoch #2, validation loss: 0.029246866703033447, validation iou: 0.019018081948161125\n"
          ],
          "name": "stdout"
        },
        {
          "output_type": "stream",
          "text": [
            "\n",
            "\n",
            "  0%|          | 0/5 [00:00<?, ?it/s]\u001b[A\u001b[A\n",
            "\n",
            " 20%|██        | 1/5 [00:10<00:42, 10.64s/it]\u001b[A\u001b[A\n",
            "\n",
            " 40%|████      | 2/5 [00:10<00:22,  7.54s/it]\u001b[A\u001b[A\n",
            "\n",
            " 60%|██████    | 3/5 [00:20<00:16,  8.22s/it]\u001b[A\u001b[A\n",
            "\n",
            " 80%|████████  | 4/5 [00:21<00:05,  5.85s/it]\u001b[A\u001b[A\n",
            "\n",
            "100%|██████████| 5/5 [00:27<00:00,  5.59s/it]\n",
            "\n",
            "\n",
            "  0%|          | 0/2 [00:00<?, ?it/s]\u001b[A\u001b[A"
          ],
          "name": "stderr"
        },
        {
          "output_type": "stream",
          "text": [
            "Epoch #3, training loss: 0.017395801842212677, training iou: 0.06412765383720398\n"
          ],
          "name": "stdout"
        },
        {
          "output_type": "stream",
          "text": [
            "\n",
            "\n",
            " 50%|█████     | 1/2 [00:07<00:07,  7.28s/it]\u001b[A\u001b[A\n",
            "\n",
            "100%|██████████| 2/2 [00:09<00:00,  4.51s/it]\n"
          ],
          "name": "stderr"
        },
        {
          "output_type": "stream",
          "text": [
            "Epoch #3, validation loss: 0.028053732216358186, validation iou: 0.050046443939208984\n"
          ],
          "name": "stdout"
        },
        {
          "output_type": "stream",
          "text": [
            "\n",
            "\n",
            "  0%|          | 0/5 [00:00<?, ?it/s]\u001b[A\u001b[A\n",
            "\n",
            " 20%|██        | 1/5 [00:10<00:42, 10.64s/it]\u001b[A\u001b[A\n",
            "\n",
            " 40%|████      | 2/5 [00:10<00:22,  7.54s/it]\u001b[A\u001b[A\n",
            "\n",
            " 60%|██████    | 3/5 [00:20<00:16,  8.19s/it]\u001b[A\u001b[A\n",
            "\n",
            " 80%|████████  | 4/5 [00:20<00:05,  5.82s/it]\u001b[A\u001b[A\n",
            "\n",
            "100%|██████████| 5/5 [00:27<00:00,  5.59s/it]\n",
            "\n",
            "\n",
            "  0%|          | 0/2 [00:00<?, ?it/s]\u001b[A\u001b[A"
          ],
          "name": "stderr"
        },
        {
          "output_type": "stream",
          "text": [
            "Epoch #4, training loss: 0.016341055557131768, training iou: 0.1985195279121399\n"
          ],
          "name": "stdout"
        },
        {
          "output_type": "stream",
          "text": [
            "\n",
            "\n",
            " 50%|█████     | 1/2 [00:07<00:07,  7.27s/it]\u001b[A\u001b[A\n",
            "\n",
            "100%|██████████| 2/2 [00:09<00:00,  4.51s/it]\n"
          ],
          "name": "stderr"
        },
        {
          "output_type": "stream",
          "text": [
            "Epoch #4, validation loss: 0.028033164143562318, validation iou: 0.2557899057865143\n"
          ],
          "name": "stdout"
        },
        {
          "output_type": "stream",
          "text": [
            "\n",
            "\n",
            "  0%|          | 0/5 [00:00<?, ?it/s]\u001b[A\u001b[A\n",
            "\n",
            " 20%|██        | 1/5 [00:10<00:43, 10.79s/it]\u001b[A\u001b[A\n",
            "\n",
            " 40%|████      | 2/5 [00:11<00:22,  7.64s/it]\u001b[A\u001b[A\n",
            "\n",
            " 60%|██████    | 3/5 [00:21<00:16,  8.34s/it]\u001b[A\u001b[A\n",
            "\n",
            " 80%|████████  | 4/5 [00:21<00:05,  5.92s/it]\u001b[A\u001b[A\n",
            "\n",
            "100%|██████████| 5/5 [00:28<00:00,  5.68s/it]\n",
            "\n",
            "\n",
            "  0%|          | 0/2 [00:00<?, ?it/s]\u001b[A\u001b[A"
          ],
          "name": "stderr"
        },
        {
          "output_type": "stream",
          "text": [
            "Epoch #5, training loss: 0.015574869513511658, training iou: 0.34311023354530334\n"
          ],
          "name": "stdout"
        },
        {
          "output_type": "stream",
          "text": [
            "\n",
            "\n",
            " 50%|█████     | 1/2 [00:07<00:07,  7.45s/it]\u001b[A\u001b[A\n",
            "\n",
            "100%|██████████| 2/2 [00:09<00:00,  4.64s/it]\n"
          ],
          "name": "stderr"
        },
        {
          "output_type": "stream",
          "text": [
            "Epoch #5, validation loss: 0.02616017833352089, validation iou: 0.32542645931243896\n"
          ],
          "name": "stdout"
        },
        {
          "output_type": "stream",
          "text": [
            "\n",
            "\n",
            "  0%|          | 0/5 [00:00<?, ?it/s]\u001b[A\u001b[A\n",
            "\n",
            " 20%|██        | 1/5 [00:10<00:43, 10.86s/it]\u001b[A\u001b[A\n",
            "\n",
            " 40%|████      | 2/5 [00:11<00:23,  7.69s/it]\u001b[A\u001b[A\n",
            "\n",
            " 60%|██████    | 3/5 [00:21<00:16,  8.48s/it]\u001b[A\u001b[A\n",
            "\n",
            " 80%|████████  | 4/5 [00:21<00:06,  6.03s/it]\u001b[A\u001b[A\n",
            "\n",
            "100%|██████████| 5/5 [00:28<00:00,  5.80s/it]\n",
            "\n",
            "\n",
            "  0%|          | 0/2 [00:00<?, ?it/s]\u001b[A\u001b[A"
          ],
          "name": "stderr"
        },
        {
          "output_type": "stream",
          "text": [
            "Epoch #6, training loss: 0.015061303600668907, training iou: 0.34068354964256287\n"
          ],
          "name": "stdout"
        },
        {
          "output_type": "stream",
          "text": [
            "\n",
            "\n",
            " 50%|█████     | 1/2 [00:07<00:07,  7.38s/it]\u001b[A\u001b[A\n",
            "\n",
            "100%|██████████| 2/2 [00:09<00:00,  4.57s/it]\n",
            "\n",
            "\n",
            "  0%|          | 0/5 [00:00<?, ?it/s]\u001b[A\u001b[A"
          ],
          "name": "stderr"
        },
        {
          "output_type": "stream",
          "text": [
            "Epoch #6, validation loss: 0.026465469598770143, validation iou: 0.32783743739128113\n"
          ],
          "name": "stdout"
        },
        {
          "output_type": "stream",
          "text": [
            "\n",
            "\n",
            " 20%|██        | 1/5 [00:10<00:42, 10.52s/it]\u001b[A\u001b[A\n",
            "\n",
            " 40%|████      | 2/5 [00:10<00:22,  7.45s/it]\u001b[A\u001b[A\n",
            "\n",
            " 60%|██████    | 3/5 [00:20<00:16,  8.19s/it]\u001b[A\u001b[A\n",
            "\n",
            " 80%|████████  | 4/5 [00:21<00:05,  5.82s/it]\u001b[A\u001b[A\n",
            "\n",
            "100%|██████████| 5/5 [00:27<00:00,  5.60s/it]\n",
            "\n",
            "\n",
            "  0%|          | 0/2 [00:00<?, ?it/s]\u001b[A\u001b[A"
          ],
          "name": "stderr"
        },
        {
          "output_type": "stream",
          "text": [
            "Epoch #7, training loss: 0.014568636007606984, training iou: 0.3875085115432739\n"
          ],
          "name": "stdout"
        },
        {
          "output_type": "stream",
          "text": [
            "\n",
            "\n",
            " 50%|█████     | 1/2 [00:07<00:07,  7.17s/it]\u001b[A\u001b[A\n",
            "\n",
            "100%|██████████| 2/2 [00:08<00:00,  4.46s/it]\n"
          ],
          "name": "stderr"
        },
        {
          "output_type": "stream",
          "text": [
            "Epoch #7, validation loss: 0.0237546868622303, validation iou: 0.41260966658592224\n"
          ],
          "name": "stdout"
        },
        {
          "output_type": "stream",
          "text": [
            "\n",
            "\n",
            "  0%|          | 0/5 [00:00<?, ?it/s]\u001b[A\u001b[A\n",
            "\n",
            " 20%|██        | 1/5 [00:10<00:43, 10.76s/it]\u001b[A\u001b[A\n",
            "\n",
            " 40%|████      | 2/5 [00:11<00:22,  7.62s/it]\u001b[A\u001b[A\n",
            "\n",
            " 60%|██████    | 3/5 [00:20<00:16,  8.27s/it]\u001b[A\u001b[A\n",
            "\n",
            " 80%|████████  | 4/5 [00:21<00:05,  5.88s/it]\u001b[A\u001b[A\n",
            "\n",
            "100%|██████████| 5/5 [00:28<00:00,  5.61s/it]\n",
            "\n",
            "\n",
            "  0%|          | 0/2 [00:00<?, ?it/s]\u001b[A\u001b[A"
          ],
          "name": "stderr"
        },
        {
          "output_type": "stream",
          "text": [
            "Epoch #8, training loss: 0.01419766116887331, training iou: 0.388357549905777\n"
          ],
          "name": "stdout"
        },
        {
          "output_type": "stream",
          "text": [
            "\n",
            "\n",
            " 50%|█████     | 1/2 [00:07<00:07,  7.19s/it]\u001b[A\u001b[A\n",
            "\n",
            "100%|██████████| 2/2 [00:08<00:00,  4.45s/it]\n"
          ],
          "name": "stderr"
        },
        {
          "output_type": "stream",
          "text": [
            "Epoch #8, validation loss: 0.022459154576063158, validation iou: 0.404315710067749\n"
          ],
          "name": "stdout"
        },
        {
          "output_type": "stream",
          "text": [
            "\n",
            "\n",
            "  0%|          | 0/5 [00:00<?, ?it/s]\u001b[A\u001b[A\n",
            "\n",
            " 20%|██        | 1/5 [00:10<00:42, 10.52s/it]\u001b[A\u001b[A\n",
            "\n",
            " 40%|████      | 2/5 [00:10<00:22,  7.46s/it]\u001b[A\u001b[A\n",
            "\n",
            " 60%|██████    | 3/5 [00:20<00:16,  8.18s/it]\u001b[A\u001b[A\n",
            "\n",
            " 80%|████████  | 4/5 [00:21<00:05,  5.82s/it]\u001b[A\u001b[A\n",
            "\n",
            "100%|██████████| 5/5 [00:28<00:00,  5.62s/it]\n",
            "\n",
            "\n",
            "  0%|          | 0/2 [00:00<?, ?it/s]\u001b[A\u001b[A"
          ],
          "name": "stderr"
        },
        {
          "output_type": "stream",
          "text": [
            "Epoch #9, training loss: 0.013759866915643215, training iou: 0.408001184463501\n"
          ],
          "name": "stdout"
        },
        {
          "output_type": "stream",
          "text": [
            "\n",
            "\n",
            " 50%|█████     | 1/2 [00:07<00:07,  7.18s/it]\u001b[A\u001b[A\n",
            "\n",
            "100%|██████████| 2/2 [00:08<00:00,  4.45s/it]\n"
          ],
          "name": "stderr"
        },
        {
          "output_type": "stream",
          "text": [
            "Epoch #9, validation loss: 0.021963400393724443, validation iou: 0.4291279911994934\n"
          ],
          "name": "stdout"
        },
        {
          "output_type": "stream",
          "text": [
            "\n",
            "\n",
            "  0%|          | 0/5 [00:00<?, ?it/s]\u001b[A\u001b[A\n",
            "\n",
            " 20%|██        | 1/5 [00:10<00:42, 10.68s/it]\u001b[A\u001b[A\n",
            "\n",
            " 40%|████      | 2/5 [00:10<00:22,  7.56s/it]\u001b[A\u001b[A\n",
            "\n",
            " 60%|██████    | 3/5 [00:20<00:16,  8.29s/it]\u001b[A\u001b[A\n",
            "\n",
            " 80%|████████  | 4/5 [00:21<00:05,  5.89s/it]\u001b[A\u001b[A\n",
            "\n",
            "100%|██████████| 5/5 [00:28<00:00,  5.64s/it]\n",
            "\n",
            "\n",
            "  0%|          | 0/2 [00:00<?, ?it/s]\u001b[A\u001b[A"
          ],
          "name": "stderr"
        },
        {
          "output_type": "stream",
          "text": [
            "Epoch #10, training loss: 0.013518560491502286, training iou: 0.4343433976173401\n"
          ],
          "name": "stdout"
        },
        {
          "output_type": "stream",
          "text": [
            "\n",
            "\n",
            " 50%|█████     | 1/2 [00:07<00:07,  7.26s/it]\u001b[A\u001b[A\n",
            "\n",
            "100%|██████████| 2/2 [00:08<00:00,  4.49s/it]\n"
          ],
          "name": "stderr"
        },
        {
          "output_type": "stream",
          "text": [
            "Epoch #10, validation loss: 0.021532203257083892, validation iou: 0.4229224622249603\n"
          ],
          "name": "stdout"
        },
        {
          "output_type": "stream",
          "text": [
            "\n",
            "\n",
            "  0%|          | 0/5 [00:00<?, ?it/s]\u001b[A\u001b[A\n",
            "\n",
            " 20%|██        | 1/5 [00:10<00:42, 10.60s/it]\u001b[A\u001b[A\n",
            "\n",
            " 40%|████      | 2/5 [00:10<00:22,  7.51s/it]\u001b[A\u001b[A\n",
            "\n",
            " 60%|██████    | 3/5 [00:20<00:16,  8.27s/it]\u001b[A\u001b[A\n",
            "\n",
            " 80%|████████  | 4/5 [00:21<00:05,  5.87s/it]\u001b[A\u001b[A\n",
            "\n",
            "100%|██████████| 5/5 [00:28<00:00,  5.64s/it]\n",
            "\n",
            "\n",
            "  0%|          | 0/2 [00:00<?, ?it/s]\u001b[A\u001b[A"
          ],
          "name": "stderr"
        },
        {
          "output_type": "stream",
          "text": [
            "Epoch #11, training loss: 0.013309340178966522, training iou: 0.4281056523323059\n"
          ],
          "name": "stdout"
        },
        {
          "output_type": "stream",
          "text": [
            "\n",
            "\n",
            " 50%|█████     | 1/2 [00:07<00:07,  7.44s/it]\u001b[A\u001b[A\n",
            "\n",
            "100%|██████████| 2/2 [00:09<00:00,  4.64s/it]\n"
          ],
          "name": "stderr"
        },
        {
          "output_type": "stream",
          "text": [
            "Epoch #11, validation loss: 0.021132483333349227, validation iou: 0.4132099747657776\n"
          ],
          "name": "stdout"
        },
        {
          "output_type": "stream",
          "text": [
            "\n",
            "\n",
            "  0%|          | 0/5 [00:00<?, ?it/s]\u001b[A\u001b[A\n",
            "\n",
            " 20%|██        | 1/5 [00:11<00:46, 11.68s/it]\u001b[A\u001b[A\n",
            "\n",
            " 40%|████      | 2/5 [00:11<00:24,  8.26s/it]\u001b[A\u001b[A\n",
            "\n",
            " 60%|██████    | 3/5 [00:22<00:17,  8.86s/it]\u001b[A\u001b[A\n",
            "\n",
            " 80%|████████  | 4/5 [00:22<00:06,  6.29s/it]\u001b[A\u001b[A\n",
            "\n",
            "100%|██████████| 5/5 [00:29<00:00,  5.95s/it]\n",
            "\n",
            "\n",
            "  0%|          | 0/2 [00:00<?, ?it/s]\u001b[A\u001b[A"
          ],
          "name": "stderr"
        },
        {
          "output_type": "stream",
          "text": [
            "Epoch #12, training loss: 0.013077370077371597, training iou: 0.45853501558303833\n"
          ],
          "name": "stdout"
        },
        {
          "output_type": "stream",
          "text": [
            "\n",
            "\n",
            " 50%|█████     | 1/2 [00:07<00:07,  7.55s/it]\u001b[A\u001b[A\n",
            "\n",
            "100%|██████████| 2/2 [00:09<00:00,  4.67s/it]\n"
          ],
          "name": "stderr"
        },
        {
          "output_type": "stream",
          "text": [
            "Epoch #12, validation loss: 0.02072439268231392, validation iou: 0.4333263039588928\n"
          ],
          "name": "stdout"
        },
        {
          "output_type": "stream",
          "text": [
            "\n",
            "\n",
            "  0%|          | 0/5 [00:00<?, ?it/s]\u001b[A\u001b[A\n",
            "\n",
            " 20%|██        | 1/5 [00:10<00:43, 10.93s/it]\u001b[A\u001b[A\n",
            "\n",
            " 40%|████      | 2/5 [00:11<00:23,  7.74s/it]\u001b[A\u001b[A\n",
            "\n",
            " 60%|██████    | 3/5 [00:21<00:16,  8.39s/it]\u001b[A\u001b[A\n",
            "\n",
            " 80%|████████  | 4/5 [00:21<00:05,  5.96s/it]\u001b[A\u001b[A\n",
            "\n",
            "100%|██████████| 5/5 [00:28<00:00,  5.67s/it]\n",
            "\n",
            "\n",
            "  0%|          | 0/2 [00:00<?, ?it/s]\u001b[A\u001b[A"
          ],
          "name": "stderr"
        },
        {
          "output_type": "stream",
          "text": [
            "Epoch #13, training loss: 0.01281203906983137, training iou: 0.4617108404636383\n"
          ],
          "name": "stdout"
        },
        {
          "output_type": "stream",
          "text": [
            "\n",
            "\n",
            " 50%|█████     | 1/2 [00:07<00:07,  7.27s/it]\u001b[A\u001b[A\n",
            "\n",
            "100%|██████████| 2/2 [00:09<00:00,  4.52s/it]\n"
          ],
          "name": "stderr"
        },
        {
          "output_type": "stream",
          "text": [
            "Epoch #13, validation loss: 0.020642723888158798, validation iou: 0.43570730090141296\n"
          ],
          "name": "stdout"
        },
        {
          "output_type": "stream",
          "text": [
            "\n",
            "\n",
            "  0%|          | 0/5 [00:00<?, ?it/s]\u001b[A\u001b[A\n",
            "\n",
            " 20%|██        | 1/5 [00:10<00:42, 10.68s/it]\u001b[A\u001b[A\n",
            "\n",
            " 40%|████      | 2/5 [00:10<00:22,  7.56s/it]\u001b[A\u001b[A\n",
            "\n",
            " 60%|██████    | 3/5 [00:20<00:16,  8.29s/it]\u001b[A\u001b[A\n",
            "\n",
            " 80%|████████  | 4/5 [00:21<00:05,  5.89s/it]\u001b[A\u001b[A\n",
            "\n",
            "100%|██████████| 5/5 [00:28<00:00,  5.64s/it]\n",
            "\n",
            "\n",
            "  0%|          | 0/2 [00:00<?, ?it/s]\u001b[A\u001b[A"
          ],
          "name": "stderr"
        },
        {
          "output_type": "stream",
          "text": [
            "Epoch #14, training loss: 0.012705435045063496, training iou: 0.46162018179893494\n"
          ],
          "name": "stdout"
        },
        {
          "output_type": "stream",
          "text": [
            "\n",
            "\n",
            " 50%|█████     | 1/2 [00:07<00:07,  7.25s/it]\u001b[A\u001b[A\n",
            "\n",
            "100%|██████████| 2/2 [00:08<00:00,  4.48s/it]\n",
            "\n",
            "\n",
            "  0%|          | 0/5 [00:00<?, ?it/s]\u001b[A\u001b[A"
          ],
          "name": "stderr"
        },
        {
          "output_type": "stream",
          "text": [
            "Epoch #14, validation loss: 0.020895527303218843, validation iou: 0.42104098200798035\n"
          ],
          "name": "stdout"
        },
        {
          "output_type": "stream",
          "text": [
            "\n",
            "\n",
            " 20%|██        | 1/5 [00:10<00:41, 10.43s/it]\u001b[A\u001b[A\n",
            "\n",
            " 40%|████      | 2/5 [00:10<00:22,  7.39s/it]\u001b[A\u001b[A\n",
            "\n",
            " 60%|██████    | 3/5 [00:20<00:16,  8.12s/it]\u001b[A\u001b[A\n",
            "\n",
            " 80%|████████  | 4/5 [00:20<00:05,  5.77s/it]\u001b[A\u001b[A\n",
            "\n",
            "100%|██████████| 5/5 [00:28<00:00,  5.61s/it]\n",
            "\n",
            "\n",
            "  0%|          | 0/2 [00:00<?, ?it/s]\u001b[A\u001b[A"
          ],
          "name": "stderr"
        },
        {
          "output_type": "stream",
          "text": [
            "Epoch #15, training loss: 0.012448221817612648, training iou: 0.4868716895580292\n"
          ],
          "name": "stdout"
        },
        {
          "output_type": "stream",
          "text": [
            "\n",
            "\n",
            " 50%|█████     | 1/2 [00:07<00:07,  7.21s/it]\u001b[A\u001b[A\n",
            "\n",
            "100%|██████████| 2/2 [00:08<00:00,  4.49s/it]\n"
          ],
          "name": "stderr"
        },
        {
          "output_type": "stream",
          "text": [
            "Epoch #15, validation loss: 0.02046148627996445, validation iou: 0.4144063889980316\n"
          ],
          "name": "stdout"
        },
        {
          "output_type": "stream",
          "text": [
            "\n",
            "\n",
            "  0%|          | 0/5 [00:00<?, ?it/s]\u001b[A\u001b[A\n",
            "\n",
            " 20%|██        | 1/5 [00:10<00:43, 10.92s/it]\u001b[A\u001b[A\n",
            "\n",
            " 40%|████      | 2/5 [00:11<00:23,  7.73s/it]\u001b[A\u001b[A\n",
            "\n",
            " 60%|██████    | 3/5 [00:20<00:16,  8.32s/it]\u001b[A\u001b[A\n",
            "\n",
            " 80%|████████  | 4/5 [00:21<00:05,  5.92s/it]\u001b[A\u001b[A\n",
            "\n",
            "100%|██████████| 5/5 [00:28<00:00,  5.63s/it]\n",
            "\n",
            "\n",
            "  0%|          | 0/2 [00:00<?, ?it/s]\u001b[A\u001b[A"
          ],
          "name": "stderr"
        },
        {
          "output_type": "stream",
          "text": [
            "Epoch #16, training loss: 0.012272647209465503, training iou: 0.4932193458080292\n"
          ],
          "name": "stdout"
        },
        {
          "output_type": "stream",
          "text": [
            "\n",
            "\n",
            " 50%|█████     | 1/2 [00:07<00:07,  7.22s/it]\u001b[A\u001b[A\n",
            "\n",
            "100%|██████████| 2/2 [00:08<00:00,  4.48s/it]\n",
            "\n",
            "\n",
            "  0%|          | 0/5 [00:00<?, ?it/s]\u001b[A\u001b[A"
          ],
          "name": "stderr"
        },
        {
          "output_type": "stream",
          "text": [
            "Epoch #16, validation loss: 0.02065383568406105, validation iou: 0.43524369597435\n"
          ],
          "name": "stdout"
        },
        {
          "output_type": "stream",
          "text": [
            "\n",
            "\n",
            " 20%|██        | 1/5 [00:10<00:41, 10.47s/it]\u001b[A\u001b[A\n",
            "\n",
            " 40%|████      | 2/5 [00:10<00:22,  7.42s/it]\u001b[A\u001b[A\n",
            "\n",
            " 60%|██████    | 3/5 [00:20<00:16,  8.18s/it]\u001b[A\u001b[A\n",
            "\n",
            " 80%|████████  | 4/5 [00:21<00:05,  5.81s/it]\u001b[A\u001b[A\n",
            "\n",
            "100%|██████████| 5/5 [00:27<00:00,  5.60s/it]\n",
            "\n",
            "\n",
            "  0%|          | 0/2 [00:00<?, ?it/s]\u001b[A\u001b[A"
          ],
          "name": "stderr"
        },
        {
          "output_type": "stream",
          "text": [
            "Epoch #17, training loss: 0.012055055052042008, training iou: 0.5076349377632141\n"
          ],
          "name": "stdout"
        },
        {
          "output_type": "stream",
          "text": [
            "\n",
            "\n",
            " 50%|█████     | 1/2 [00:07<00:07,  7.31s/it]\u001b[A\u001b[A\n",
            "\n",
            "100%|██████████| 2/2 [00:09<00:00,  4.59s/it]\n"
          ],
          "name": "stderr"
        },
        {
          "output_type": "stream",
          "text": [
            "Epoch #17, validation loss: 0.020276836305856704, validation iou: 0.43698573112487793\n"
          ],
          "name": "stdout"
        },
        {
          "output_type": "stream",
          "text": [
            "\n",
            "\n",
            "  0%|          | 0/5 [00:00<?, ?it/s]\u001b[A\u001b[A\n",
            "\n",
            " 20%|██        | 1/5 [00:10<00:43, 10.83s/it]\u001b[A\u001b[A\n",
            "\n",
            " 40%|████      | 2/5 [00:11<00:23,  7.67s/it]\u001b[A\u001b[A\n",
            "\n",
            " 60%|██████    | 3/5 [00:20<00:16,  8.30s/it]\u001b[A\u001b[A\n",
            "\n",
            " 80%|████████  | 4/5 [00:21<00:05,  5.90s/it]\u001b[A\u001b[A\n",
            "\n",
            "100%|██████████| 5/5 [00:28<00:00,  5.63s/it]\n",
            "\n",
            "\n",
            "  0%|          | 0/2 [00:00<?, ?it/s]\u001b[A\u001b[A"
          ],
          "name": "stderr"
        },
        {
          "output_type": "stream",
          "text": [
            "Epoch #18, training loss: 0.011799738556146622, training iou: 0.5043305158615112\n"
          ],
          "name": "stdout"
        },
        {
          "output_type": "stream",
          "text": [
            "\n",
            "\n",
            " 50%|█████     | 1/2 [00:07<00:07,  7.24s/it]\u001b[A\u001b[A\n",
            "\n",
            "100%|██████████| 2/2 [00:08<00:00,  4.50s/it]\n",
            "\n",
            "\n",
            "  0%|          | 0/5 [00:00<?, ?it/s]\u001b[A\u001b[A"
          ],
          "name": "stderr"
        },
        {
          "output_type": "stream",
          "text": [
            "Epoch #18, validation loss: 0.020683323591947557, validation iou: 0.4343383312225342\n"
          ],
          "name": "stdout"
        },
        {
          "output_type": "stream",
          "text": [
            "\n",
            "\n",
            " 20%|██        | 1/5 [00:10<00:41, 10.29s/it]\u001b[A\u001b[A\n",
            "\n",
            " 40%|████      | 2/5 [00:10<00:21,  7.29s/it]\u001b[A\u001b[A\n",
            "\n",
            " 60%|██████    | 3/5 [00:20<00:16,  8.07s/it]\u001b[A\u001b[A\n",
            "\n",
            " 80%|████████  | 4/5 [00:20<00:05,  5.74s/it]\u001b[A\u001b[A\n",
            "\n",
            "100%|██████████| 5/5 [00:28<00:00,  5.61s/it]\n",
            "\n",
            "\n",
            "  0%|          | 0/2 [00:00<?, ?it/s]\u001b[A\u001b[A"
          ],
          "name": "stderr"
        },
        {
          "output_type": "stream",
          "text": [
            "Epoch #19, training loss: 0.011531669832766055, training iou: 0.5252999067306519\n"
          ],
          "name": "stdout"
        },
        {
          "output_type": "stream",
          "text": [
            "\n",
            "\n",
            " 50%|█████     | 1/2 [00:07<00:07,  7.30s/it]\u001b[A\u001b[A\n",
            "\n",
            "100%|██████████| 2/2 [00:09<00:00,  4.53s/it]\n",
            "\n",
            "\n",
            "  0%|          | 0/5 [00:00<?, ?it/s]\u001b[A\u001b[A"
          ],
          "name": "stderr"
        },
        {
          "output_type": "stream",
          "text": [
            "Epoch #19, validation loss: 0.02055756449699402, validation iou: 0.43384218215942383\n"
          ],
          "name": "stdout"
        },
        {
          "output_type": "stream",
          "text": [
            "\n",
            "\n",
            " 20%|██        | 1/5 [00:10<00:42, 10.53s/it]\u001b[A\u001b[A\n",
            "\n",
            " 40%|████      | 2/5 [00:10<00:22,  7.46s/it]\u001b[A\u001b[A\n",
            "\n",
            " 60%|██████    | 3/5 [00:20<00:16,  8.21s/it]\u001b[A\u001b[A\n",
            "\n",
            " 80%|████████  | 4/5 [00:21<00:05,  5.84s/it]\u001b[A\u001b[A\n",
            "\n",
            "100%|██████████| 5/5 [00:28<00:00,  5.61s/it]\n",
            "\n",
            "\n",
            "  0%|          | 0/2 [00:00<?, ?it/s]\u001b[A\u001b[A"
          ],
          "name": "stderr"
        },
        {
          "output_type": "stream",
          "text": [
            "Epoch #20, training loss: 0.01145746223628521, training iou: 0.5401217341423035\n"
          ],
          "name": "stdout"
        },
        {
          "output_type": "stream",
          "text": [
            "\n",
            "\n",
            " 50%|█████     | 1/2 [00:07<00:07,  7.31s/it]\u001b[A\u001b[A\n",
            "\n",
            "100%|██████████| 2/2 [00:09<00:00,  4.60s/it]\n",
            "\n",
            "\n",
            "  0%|          | 0/5 [00:00<?, ?it/s]\u001b[A\u001b[A"
          ],
          "name": "stderr"
        },
        {
          "output_type": "stream",
          "text": [
            "Epoch #20, validation loss: 0.02145555093884468, validation iou: 0.40419360995292664\n"
          ],
          "name": "stdout"
        },
        {
          "output_type": "stream",
          "text": [
            "\n",
            "\n",
            " 20%|██        | 1/5 [00:10<00:42, 10.63s/it]\u001b[A\u001b[A\n",
            "\n",
            " 40%|████      | 2/5 [00:10<00:22,  7.53s/it]\u001b[A\u001b[A\n",
            "\n",
            " 60%|██████    | 3/5 [00:20<00:16,  8.26s/it]\u001b[A\u001b[A\n",
            "\n",
            " 80%|████████  | 4/5 [00:21<00:05,  5.87s/it]\u001b[A\u001b[A\n",
            "\n",
            "100%|██████████| 5/5 [00:28<00:00,  5.64s/it]\n",
            "\n",
            "\n",
            "  0%|          | 0/2 [00:00<?, ?it/s]\u001b[A\u001b[A"
          ],
          "name": "stderr"
        },
        {
          "output_type": "stream",
          "text": [
            "Epoch #21, training loss: 0.011101225763559342, training iou: 0.5467513203620911\n"
          ],
          "name": "stdout"
        },
        {
          "output_type": "stream",
          "text": [
            "\n",
            "\n",
            " 50%|█████     | 1/2 [00:07<00:07,  7.27s/it]\u001b[A\u001b[A\n",
            "\n",
            "100%|██████████| 2/2 [00:09<00:00,  4.51s/it]\n",
            "\n",
            "\n",
            "  0%|          | 0/5 [00:00<?, ?it/s]\u001b[A\u001b[A"
          ],
          "name": "stderr"
        },
        {
          "output_type": "stream",
          "text": [
            "Epoch #21, validation loss: 0.02098871022462845, validation iou: 0.4187850058078766\n"
          ],
          "name": "stdout"
        },
        {
          "output_type": "stream",
          "text": [
            "\n",
            "\n",
            " 20%|██        | 1/5 [00:10<00:41, 10.42s/it]\u001b[A\u001b[A\n",
            "\n",
            " 40%|████      | 2/5 [00:10<00:22,  7.39s/it]\u001b[A\u001b[A\n",
            "\n",
            " 60%|██████    | 3/5 [00:21<00:16,  8.30s/it]\u001b[A\u001b[A\n",
            "\n",
            " 80%|████████  | 4/5 [00:21<00:05,  5.89s/it]\u001b[A\u001b[A\n",
            "\n",
            "100%|██████████| 5/5 [00:28<00:00,  5.72s/it]\n",
            "\n",
            "\n",
            "  0%|          | 0/2 [00:00<?, ?it/s]\u001b[A\u001b[A"
          ],
          "name": "stderr"
        },
        {
          "output_type": "stream",
          "text": [
            "Epoch #22, training loss: 0.011379425413906574, training iou: 0.530368447303772\n"
          ],
          "name": "stdout"
        },
        {
          "output_type": "stream",
          "text": [
            "\n",
            "\n",
            " 50%|█████     | 1/2 [00:07<00:07,  7.29s/it]\u001b[A\u001b[A\n",
            "\n",
            "100%|██████████| 2/2 [00:09<00:00,  4.52s/it]\n",
            "\n",
            "\n",
            "  0%|          | 0/5 [00:00<?, ?it/s]\u001b[A\u001b[A"
          ],
          "name": "stderr"
        },
        {
          "output_type": "stream",
          "text": [
            "Epoch #22, validation loss: 0.02222839593887329, validation iou: 0.4002254009246826\n"
          ],
          "name": "stdout"
        },
        {
          "output_type": "stream",
          "text": [
            "\n",
            "\n",
            " 20%|██        | 1/5 [00:10<00:42, 10.71s/it]\u001b[A\u001b[A\n",
            "\n",
            " 40%|████      | 2/5 [00:11<00:22,  7.59s/it]\u001b[A\u001b[A\n",
            "\n",
            " 60%|██████    | 3/5 [00:20<00:16,  8.29s/it]\u001b[A\u001b[A\n",
            "\n",
            " 80%|████████  | 4/5 [00:21<00:05,  5.89s/it]\u001b[A\u001b[A\n",
            "\n",
            "100%|██████████| 5/5 [00:28<00:00,  5.69s/it]\n",
            "\n",
            "\n",
            "  0%|          | 0/2 [00:00<?, ?it/s]\u001b[A\u001b[A"
          ],
          "name": "stderr"
        },
        {
          "output_type": "stream",
          "text": [
            "Epoch #23, training loss: 0.010896893963217736, training iou: 0.561238706111908\n"
          ],
          "name": "stdout"
        },
        {
          "output_type": "stream",
          "text": [
            "\n",
            "\n",
            " 50%|█████     | 1/2 [00:07<00:07,  7.59s/it]\u001b[A\u001b[A\n",
            "\n",
            "100%|██████████| 2/2 [00:09<00:00,  4.68s/it]\n",
            "\n",
            "\n",
            "  0%|          | 0/5 [00:00<?, ?it/s]\u001b[A\u001b[A"
          ],
          "name": "stderr"
        },
        {
          "output_type": "stream",
          "text": [
            "Epoch #23, validation loss: 0.021082696318626405, validation iou: 0.43382492661476135\n"
          ],
          "name": "stdout"
        },
        {
          "output_type": "stream",
          "text": [
            "\n",
            "\n",
            " 20%|██        | 1/5 [00:10<00:41, 10.38s/it]\u001b[A\u001b[A\n",
            "\n",
            " 40%|████      | 2/5 [00:10<00:22,  7.36s/it]\u001b[A\u001b[A\n",
            "\n",
            " 60%|██████    | 3/5 [00:20<00:16,  8.14s/it]\u001b[A\u001b[A\n",
            "\n",
            " 80%|████████  | 4/5 [00:20<00:05,  5.79s/it]\u001b[A\u001b[A\n",
            "\n",
            "100%|██████████| 5/5 [00:28<00:00,  5.61s/it]\n",
            "\n",
            "\n",
            "  0%|          | 0/2 [00:00<?, ?it/s]\u001b[A\u001b[A"
          ],
          "name": "stderr"
        },
        {
          "output_type": "stream",
          "text": [
            "Epoch #24, training loss: 0.011029597185552121, training iou: 0.5508715510368347\n"
          ],
          "name": "stdout"
        },
        {
          "output_type": "stream",
          "text": [
            "\n",
            "\n",
            " 50%|█████     | 1/2 [00:07<00:07,  7.29s/it]\u001b[A\u001b[A\n",
            "\n",
            "100%|██████████| 2/2 [00:09<00:00,  4.52s/it]\n",
            "\n",
            "\n",
            "  0%|          | 0/5 [00:00<?, ?it/s]\u001b[A\u001b[A"
          ],
          "name": "stderr"
        },
        {
          "output_type": "stream",
          "text": [
            "Epoch #24, validation loss: 0.021194814890623092, validation iou: 0.4289730489253998\n"
          ],
          "name": "stdout"
        },
        {
          "output_type": "stream",
          "text": [
            "\n",
            "\n",
            " 20%|██        | 1/5 [00:11<00:45, 11.28s/it]\u001b[A\u001b[A\n",
            "\n",
            " 40%|████      | 2/5 [00:11<00:23,  7.98s/it]\u001b[A\u001b[A\n",
            "\n",
            " 60%|██████    | 3/5 [00:21<00:17,  8.53s/it]\u001b[A\u001b[A\n",
            "\n",
            " 80%|████████  | 4/5 [00:21<00:06,  6.06s/it]\u001b[A\u001b[A\n",
            "\n",
            "100%|██████████| 5/5 [00:28<00:00,  5.76s/it]\n",
            "\n",
            "\n",
            "  0%|          | 0/2 [00:00<?, ?it/s]\u001b[A\u001b[A"
          ],
          "name": "stderr"
        },
        {
          "output_type": "stream",
          "text": [
            "Epoch #25, training loss: 0.010424594953656196, training iou: 0.5792587995529175\n"
          ],
          "name": "stdout"
        },
        {
          "output_type": "stream",
          "text": [
            "\n",
            "\n",
            " 50%|█████     | 1/2 [00:07<00:07,  7.50s/it]\u001b[A\u001b[A\n",
            "\n",
            "100%|██████████| 2/2 [00:09<00:00,  4.66s/it]\n",
            "\n",
            "\n",
            "  0%|          | 0/5 [00:00<?, ?it/s]\u001b[A\u001b[A"
          ],
          "name": "stderr"
        },
        {
          "output_type": "stream",
          "text": [
            "Epoch #25, validation loss: 0.021132628619670867, validation iou: 0.42597848176956177\n"
          ],
          "name": "stdout"
        },
        {
          "output_type": "stream",
          "text": [
            "\n",
            "\n",
            " 20%|██        | 1/5 [00:10<00:42, 10.57s/it]\u001b[A\u001b[A\n",
            "\n",
            " 40%|████      | 2/5 [00:10<00:22,  7.49s/it]\u001b[A\u001b[A\n",
            "\n",
            " 60%|██████    | 3/5 [00:21<00:16,  8.30s/it]\u001b[A\u001b[A\n",
            "\n",
            " 80%|████████  | 4/5 [00:21<00:05,  5.90s/it]\u001b[A\u001b[A\n",
            "\n",
            "100%|██████████| 5/5 [00:28<00:00,  5.72s/it]\n",
            "\n",
            "\n",
            "  0%|          | 0/2 [00:00<?, ?it/s]\u001b[A\u001b[A"
          ],
          "name": "stderr"
        },
        {
          "output_type": "stream",
          "text": [
            "Epoch #26, training loss: 0.010302092134952544, training iou: 0.5850497484207153\n"
          ],
          "name": "stdout"
        },
        {
          "output_type": "stream",
          "text": [
            "\n",
            "\n",
            " 50%|█████     | 1/2 [00:07<00:07,  7.41s/it]\u001b[A\u001b[A\n",
            "\n",
            "100%|██████████| 2/2 [00:09<00:00,  4.59s/it]\n",
            "\n",
            "\n",
            "  0%|          | 0/5 [00:00<?, ?it/s]\u001b[A\u001b[A"
          ],
          "name": "stderr"
        },
        {
          "output_type": "stream",
          "text": [
            "Epoch #26, validation loss: 0.02152321711182594, validation iou: 0.4490790367126465\n"
          ],
          "name": "stdout"
        },
        {
          "output_type": "stream",
          "text": [
            "\n",
            "\n",
            " 20%|██        | 1/5 [00:10<00:41, 10.41s/it]\u001b[A\u001b[A\n",
            "\n",
            " 40%|████      | 2/5 [00:10<00:22,  7.38s/it]\u001b[A\u001b[A\n",
            "\n",
            " 60%|██████    | 3/5 [00:20<00:16,  8.13s/it]\u001b[A\u001b[A\n",
            "\n",
            " 80%|████████  | 4/5 [00:21<00:05,  5.82s/it]\u001b[A\u001b[A\n",
            "\n",
            "100%|██████████| 5/5 [00:28<00:00,  5.64s/it]\n",
            "\n",
            "\n",
            "  0%|          | 0/2 [00:00<?, ?it/s]\u001b[A\u001b[A"
          ],
          "name": "stderr"
        },
        {
          "output_type": "stream",
          "text": [
            "Epoch #27, training loss: 0.010126427933573722, training iou: 0.5861937999725342\n"
          ],
          "name": "stdout"
        },
        {
          "output_type": "stream",
          "text": [
            "\n",
            "\n",
            " 50%|█████     | 1/2 [00:07<00:07,  7.41s/it]\u001b[A\u001b[A\n",
            "\n",
            "100%|██████████| 2/2 [00:09<00:00,  4.58s/it]\n",
            "\n",
            "\n",
            "  0%|          | 0/5 [00:00<?, ?it/s]\u001b[A\u001b[A"
          ],
          "name": "stderr"
        },
        {
          "output_type": "stream",
          "text": [
            "Epoch #27, validation loss: 0.022092867642641068, validation iou: 0.4131551682949066\n"
          ],
          "name": "stdout"
        },
        {
          "output_type": "stream",
          "text": [
            "\n",
            "\n",
            " 20%|██        | 1/5 [00:10<00:42, 10.54s/it]\u001b[A\u001b[A\n",
            "\n",
            " 40%|████      | 2/5 [00:10<00:22,  7.47s/it]\u001b[A\u001b[A\n",
            "\n",
            " 60%|██████    | 3/5 [00:20<00:16,  8.18s/it]\u001b[A\u001b[A\n",
            "\n",
            " 80%|████████  | 4/5 [00:20<00:05,  5.82s/it]\u001b[A\u001b[A\n",
            "\n",
            "100%|██████████| 5/5 [00:28<00:00,  5.61s/it]\n",
            "\n",
            "\n",
            "  0%|          | 0/2 [00:00<?, ?it/s]\u001b[A\u001b[A"
          ],
          "name": "stderr"
        },
        {
          "output_type": "stream",
          "text": [
            "Epoch #28, training loss: 0.010007683001458646, training iou: 0.6007859110832214\n"
          ],
          "name": "stdout"
        },
        {
          "output_type": "stream",
          "text": [
            "\n",
            "\n",
            " 50%|█████     | 1/2 [00:07<00:07,  7.35s/it]\u001b[A\u001b[A\n",
            "\n",
            "100%|██████████| 2/2 [00:09<00:00,  4.56s/it]\n",
            "\n",
            "\n",
            "  0%|          | 0/5 [00:00<?, ?it/s]\u001b[A\u001b[A"
          ],
          "name": "stderr"
        },
        {
          "output_type": "stream",
          "text": [
            "Epoch #28, validation loss: 0.021681450307369232, validation iou: 0.44653400778770447\n"
          ],
          "name": "stdout"
        },
        {
          "output_type": "stream",
          "text": [
            "\n",
            "\n",
            " 20%|██        | 1/5 [00:10<00:42, 10.72s/it]\u001b[A\u001b[A\n",
            "\n",
            " 40%|████      | 2/5 [00:11<00:22,  7.60s/it]\u001b[A\u001b[A\n",
            "\n",
            " 60%|██████    | 3/5 [00:21<00:16,  8.32s/it]\u001b[A\u001b[A\n",
            "\n",
            " 80%|████████  | 4/5 [00:21<00:05,  5.91s/it]\u001b[A\u001b[A\n",
            "\n",
            "100%|██████████| 5/5 [00:28<00:00,  5.67s/it]\n",
            "\n",
            "\n",
            "  0%|          | 0/2 [00:00<?, ?it/s]\u001b[A\u001b[A"
          ],
          "name": "stderr"
        },
        {
          "output_type": "stream",
          "text": [
            "Epoch #29, training loss: 0.009789004549384117, training iou: 0.6049930453300476\n"
          ],
          "name": "stdout"
        },
        {
          "output_type": "stream",
          "text": [
            "\n",
            "\n",
            " 50%|█████     | 1/2 [00:07<00:07,  7.27s/it]\u001b[A\u001b[A\n",
            "\n",
            "100%|██████████| 2/2 [00:09<00:00,  4.51s/it]\n",
            "\n",
            "\n",
            "  0%|          | 0/5 [00:00<?, ?it/s]\u001b[A\u001b[A"
          ],
          "name": "stderr"
        },
        {
          "output_type": "stream",
          "text": [
            "Epoch #29, validation loss: 0.022430320829153062, validation iou: 0.41516780853271484\n"
          ],
          "name": "stdout"
        },
        {
          "output_type": "stream",
          "text": [
            "\n",
            "\n",
            " 20%|██        | 1/5 [00:10<00:41, 10.46s/it]\u001b[A\u001b[A\n",
            "\n",
            " 40%|████      | 2/5 [00:10<00:22,  7.41s/it]\u001b[A\u001b[A\n",
            "\n",
            " 60%|██████    | 3/5 [00:20<00:16,  8.20s/it]\u001b[A\u001b[A\n",
            "\n",
            " 80%|████████  | 4/5 [00:21<00:05,  5.83s/it]\u001b[A\u001b[A\n",
            "\n",
            "100%|██████████| 5/5 [00:28<00:00,  5.64s/it]\n",
            "\n",
            "\n",
            "  0%|          | 0/2 [00:00<?, ?it/s]\u001b[A\u001b[A"
          ],
          "name": "stderr"
        },
        {
          "output_type": "stream",
          "text": [
            "Epoch #30, training loss: 0.009535041078925133, training iou: 0.6194065809249878\n"
          ],
          "name": "stdout"
        },
        {
          "output_type": "stream",
          "text": [
            "\n",
            "\n",
            " 50%|█████     | 1/2 [00:07<00:07,  7.24s/it]\u001b[A\u001b[A\n",
            "\n",
            "100%|██████████| 2/2 [00:08<00:00,  4.50s/it]\n",
            "\n",
            "\n",
            "  0%|          | 0/5 [00:00<?, ?it/s]\u001b[A\u001b[A"
          ],
          "name": "stderr"
        },
        {
          "output_type": "stream",
          "text": [
            "Epoch #30, validation loss: 0.022770625352859498, validation iou: 0.4268248975276947\n"
          ],
          "name": "stdout"
        },
        {
          "output_type": "stream",
          "text": [
            "\n",
            "\n",
            " 20%|██        | 1/5 [00:10<00:43, 10.80s/it]\u001b[A\u001b[A\n",
            "\n",
            " 40%|████      | 2/5 [00:11<00:22,  7.65s/it]\u001b[A\u001b[A\n",
            "\n",
            " 60%|██████    | 3/5 [00:20<00:16,  8.31s/it]\u001b[A\u001b[A\n",
            "\n",
            " 80%|████████  | 4/5 [00:21<00:05,  5.90s/it]\u001b[A\u001b[A\n",
            "\n",
            "100%|██████████| 5/5 [00:28<00:00,  5.71s/it]\n",
            "\n",
            "\n",
            "  0%|          | 0/2 [00:00<?, ?it/s]\u001b[A\u001b[A"
          ],
          "name": "stderr"
        },
        {
          "output_type": "stream",
          "text": [
            "Epoch #31, training loss: 0.00921127274632454, training iou: 0.6338138580322266\n"
          ],
          "name": "stdout"
        },
        {
          "output_type": "stream",
          "text": [
            "\n",
            "\n",
            " 50%|█████     | 1/2 [00:07<00:07,  7.34s/it]\u001b[A\u001b[A\n",
            "\n",
            "100%|██████████| 2/2 [00:09<00:00,  4.57s/it]\n",
            "\n",
            "\n",
            "  0%|          | 0/5 [00:00<?, ?it/s]\u001b[A\u001b[A"
          ],
          "name": "stderr"
        },
        {
          "output_type": "stream",
          "text": [
            "Epoch #31, validation loss: 0.022170929610729216, validation iou: 0.4422456920146942\n"
          ],
          "name": "stdout"
        },
        {
          "output_type": "stream",
          "text": [
            "\n",
            "\n",
            " 20%|██        | 1/5 [00:10<00:42, 10.69s/it]\u001b[A\u001b[A\n",
            "\n",
            " 40%|████      | 2/5 [00:10<00:22,  7.57s/it]\u001b[A\u001b[A\n",
            "\n",
            " 60%|██████    | 3/5 [00:20<00:16,  8.24s/it]\u001b[A\u001b[A\n",
            "\n",
            " 80%|████████  | 4/5 [00:21<00:05,  5.85s/it]\u001b[A\u001b[A\n",
            "\n",
            "100%|██████████| 5/5 [00:28<00:00,  5.61s/it]\n",
            "\n",
            "\n",
            "  0%|          | 0/2 [00:00<?, ?it/s]\u001b[A\u001b[A"
          ],
          "name": "stderr"
        },
        {
          "output_type": "stream",
          "text": [
            "Epoch #32, training loss: 0.009108310006558895, training iou: 0.6356620192527771\n"
          ],
          "name": "stdout"
        },
        {
          "output_type": "stream",
          "text": [
            "\n",
            "\n",
            " 50%|█████     | 1/2 [00:07<00:07,  7.79s/it]\u001b[A\u001b[A\n",
            "\n",
            "100%|██████████| 2/2 [00:09<00:00,  4.79s/it]\n",
            "\n",
            "\n",
            "  0%|          | 0/5 [00:00<?, ?it/s]\u001b[A\u001b[A"
          ],
          "name": "stderr"
        },
        {
          "output_type": "stream",
          "text": [
            "Epoch #32, validation loss: 0.022379841655492783, validation iou: 0.4350531995296478\n"
          ],
          "name": "stdout"
        },
        {
          "output_type": "stream",
          "text": [
            "\n",
            "\n",
            " 20%|██        | 1/5 [00:10<00:42, 10.68s/it]\u001b[A\u001b[A\n",
            "\n",
            " 40%|████      | 2/5 [00:10<00:22,  7.57s/it]\u001b[A\u001b[A\n",
            "\n",
            " 60%|██████    | 3/5 [00:20<00:16,  8.28s/it]\u001b[A\u001b[A\n",
            "\n",
            " 80%|████████  | 4/5 [00:21<00:05,  5.88s/it]\u001b[A\u001b[A\n",
            "\n",
            "100%|██████████| 5/5 [00:28<00:00,  5.65s/it]\n",
            "\n",
            "\n",
            "  0%|          | 0/2 [00:00<?, ?it/s]\u001b[A\u001b[A"
          ],
          "name": "stderr"
        },
        {
          "output_type": "stream",
          "text": [
            "Epoch #33, training loss: 0.008677423000335693, training iou: 0.6548030376434326\n"
          ],
          "name": "stdout"
        },
        {
          "output_type": "stream",
          "text": [
            "\n",
            "\n",
            " 50%|█████     | 1/2 [00:07<00:07,  7.39s/it]\u001b[A\u001b[A\n",
            "\n",
            "100%|██████████| 2/2 [00:09<00:00,  4.57s/it]\n",
            "\n",
            "\n",
            "  0%|          | 0/5 [00:00<?, ?it/s]\u001b[A\u001b[A"
          ],
          "name": "stderr"
        },
        {
          "output_type": "stream",
          "text": [
            "Epoch #33, validation loss: 0.023054009675979613, validation iou: 0.43823811411857605\n"
          ],
          "name": "stdout"
        },
        {
          "output_type": "error",
          "ename": "KeyboardInterrupt",
          "evalue": "ignored",
          "traceback": [
            "\u001b[0;31m---------------------------------------------------------------------------\u001b[0m",
            "\u001b[0;31mKeyboardInterrupt\u001b[0m                         Traceback (most recent call last)",
            "\u001b[0;32m<ipython-input-18-8c96d5abd010>\u001b[0m in \u001b[0;36m<module>\u001b[0;34m()\u001b[0m\n\u001b[1;32m     11\u001b[0m   \u001b[0mtraining_samples\u001b[0m\u001b[0;34m=\u001b[0m\u001b[0;36m0\u001b[0m\u001b[0;34m\u001b[0m\u001b[0;34m\u001b[0m\u001b[0m\n\u001b[1;32m     12\u001b[0m \u001b[0;34m\u001b[0m\u001b[0m\n\u001b[0;32m---> 13\u001b[0;31m   \u001b[0;32mfor\u001b[0m \u001b[0mx\u001b[0m\u001b[0;34m,\u001b[0m\u001b[0my\u001b[0m \u001b[0;32min\u001b[0m \u001b[0mtqdm\u001b[0m\u001b[0;34m(\u001b[0m\u001b[0mtrain_dataloader\u001b[0m\u001b[0;34m)\u001b[0m\u001b[0;34m:\u001b[0m\u001b[0;34m\u001b[0m\u001b[0;34m\u001b[0m\u001b[0m\n\u001b[0m\u001b[1;32m     14\u001b[0m     \u001b[0moptimizer\u001b[0m\u001b[0;34m.\u001b[0m\u001b[0mzero_grad\u001b[0m\u001b[0;34m(\u001b[0m\u001b[0;34m)\u001b[0m\u001b[0;34m\u001b[0m\u001b[0;34m\u001b[0m\u001b[0m\n\u001b[1;32m     15\u001b[0m     \u001b[0mout\u001b[0m\u001b[0;34m=\u001b[0m\u001b[0mmodel\u001b[0m\u001b[0;34m(\u001b[0m\u001b[0mx\u001b[0m\u001b[0;34m.\u001b[0m\u001b[0mcuda\u001b[0m\u001b[0;34m(\u001b[0m\u001b[0;34m)\u001b[0m\u001b[0;34m)\u001b[0m\u001b[0;34m\u001b[0m\u001b[0;34m\u001b[0m\u001b[0m\n",
            "\u001b[0;32m/usr/local/lib/python3.7/dist-packages/tqdm/std.py\u001b[0m in \u001b[0;36m__iter__\u001b[0;34m(self)\u001b[0m\n\u001b[1;32m   1102\u001b[0m                 fp_write=getattr(self.fp, 'write', sys.stderr.write))\n\u001b[1;32m   1103\u001b[0m \u001b[0;34m\u001b[0m\u001b[0m\n\u001b[0;32m-> 1104\u001b[0;31m         \u001b[0;32mfor\u001b[0m \u001b[0mobj\u001b[0m \u001b[0;32min\u001b[0m \u001b[0miterable\u001b[0m\u001b[0;34m:\u001b[0m\u001b[0;34m\u001b[0m\u001b[0;34m\u001b[0m\u001b[0m\n\u001b[0m\u001b[1;32m   1105\u001b[0m             \u001b[0;32myield\u001b[0m \u001b[0mobj\u001b[0m\u001b[0;34m\u001b[0m\u001b[0;34m\u001b[0m\u001b[0m\n\u001b[1;32m   1106\u001b[0m             \u001b[0;31m# Update and possibly print the progressbar.\u001b[0m\u001b[0;34m\u001b[0m\u001b[0;34m\u001b[0m\u001b[0;34m\u001b[0m\u001b[0m\n",
            "\u001b[0;32m/usr/local/lib/python3.7/dist-packages/torch/utils/data/dataloader.py\u001b[0m in \u001b[0;36m__next__\u001b[0;34m(self)\u001b[0m\n\u001b[1;32m    519\u001b[0m             \u001b[0;32mif\u001b[0m \u001b[0mself\u001b[0m\u001b[0;34m.\u001b[0m\u001b[0m_sampler_iter\u001b[0m \u001b[0;32mis\u001b[0m \u001b[0;32mNone\u001b[0m\u001b[0;34m:\u001b[0m\u001b[0;34m\u001b[0m\u001b[0;34m\u001b[0m\u001b[0m\n\u001b[1;32m    520\u001b[0m                 \u001b[0mself\u001b[0m\u001b[0;34m.\u001b[0m\u001b[0m_reset\u001b[0m\u001b[0;34m(\u001b[0m\u001b[0;34m)\u001b[0m\u001b[0;34m\u001b[0m\u001b[0;34m\u001b[0m\u001b[0m\n\u001b[0;32m--> 521\u001b[0;31m             \u001b[0mdata\u001b[0m \u001b[0;34m=\u001b[0m \u001b[0mself\u001b[0m\u001b[0;34m.\u001b[0m\u001b[0m_next_data\u001b[0m\u001b[0;34m(\u001b[0m\u001b[0;34m)\u001b[0m\u001b[0;34m\u001b[0m\u001b[0;34m\u001b[0m\u001b[0m\n\u001b[0m\u001b[1;32m    522\u001b[0m             \u001b[0mself\u001b[0m\u001b[0;34m.\u001b[0m\u001b[0m_num_yielded\u001b[0m \u001b[0;34m+=\u001b[0m \u001b[0;36m1\u001b[0m\u001b[0;34m\u001b[0m\u001b[0;34m\u001b[0m\u001b[0m\n\u001b[1;32m    523\u001b[0m             \u001b[0;32mif\u001b[0m \u001b[0mself\u001b[0m\u001b[0;34m.\u001b[0m\u001b[0m_dataset_kind\u001b[0m \u001b[0;34m==\u001b[0m \u001b[0m_DatasetKind\u001b[0m\u001b[0;34m.\u001b[0m\u001b[0mIterable\u001b[0m \u001b[0;32mand\u001b[0m\u001b[0;31m \u001b[0m\u001b[0;31m\\\u001b[0m\u001b[0;34m\u001b[0m\u001b[0;34m\u001b[0m\u001b[0m\n",
            "\u001b[0;32m/usr/local/lib/python3.7/dist-packages/torch/utils/data/dataloader.py\u001b[0m in \u001b[0;36m_next_data\u001b[0;34m(self)\u001b[0m\n\u001b[1;32m   1184\u001b[0m \u001b[0;34m\u001b[0m\u001b[0m\n\u001b[1;32m   1185\u001b[0m             \u001b[0;32massert\u001b[0m \u001b[0;32mnot\u001b[0m \u001b[0mself\u001b[0m\u001b[0;34m.\u001b[0m\u001b[0m_shutdown\u001b[0m \u001b[0;32mand\u001b[0m \u001b[0mself\u001b[0m\u001b[0;34m.\u001b[0m\u001b[0m_tasks_outstanding\u001b[0m \u001b[0;34m>\u001b[0m \u001b[0;36m0\u001b[0m\u001b[0;34m\u001b[0m\u001b[0;34m\u001b[0m\u001b[0m\n\u001b[0;32m-> 1186\u001b[0;31m             \u001b[0midx\u001b[0m\u001b[0;34m,\u001b[0m \u001b[0mdata\u001b[0m \u001b[0;34m=\u001b[0m \u001b[0mself\u001b[0m\u001b[0;34m.\u001b[0m\u001b[0m_get_data\u001b[0m\u001b[0;34m(\u001b[0m\u001b[0;34m)\u001b[0m\u001b[0;34m\u001b[0m\u001b[0;34m\u001b[0m\u001b[0m\n\u001b[0m\u001b[1;32m   1187\u001b[0m             \u001b[0mself\u001b[0m\u001b[0;34m.\u001b[0m\u001b[0m_tasks_outstanding\u001b[0m \u001b[0;34m-=\u001b[0m \u001b[0;36m1\u001b[0m\u001b[0;34m\u001b[0m\u001b[0;34m\u001b[0m\u001b[0m\n\u001b[1;32m   1188\u001b[0m             \u001b[0;32mif\u001b[0m \u001b[0mself\u001b[0m\u001b[0;34m.\u001b[0m\u001b[0m_dataset_kind\u001b[0m \u001b[0;34m==\u001b[0m \u001b[0m_DatasetKind\u001b[0m\u001b[0;34m.\u001b[0m\u001b[0mIterable\u001b[0m\u001b[0;34m:\u001b[0m\u001b[0;34m\u001b[0m\u001b[0;34m\u001b[0m\u001b[0m\n",
            "\u001b[0;32m/usr/local/lib/python3.7/dist-packages/torch/utils/data/dataloader.py\u001b[0m in \u001b[0;36m_get_data\u001b[0;34m(self)\u001b[0m\n\u001b[1;32m   1140\u001b[0m         \u001b[0;32melif\u001b[0m \u001b[0mself\u001b[0m\u001b[0;34m.\u001b[0m\u001b[0m_pin_memory\u001b[0m\u001b[0;34m:\u001b[0m\u001b[0;34m\u001b[0m\u001b[0;34m\u001b[0m\u001b[0m\n\u001b[1;32m   1141\u001b[0m             \u001b[0;32mwhile\u001b[0m \u001b[0mself\u001b[0m\u001b[0;34m.\u001b[0m\u001b[0m_pin_memory_thread\u001b[0m\u001b[0;34m.\u001b[0m\u001b[0mis_alive\u001b[0m\u001b[0;34m(\u001b[0m\u001b[0;34m)\u001b[0m\u001b[0;34m:\u001b[0m\u001b[0;34m\u001b[0m\u001b[0;34m\u001b[0m\u001b[0m\n\u001b[0;32m-> 1142\u001b[0;31m                 \u001b[0msuccess\u001b[0m\u001b[0;34m,\u001b[0m \u001b[0mdata\u001b[0m \u001b[0;34m=\u001b[0m \u001b[0mself\u001b[0m\u001b[0;34m.\u001b[0m\u001b[0m_try_get_data\u001b[0m\u001b[0;34m(\u001b[0m\u001b[0;34m)\u001b[0m\u001b[0;34m\u001b[0m\u001b[0;34m\u001b[0m\u001b[0m\n\u001b[0m\u001b[1;32m   1143\u001b[0m                 \u001b[0;32mif\u001b[0m \u001b[0msuccess\u001b[0m\u001b[0;34m:\u001b[0m\u001b[0;34m\u001b[0m\u001b[0;34m\u001b[0m\u001b[0m\n\u001b[1;32m   1144\u001b[0m                     \u001b[0;32mreturn\u001b[0m \u001b[0mdata\u001b[0m\u001b[0;34m\u001b[0m\u001b[0;34m\u001b[0m\u001b[0m\n",
            "\u001b[0;32m/usr/local/lib/python3.7/dist-packages/torch/utils/data/dataloader.py\u001b[0m in \u001b[0;36m_try_get_data\u001b[0;34m(self, timeout)\u001b[0m\n\u001b[1;32m    988\u001b[0m         \u001b[0;31m#   (bool: whether successfully get data, any: data if successful else None)\u001b[0m\u001b[0;34m\u001b[0m\u001b[0;34m\u001b[0m\u001b[0;34m\u001b[0m\u001b[0m\n\u001b[1;32m    989\u001b[0m         \u001b[0;32mtry\u001b[0m\u001b[0;34m:\u001b[0m\u001b[0;34m\u001b[0m\u001b[0;34m\u001b[0m\u001b[0m\n\u001b[0;32m--> 990\u001b[0;31m             \u001b[0mdata\u001b[0m \u001b[0;34m=\u001b[0m \u001b[0mself\u001b[0m\u001b[0;34m.\u001b[0m\u001b[0m_data_queue\u001b[0m\u001b[0;34m.\u001b[0m\u001b[0mget\u001b[0m\u001b[0;34m(\u001b[0m\u001b[0mtimeout\u001b[0m\u001b[0;34m=\u001b[0m\u001b[0mtimeout\u001b[0m\u001b[0;34m)\u001b[0m\u001b[0;34m\u001b[0m\u001b[0;34m\u001b[0m\u001b[0m\n\u001b[0m\u001b[1;32m    991\u001b[0m             \u001b[0;32mreturn\u001b[0m \u001b[0;34m(\u001b[0m\u001b[0;32mTrue\u001b[0m\u001b[0;34m,\u001b[0m \u001b[0mdata\u001b[0m\u001b[0;34m)\u001b[0m\u001b[0;34m\u001b[0m\u001b[0;34m\u001b[0m\u001b[0m\n\u001b[1;32m    992\u001b[0m         \u001b[0;32mexcept\u001b[0m \u001b[0mException\u001b[0m \u001b[0;32mas\u001b[0m \u001b[0me\u001b[0m\u001b[0;34m:\u001b[0m\u001b[0;34m\u001b[0m\u001b[0;34m\u001b[0m\u001b[0m\n",
            "\u001b[0;32m/usr/lib/python3.7/queue.py\u001b[0m in \u001b[0;36mget\u001b[0;34m(self, block, timeout)\u001b[0m\n\u001b[1;32m    177\u001b[0m                     \u001b[0;32mif\u001b[0m \u001b[0mremaining\u001b[0m \u001b[0;34m<=\u001b[0m \u001b[0;36m0.0\u001b[0m\u001b[0;34m:\u001b[0m\u001b[0;34m\u001b[0m\u001b[0;34m\u001b[0m\u001b[0m\n\u001b[1;32m    178\u001b[0m                         \u001b[0;32mraise\u001b[0m \u001b[0mEmpty\u001b[0m\u001b[0;34m\u001b[0m\u001b[0;34m\u001b[0m\u001b[0m\n\u001b[0;32m--> 179\u001b[0;31m                     \u001b[0mself\u001b[0m\u001b[0;34m.\u001b[0m\u001b[0mnot_empty\u001b[0m\u001b[0;34m.\u001b[0m\u001b[0mwait\u001b[0m\u001b[0;34m(\u001b[0m\u001b[0mremaining\u001b[0m\u001b[0;34m)\u001b[0m\u001b[0;34m\u001b[0m\u001b[0;34m\u001b[0m\u001b[0m\n\u001b[0m\u001b[1;32m    180\u001b[0m             \u001b[0mitem\u001b[0m \u001b[0;34m=\u001b[0m \u001b[0mself\u001b[0m\u001b[0;34m.\u001b[0m\u001b[0m_get\u001b[0m\u001b[0;34m(\u001b[0m\u001b[0;34m)\u001b[0m\u001b[0;34m\u001b[0m\u001b[0;34m\u001b[0m\u001b[0m\n\u001b[1;32m    181\u001b[0m             \u001b[0mself\u001b[0m\u001b[0;34m.\u001b[0m\u001b[0mnot_full\u001b[0m\u001b[0;34m.\u001b[0m\u001b[0mnotify\u001b[0m\u001b[0;34m(\u001b[0m\u001b[0;34m)\u001b[0m\u001b[0;34m\u001b[0m\u001b[0;34m\u001b[0m\u001b[0m\n",
            "\u001b[0;32m/usr/lib/python3.7/threading.py\u001b[0m in \u001b[0;36mwait\u001b[0;34m(self, timeout)\u001b[0m\n\u001b[1;32m    298\u001b[0m             \u001b[0;32melse\u001b[0m\u001b[0;34m:\u001b[0m\u001b[0;34m\u001b[0m\u001b[0;34m\u001b[0m\u001b[0m\n\u001b[1;32m    299\u001b[0m                 \u001b[0;32mif\u001b[0m \u001b[0mtimeout\u001b[0m \u001b[0;34m>\u001b[0m \u001b[0;36m0\u001b[0m\u001b[0;34m:\u001b[0m\u001b[0;34m\u001b[0m\u001b[0;34m\u001b[0m\u001b[0m\n\u001b[0;32m--> 300\u001b[0;31m                     \u001b[0mgotit\u001b[0m \u001b[0;34m=\u001b[0m \u001b[0mwaiter\u001b[0m\u001b[0;34m.\u001b[0m\u001b[0macquire\u001b[0m\u001b[0;34m(\u001b[0m\u001b[0;32mTrue\u001b[0m\u001b[0;34m,\u001b[0m \u001b[0mtimeout\u001b[0m\u001b[0;34m)\u001b[0m\u001b[0;34m\u001b[0m\u001b[0;34m\u001b[0m\u001b[0m\n\u001b[0m\u001b[1;32m    301\u001b[0m                 \u001b[0;32melse\u001b[0m\u001b[0;34m:\u001b[0m\u001b[0;34m\u001b[0m\u001b[0;34m\u001b[0m\u001b[0m\n\u001b[1;32m    302\u001b[0m                     \u001b[0mgotit\u001b[0m \u001b[0;34m=\u001b[0m \u001b[0mwaiter\u001b[0m\u001b[0;34m.\u001b[0m\u001b[0macquire\u001b[0m\u001b[0;34m(\u001b[0m\u001b[0;32mFalse\u001b[0m\u001b[0;34m)\u001b[0m\u001b[0;34m\u001b[0m\u001b[0;34m\u001b[0m\u001b[0m\n",
            "\u001b[0;31mKeyboardInterrupt\u001b[0m: "
          ]
        }
      ]
    },
    {
      "cell_type": "markdown",
      "metadata": {
        "id": "spdnopkd9beL"
      },
      "source": [
        "Testing model"
      ]
    },
    {
      "cell_type": "code",
      "metadata": {
        "colab": {
          "base_uri": "https://localhost:8080/"
        },
        "id": "O-xEEOGfCpxH",
        "outputId": "e58e67ab-11e0-438f-fa91-1fe198eefeb1"
      },
      "source": [
        "#Testing\n",
        "\n",
        "#Loading model\n",
        "\n",
        "model.eval()\n",
        "test_loss=0\n",
        "test_iou=0\n",
        "test_samples=0\n",
        "\n",
        "for x,y in tqdm(test_dataloader): \n",
        "  out=model(x.cuda())\n",
        "  myloss=loss(out, y.cuda())\n",
        "\n",
        "  for out_i,y_i in zip(out,y.cuda()):\n",
        "    iou=iou_numpy(out_i>0,y_i)\n",
        "    test_iou+=iou\n",
        "    test_samples+=1\n",
        "\n",
        "  test_loss+=myloss.item()\n",
        "\n",
        "print(f'Test loss: {test_loss/test_samples}, Test iou: {test_iou/test_samples}')\n",
        "\n",
        "wandb.log({\"Test loss\": test_loss/test_samples})\n",
        "wandb.log({\"Test iou\": test_iou/test_samples})\n"
      ],
      "execution_count": null,
      "outputs": [
        {
          "output_type": "stream",
          "text": [
            "\n",
            "\n",
            "\n",
            "  0%|          | 0/1 [00:00<?, ?it/s]\u001b[A\u001b[A\u001b[A\n",
            "\n",
            "\n",
            "100%|██████████| 1/1 [00:15<00:00, 15.19s/it]"
          ],
          "name": "stderr"
        },
        {
          "output_type": "stream",
          "text": [
            "Test loss: 0.05288817286491394, Test iou: 0.4576224982738495\n"
          ],
          "name": "stdout"
        },
        {
          "output_type": "stream",
          "text": [
            "\n"
          ],
          "name": "stderr"
        }
      ]
    },
    {
      "cell_type": "markdown",
      "metadata": {
        "id": "BUonxeBG9jLq"
      },
      "source": [
        "Visualize predictions"
      ]
    },
    {
      "cell_type": "code",
      "metadata": {
        "colab": {
          "base_uri": "https://localhost:8080/",
          "height": 269
        },
        "id": "DKNEJ67zJIsi",
        "outputId": "f7c0003f-590a-4496-8b90-4fe55a5864d1"
      },
      "source": [
        "import matplotlib.pyplot as plt\n",
        "out=model(test_dataset[5][0].unsqueeze(dim=0).cuda())\n",
        "plt.imshow((out>0).cpu().detach().numpy().squeeze())\n",
        "\n",
        "colour_dictionary={\n",
        "    'white':torch.Tensor([255,255,255]),\n",
        "    'green':torch.Tensor([118,246,165]),\n",
        "    'red': torch.Tensor([245,119,65]),\n",
        "    'blue': torch.Tensor([107,136,250])\n",
        "}\n",
        "\n",
        "def visualize_prediction(prediction, label, colour_dictionary):\n",
        "  '''\n",
        "  prediction and label are two numpy arrays in two dimensions WxH\n",
        "  White=TN, Green=TP, RED=FP, BLUE=FN\n",
        "  '''\n",
        "  visualization=np.empty(shape=(prediction.shape[0],prediction.shape[1],3))\n",
        "  for i in range(prediction.shape[0]):\n",
        "    for j in range(prediction.shape[1]):\n",
        "      if prediction[i][j]==1 and label[i][j]==1: #TP\n",
        "        visualization[i,j,:]=colour_dictionary['green']\n",
        "      if prediction[i][j]==0 and label[i][j]==0: #TN\n",
        "        visualization[i,j,:]=colour_dictionary['white']\n",
        "      if prediction[i][j]==0 and label[i][j]==1: #FN\n",
        "        visualization[i,j,:]=colour_dictionary['blue']\n",
        "      if prediction[i][j]==1 and label[i][j]==0: #FP\n",
        "        visualization[i,j,:]=colour_dictionary['red']\n",
        "  plt.imshow(visualization.astype(np.uint8))\n",
        "\n",
        "sample=3\n",
        "out=model(test_dataset[sample][0].unsqueeze(dim=0).cuda())      \n",
        "visualize_prediction((out>0).cpu().detach().squeeze(), test_dataset[sample][1].squeeze(),colour_dictionary) "
      ],
      "execution_count": null,
      "outputs": [
        {
          "output_type": "display_data",
          "data": {
            "image/png": "[encoded data removed]",
            "text/plain": [
              "<Figure size 432x288 with 1 Axes>"
            ]
          },
          "metadata": {
            "tags": [],
            "needs_background": "light"
          }
        }
      ]
    },
    {
      "cell_type": "markdown",
      "metadata": {
        "id": "6HH8i5i6Ueah"
      },
      "source": [
        "Sweeps autoML"
      ]
    },
    {
      "cell_type": "code",
      "metadata": {
        "colab": {
          "base_uri": "https://localhost:8080/"
        },
        "id": "3_IlTasGUd1k",
        "outputId": "38bec869-604f-4ecf-dc32-ff6b6827ddd2"
      },
      "source": [
        "sweep_config = {\n",
        "  \"name\" : \"sweep1\",\n",
        "  \"method\" : \"random\",\n",
        "  \"parameters\" : \n",
        "  {\n",
        "      \"optimizer_config\" : {\n",
        "      \"values\" : ['SGD','Adam']},\n",
        "   \n",
        "    \"learning_rate\" :{\n",
        "      \"values\": [0.001,0.01,0.1,1]},\n",
        "\n",
        "  \"encoder_type\":{\n",
        "      \"values\": ['resnet18','resnet34','resnet50']},\n",
        "   \n",
        "  \"step_size\":{\n",
        "      \"min\": 1,\n",
        "      \"max\": 8},\n",
        "   \n",
        "  \"gamma\": {\n",
        "      \"min\":0.1,\n",
        "      \"max\":0.95},\n",
        "   \n",
        "   \"n_epochs\":{\n",
        "       \"min\":5,\n",
        "       \"max\":30}\n",
        "    },\n",
        "  \"metric\":{\n",
        "    \"name\": \"validation loss\",\n",
        "    \"goal\": \"minimize\"},\n",
        "\n",
        "  \"early_terminate\":{\n",
        "    \"type\": \"hyperband\",\n",
        "    \"min_iter\": 2}\n",
        "}\n",
        "\n",
        "sweep_id = wandb.sweep(sweep_config)\n",
        "print(wandb.config)\n"
      ],
      "execution_count": null,
      "outputs": [
        {
          "output_type": "stream",
          "text": [
            "\u001b[34m\u001b[1mwandb\u001b[0m: \u001b[33mWARNING\u001b[0m Calling wandb.login() after wandb.init() has no effect.\n"
          ],
          "name": "stderr"
        },
        {
          "output_type": "stream",
          "text": [
            "Create sweep with ID: ynj430y5\n",
            "Sweep URL: https://wandb.ai/emanuelefasce/uncategorized/sweeps/ynj430y5\n",
            "{'model_type': 'Unet', 'epochs': 2, 'learning_rate': 0.1, 'encoder': 'resnet18', 'optimizer': 'SGD', 'step_size': 5, 'gamma': 0.1, 'number_of_crops_each_image': 1}\n"
          ],
          "name": "stdout"
        }
      ]
    },
    {
      "cell_type": "code",
      "metadata": {
        "id": "9siiMlA6aAF0",
        "colab": {
          "base_uri": "https://localhost:8080/",
          "height": 1000,
          "referenced_widgets": [
            "3706847d00bb4deba5a556e486d2584a",
            "c2566d4aee1b407ab43968ddacda0962",
            "2cdedff4f31d415d9c7f9fa9bd62822c",
            "87ff4871d2d1473ba2aeb39efd8b885c",
            "33dddd12a93b49a9a2f4606605fad462",
            "76a89a6587df48f1b8c1d5352a7234c0",
            "ca0103ce57864719a35e20a0c106e1d9",
            "dd6e1d31fe524e4e81fa388be3927e2c",
            "3ed06e5c11da4b85af44b26cbe5eb64e",
            "cd50146f3f534550ae378ac8fe73e036",
            "786a3d4fe0914a40b5dace3cbd6f91b2",
            "c9c71df1f5b64f3c8623c60b58d4cbf0",
            "ac2a105d95524944a1170c8613e2e425",
            "aeaf2819f82e4c8a8c354f9045ddc4f4",
            "433500af980d40baa5fc1b8cb3d823b0",
            "c2f8970e84214049bd4556b4e710075b",
            "dd804d093b6045b3a1aea92e00728339",
            "c2b3634793b541b4b1ec17e758635caf",
            "b1bb0ae8f4a1498b86d1fdd7813d23dd",
            "b846ddd82e3a4c70a7fd6e6bdb450468",
            "fbf7fcc0e17342a5917f2adaa70e4fb2",
            "908f47b4892c4bd0ab8cb4e9b419646d",
            "4cbda0c38efd4bd2921bcb0a1cfbadc2",
            "fed1955b84814766bf8ac0f6fcbee23f"
          ]
        },
        "outputId": "3f93c513-2b0a-4f31-bbbd-fcce962b307f"
      },
      "source": [
        "from torch.optim import *\n",
        "from tqdm import tqdm\n",
        "from torch.optim.lr_scheduler import StepLR\n",
        "\n",
        "def train(config=None):\n",
        "\n",
        "    with wandb.init(config=config) as run:\n",
        "        config=wandb.config\n",
        "        \n",
        "        optimizer_config=config[\"optimizer_config\"]\n",
        "        encoder_type=config['encoder_type']\n",
        "        learning_rate=config[\"learning_rate\"]\n",
        "        step_size=config[\"step_size\"]\n",
        "        gamma=config[\"gamma\"]\n",
        "        n_epochs=config[\"n_epochs\"]\n",
        "\n",
        "        #Loading the model\n",
        "        model = smp.Unet(\n",
        "          encoder_name=encoder_type,       \n",
        "          encoder_weights=\"imagenet\", \n",
        "          in_channels=3,                 \n",
        "          classes=1)\n",
        "        model.cuda()\n",
        "        \n",
        "        #Loading optimizers\n",
        "        if optimizer_config=='SGD':\n",
        "          optimizer=SGD(model.parameters(), lr=learning_rate, momentum=0.9)\n",
        "        if optimizer_config=='Adam':\n",
        "          optimizer=Adam(model.parameters(), lr=learning_rate)\n",
        "        if optimizer_config=='AdamW':\n",
        "          optimizer=AdamW(model.parameters(), lr=learning_rate)\n",
        "\n",
        "        scheduler=StepLR(optimizer, step_size=step_size, gamma=gamma)\n",
        "        lowest_validation_loss=9999\n",
        "\n",
        "        for epoch in range(1, n_epochs+1,1):\n",
        "\n",
        "          #Training phase\n",
        "          model.train()\n",
        "          training_loss=0\n",
        "          training_iou=0\n",
        "          training_samples=0\n",
        "\n",
        "          for x,y in tqdm(train_dataloader): \n",
        "            optimizer.zero_grad()\n",
        "            out=model(x.cuda())\n",
        "            myloss=loss(out, y.cuda())\n",
        "\n",
        "            for out_i,y_i in zip(out,y.cuda()):\n",
        "              iou=iou_numpy(out_i>0,y_i)\n",
        "              training_iou+=iou\n",
        "              training_samples+=1\n",
        "\n",
        "            myloss.backward()\n",
        "            optimizer.step()\n",
        "            training_loss+=myloss.item()\n",
        "          \n",
        "          print(f'Epoch #{epoch}, training loss: {training_loss/training_samples}, training iou: {training_iou/training_samples}')\n",
        "          scheduler.step()\n",
        "\n",
        "          wandb.log({\"training loss\": training_loss/training_samples})\n",
        "          wandb.log({\"training iou\": training_iou/training_samples})\n",
        "\n",
        "          #Validation phase\n",
        "          model.eval()\n",
        "          validation_loss=0\n",
        "          validation_iou=0\n",
        "          validation_samples=0\n",
        "\n",
        "          for x,y in tqdm(valid_dataloader): \n",
        "            out=model(x.cuda())\n",
        "            myloss=loss(out, y.cuda())\n",
        "\n",
        "            for out_i,y_i in zip(out,y.cuda()):\n",
        "              iou=iou_numpy(out_i>0,y_i)\n",
        "              validation_iou+=iou\n",
        "              validation_samples+=1\n",
        "\n",
        "            validation_loss+=myloss.item()\n",
        "\n",
        "          print(f'Epoch #{epoch}, validation loss: {validation_loss/validation_samples}, validation iou: {validation_iou/validation_samples}')\n",
        "\n",
        "          if validation_loss/validation_samples<lowest_validation_loss:\n",
        "            lowest_validation_loss=validation_loss/validation_samples\n",
        "            torch.save(model,f'{save_model_path}.pth')\n",
        "            last_epoch_saved=epoch\n",
        "          \n",
        "          wandb.log({\"training loss\": training_loss/training_samples, \"validation loss\": validation_loss/validation_samples, \"epoch\":epoch})\n",
        "          wandb.log({\"training iou\": training_iou/training_samples, \"validation iou\": validation_iou/validation_samples, \"epoch\": epoch})\n",
        "\n",
        "        print(f'Last epoch saved: {last_epoch_saved}')\n",
        "        wandb.log({\"last epoch saved\": last_epoch_saved})\n",
        "count=5\n",
        "wandb.agent(sweep_id, function=train, count=count)"
      ],
      "execution_count": null,
      "outputs": [
        {
          "output_type": "stream",
          "text": [
            "\u001b[34m\u001b[1mwandb\u001b[0m: \u001b[33mWARNING\u001b[0m Calling wandb.login() after wandb.init() has no effect.\n",
            "\u001b[34m\u001b[1mwandb\u001b[0m: Agent Starting Run: hb8lffhq with config:\n",
            "\u001b[34m\u001b[1mwandb\u001b[0m: \tencoder_type: resnet34\n",
            "\u001b[34m\u001b[1mwandb\u001b[0m: \tgamma: 0.9170145585520344\n",
            "\u001b[34m\u001b[1mwandb\u001b[0m: \tlearning_rate: 0.1\n",
            "\u001b[34m\u001b[1mwandb\u001b[0m: \tn_epochs: 28\n",
            "\u001b[34m\u001b[1mwandb\u001b[0m: \toptimizer_config: AdamW\n",
            "\u001b[34m\u001b[1mwandb\u001b[0m: \tstep_size: 2\n"
          ],
          "name": "stderr"
        },
        {
          "output_type": "display_data",
          "data": {
            "text/html": [
              "\n",
              "                Tracking run with wandb version 0.10.33<br/>\n",
              "                Syncing run <strong style=\"color:#cdcd00\">worthy-sweep-1</strong> to <a href=\"https://wandb.ai\" target=\"_blank\">Weights & Biases</a> <a href=\"https://docs.wandb.com/integrations/jupyter.html\" target=\"_blank\">(Documentation)</a>.<br/>\n",
              "                Project page: <a href=\"https://wandb.ai/emanuelefasce/uncategorized\" target=\"_blank\">https://wandb.ai/emanuelefasce/uncategorized</a><br/>\n",
              "                Sweep page: <a href=\"https://wandb.ai/emanuelefasce/uncategorized/sweeps/ynj430y5\" target=\"_blank\">https://wandb.ai/emanuelefasce/uncategorized/sweeps/ynj430y5</a><br/>\n",
              "Run page: <a href=\"https://wandb.ai/emanuelefasce/uncategorized/runs/hb8lffhq\" target=\"_blank\">https://wandb.ai/emanuelefasce/uncategorized/runs/hb8lffhq</a><br/>\n",
              "                Run data is saved locally in <code>/content/wandb/run-20210704_135656-hb8lffhq</code><br/><br/>\n",
              "            "
            ],
            "text/plain": [
              "<IPython.core.display.HTML object>"
            ]
          },
          "metadata": {
            "tags": []
          }
        },
        {
          "output_type": "stream",
          "text": [
            "\r  0%|          | 0/20 [00:00<?, ?it/s]/usr/local/lib/python3.7/dist-packages/torch/nn/functional.py:718: UserWarning: Named tensors and all their associated APIs are an experimental feature and subject to change. Please do not use them for anything important until they are released as stable. (Triggered internally at  /pytorch/c10/core/TensorImpl.h:1156.)\n",
            "  return torch.max_pool2d(input, kernel_size, stride, padding, dilation, ceil_mode)\n",
            "100%|██████████| 20/20 [06:31<00:00, 19.55s/it]\n",
            "  0%|          | 0/5 [00:00<?, ?it/s]"
          ],
          "name": "stderr"
        },
        {
          "output_type": "stream",
          "text": [
            "Epoch #1, training loss: 0.09122640192508698, training iou: 0.02163751982152462\n"
          ],
          "name": "stdout"
        },
        {
          "output_type": "stream",
          "text": [
            "100%|██████████| 5/5 [01:51<00:00, 22.35s/it]\n"
          ],
          "name": "stderr"
        },
        {
          "output_type": "stream",
          "text": [
            "Epoch #1, validation loss: 1243.7417846679687, validation iou: 0.0\n"
          ],
          "name": "stdout"
        },
        {
          "output_type": "stream",
          "text": [
            "100%|██████████| 20/20 [00:42<00:00,  2.11s/it]\n",
            "  0%|          | 0/5 [00:00<?, ?it/s]"
          ],
          "name": "stderr"
        },
        {
          "output_type": "stream",
          "text": [
            "Epoch #2, training loss: 0.07735197320580482, training iou: 0.0029567615129053593\n"
          ],
          "name": "stdout"
        },
        {
          "output_type": "stream",
          "text": [
            "100%|██████████| 5/5 [00:09<00:00,  1.89s/it]\n"
          ],
          "name": "stderr"
        },
        {
          "output_type": "stream",
          "text": [
            "Epoch #2, validation loss: 0.9879174634814263, validation iou: 0.05355026200413704\n"
          ],
          "name": "stdout"
        },
        {
          "output_type": "stream",
          "text": [
            "100%|██████████| 20/20 [00:41<00:00,  2.09s/it]\n",
            "  0%|          | 0/5 [00:00<?, ?it/s]"
          ],
          "name": "stderr"
        },
        {
          "output_type": "stream",
          "text": [
            "Epoch #3, training loss: 0.07708778493106365, training iou: 0.009696715511381626\n"
          ],
          "name": "stdout"
        },
        {
          "output_type": "stream",
          "text": [
            "100%|██████████| 5/5 [00:09<00:00,  1.91s/it]\n"
          ],
          "name": "stderr"
        },
        {
          "output_type": "stream",
          "text": [
            "Epoch #3, validation loss: 0.07490869909524918, validation iou: 0.010060152038931847\n"
          ],
          "name": "stdout"
        },
        {
          "output_type": "stream",
          "text": [
            "100%|██████████| 20/20 [00:41<00:00,  2.08s/it]\n",
            "  0%|          | 0/5 [00:00<?, ?it/s]"
          ],
          "name": "stderr"
        },
        {
          "output_type": "stream",
          "text": [
            "Epoch #4, training loss: 0.07638256512582302, training iou: 0.02745014801621437\n"
          ],
          "name": "stdout"
        },
        {
          "output_type": "stream",
          "text": [
            "100%|██████████| 5/5 [00:09<00:00,  1.91s/it]\n"
          ],
          "name": "stderr"
        },
        {
          "output_type": "stream",
          "text": [
            "Epoch #4, validation loss: 0.07457715123891831, validation iou: 0.03157642483711243\n"
          ],
          "name": "stdout"
        },
        {
          "output_type": "stream",
          "text": [
            "100%|██████████| 20/20 [00:41<00:00,  2.08s/it]\n",
            "  0%|          | 0/5 [00:00<?, ?it/s]"
          ],
          "name": "stderr"
        },
        {
          "output_type": "stream",
          "text": [
            "Epoch #5, training loss: 0.07427908554673195, training iou: 0.10953813046216965\n"
          ],
          "name": "stdout"
        },
        {
          "output_type": "stream",
          "text": [
            "100%|██████████| 5/5 [00:09<00:00,  1.91s/it]\n",
            "  0%|          | 0/20 [00:00<?, ?it/s]"
          ],
          "name": "stderr"
        },
        {
          "output_type": "stream",
          "text": [
            "Epoch #5, validation loss: 0.07518316805362701, validation iou: 0.21902012825012207\n"
          ],
          "name": "stdout"
        },
        {
          "output_type": "stream",
          "text": [
            "100%|██████████| 20/20 [00:41<00:00,  2.07s/it]\n",
            "  0%|          | 0/5 [00:00<?, ?it/s]"
          ],
          "name": "stderr"
        },
        {
          "output_type": "stream",
          "text": [
            "Epoch #6, training loss: 0.07275887876749039, training iou: 0.12870432436466217\n"
          ],
          "name": "stdout"
        },
        {
          "output_type": "stream",
          "text": [
            "100%|██████████| 5/5 [00:09<00:00,  1.92s/it]\n",
            "  0%|          | 0/20 [00:00<?, ?it/s]"
          ],
          "name": "stderr"
        },
        {
          "output_type": "stream",
          "text": [
            "Epoch #6, validation loss: 0.08016055375337601, validation iou: 0.32991060614585876\n"
          ],
          "name": "stdout"
        },
        {
          "output_type": "stream",
          "text": [
            "100%|██████████| 20/20 [00:41<00:00,  2.07s/it]\n",
            "  0%|          | 0/5 [00:00<?, ?it/s]"
          ],
          "name": "stderr"
        },
        {
          "output_type": "stream",
          "text": [
            "Epoch #7, training loss: 0.07084599360823632, training iou: 0.15517626702785492\n"
          ],
          "name": "stdout"
        },
        {
          "output_type": "stream",
          "text": [
            "100%|██████████| 5/5 [00:09<00:00,  1.90s/it]\n"
          ],
          "name": "stderr"
        },
        {
          "output_type": "stream",
          "text": [
            "Epoch #7, validation loss: 0.07445603907108307, validation iou: 0.007385671138763428\n"
          ],
          "name": "stdout"
        },
        {
          "output_type": "stream",
          "text": [
            "100%|██████████| 20/20 [00:42<00:00,  2.10s/it]\n",
            "  0%|          | 0/5 [00:00<?, ?it/s]"
          ],
          "name": "stderr"
        },
        {
          "output_type": "stream",
          "text": [
            "Epoch #8, training loss: 0.0708051024004817, training iou: 0.1415485292673111\n"
          ],
          "name": "stdout"
        },
        {
          "output_type": "stream",
          "text": [
            "100%|██████████| 5/5 [00:09<00:00,  1.92s/it]\n"
          ],
          "name": "stderr"
        },
        {
          "output_type": "stream",
          "text": [
            "Epoch #8, validation loss: 0.06840526312589645, validation iou: 0.1821640580892563\n"
          ],
          "name": "stdout"
        },
        {
          "output_type": "stream",
          "text": [
            "100%|██████████| 20/20 [00:41<00:00,  2.09s/it]\n",
            "  0%|          | 0/5 [00:00<?, ?it/s]"
          ],
          "name": "stderr"
        },
        {
          "output_type": "stream",
          "text": [
            "Epoch #9, training loss: 0.07054248303174973, training iou: 0.1936386078596115\n"
          ],
          "name": "stdout"
        },
        {
          "output_type": "stream",
          "text": [
            "100%|██████████| 5/5 [00:09<00:00,  1.91s/it]\n",
            "  0%|          | 0/20 [00:00<?, ?it/s]"
          ],
          "name": "stderr"
        },
        {
          "output_type": "stream",
          "text": [
            "Epoch #9, validation loss: 0.07780342251062393, validation iou: 0.0\n"
          ],
          "name": "stdout"
        },
        {
          "output_type": "stream",
          "text": [
            "100%|██████████| 20/20 [00:41<00:00,  2.08s/it]\n",
            "  0%|          | 0/5 [00:00<?, ?it/s]"
          ],
          "name": "stderr"
        },
        {
          "output_type": "stream",
          "text": [
            "Epoch #10, training loss: 0.06775256190449, training iou: 0.18466304242610931\n"
          ],
          "name": "stdout"
        },
        {
          "output_type": "stream",
          "text": [
            "100%|██████████| 5/5 [00:09<00:00,  1.90s/it]\n",
            "  0%|          | 0/20 [00:00<?, ?it/s]"
          ],
          "name": "stderr"
        },
        {
          "output_type": "stream",
          "text": [
            "Epoch #10, validation loss: 0.26710168123245237, validation iou: 0.14427052438259125\n"
          ],
          "name": "stdout"
        },
        {
          "output_type": "stream",
          "text": [
            "100%|██████████| 20/20 [00:41<00:00,  2.08s/it]\n",
            "  0%|          | 0/5 [00:00<?, ?it/s]"
          ],
          "name": "stderr"
        },
        {
          "output_type": "stream",
          "text": [
            "Epoch #11, training loss: 0.06606473382562399, training iou: 0.22672247886657715\n"
          ],
          "name": "stdout"
        },
        {
          "output_type": "stream",
          "text": [
            "100%|██████████| 5/5 [00:09<00:00,  1.92s/it]\n",
            "  0%|          | 0/20 [00:00<?, ?it/s]"
          ],
          "name": "stderr"
        },
        {
          "output_type": "stream",
          "text": [
            "Epoch #11, validation loss: 0.07088514268398285, validation iou: 0.2022257149219513\n"
          ],
          "name": "stdout"
        },
        {
          "output_type": "stream",
          "text": [
            "100%|██████████| 20/20 [00:41<00:00,  2.06s/it]\n",
            "  0%|          | 0/5 [00:00<?, ?it/s]"
          ],
          "name": "stderr"
        },
        {
          "output_type": "stream",
          "text": [
            "Epoch #12, training loss: 0.06648724656552077, training iou: 0.21837130188941956\n"
          ],
          "name": "stdout"
        },
        {
          "output_type": "stream",
          "text": [
            "100%|██████████| 5/5 [00:09<00:00,  1.89s/it]\n",
            "  0%|          | 0/20 [00:00<?, ?it/s]"
          ],
          "name": "stderr"
        },
        {
          "output_type": "stream",
          "text": [
            "Epoch #12, validation loss: 0.08224897384643555, validation iou: 0.06619545072317123\n"
          ],
          "name": "stdout"
        },
        {
          "output_type": "stream",
          "text": [
            "100%|██████████| 20/20 [00:41<00:00,  2.06s/it]\n",
            "  0%|          | 0/5 [00:00<?, ?it/s]"
          ],
          "name": "stderr"
        },
        {
          "output_type": "stream",
          "text": [
            "Epoch #13, training loss: 0.06521813310682774, training iou: 0.2673463821411133\n"
          ],
          "name": "stdout"
        },
        {
          "output_type": "stream",
          "text": [
            "100%|██████████| 5/5 [00:09<00:00,  1.92s/it]\n",
            "  0%|          | 0/20 [00:00<?, ?it/s]"
          ],
          "name": "stderr"
        },
        {
          "output_type": "stream",
          "text": [
            "Epoch #13, validation loss: 0.07093736082315445, validation iou: 0.22542333602905273\n"
          ],
          "name": "stdout"
        },
        {
          "output_type": "stream",
          "text": [
            "100%|██████████| 20/20 [00:41<00:00,  2.05s/it]\n",
            "  0%|          | 0/5 [00:00<?, ?it/s]"
          ],
          "name": "stderr"
        },
        {
          "output_type": "stream",
          "text": [
            "Epoch #14, training loss: 0.0649131864309311, training iou: 0.2538895606994629\n"
          ],
          "name": "stdout"
        },
        {
          "output_type": "stream",
          "text": [
            "100%|██████████| 5/5 [00:09<00:00,  1.89s/it]\n",
            "  0%|          | 0/20 [00:00<?, ?it/s]"
          ],
          "name": "stderr"
        },
        {
          "output_type": "stream",
          "text": [
            "Epoch #14, validation loss: 0.0728241965174675, validation iou: 0.09625682979822159\n"
          ],
          "name": "stdout"
        },
        {
          "output_type": "stream",
          "text": [
            "100%|██████████| 20/20 [00:41<00:00,  2.07s/it]\n",
            "  0%|          | 0/5 [00:00<?, ?it/s]"
          ],
          "name": "stderr"
        },
        {
          "output_type": "stream",
          "text": [
            "Epoch #15, training loss: 0.06443207655102015, training iou: 0.2549286484718323\n"
          ],
          "name": "stdout"
        },
        {
          "output_type": "stream",
          "text": [
            "100%|██████████| 5/5 [00:09<00:00,  1.90s/it]\n"
          ],
          "name": "stderr"
        },
        {
          "output_type": "stream",
          "text": [
            "Epoch #15, validation loss: 0.06210107207298279, validation iou: 0.22986315190792084\n"
          ],
          "name": "stdout"
        },
        {
          "output_type": "stream",
          "text": [
            "100%|██████████| 20/20 [00:41<00:00,  2.08s/it]\n",
            "  0%|          | 0/5 [00:00<?, ?it/s]"
          ],
          "name": "stderr"
        },
        {
          "output_type": "stream",
          "text": [
            "Epoch #16, training loss: 0.06458912454545498, training iou: 0.26949945092201233\n"
          ],
          "name": "stdout"
        },
        {
          "output_type": "stream",
          "text": [
            "100%|██████████| 5/5 [00:09<00:00,  1.90s/it]\n",
            "  0%|          | 0/20 [00:00<?, ?it/s]"
          ],
          "name": "stderr"
        },
        {
          "output_type": "stream",
          "text": [
            "Epoch #16, validation loss: 0.06851298958063126, validation iou: 0.13013681769371033\n"
          ],
          "name": "stdout"
        },
        {
          "output_type": "stream",
          "text": [
            "100%|██████████| 20/20 [00:41<00:00,  2.06s/it]\n",
            "  0%|          | 0/5 [00:00<?, ?it/s]"
          ],
          "name": "stderr"
        },
        {
          "output_type": "stream",
          "text": [
            "Epoch #17, training loss: 0.06304310131818056, training iou: 0.28591427206993103\n"
          ],
          "name": "stdout"
        },
        {
          "output_type": "stream",
          "text": [
            "100%|██████████| 5/5 [00:09<00:00,  1.90s/it]\n",
            "  0%|          | 0/20 [00:00<?, ?it/s]"
          ],
          "name": "stderr"
        },
        {
          "output_type": "stream",
          "text": [
            "Epoch #17, validation loss: 0.06680266931653023, validation iou: 0.07210938632488251\n"
          ],
          "name": "stdout"
        },
        {
          "output_type": "stream",
          "text": [
            "100%|██████████| 20/20 [00:40<00:00,  2.04s/it]\n",
            "  0%|          | 0/5 [00:00<?, ?it/s]"
          ],
          "name": "stderr"
        },
        {
          "output_type": "stream",
          "text": [
            "Epoch #18, training loss: 0.06190376505255699, training iou: 0.31788086891174316\n"
          ],
          "name": "stdout"
        },
        {
          "output_type": "stream",
          "text": [
            "100%|██████████| 5/5 [00:09<00:00,  1.87s/it]\n",
            "  0%|          | 0/20 [00:00<?, ?it/s]"
          ],
          "name": "stderr"
        },
        {
          "output_type": "stream",
          "text": [
            "Epoch #18, validation loss: 0.06920994967222213, validation iou: 0.27255961298942566\n"
          ],
          "name": "stdout"
        },
        {
          "output_type": "stream",
          "text": [
            "100%|██████████| 20/20 [00:40<00:00,  2.04s/it]\n",
            "  0%|          | 0/5 [00:00<?, ?it/s]"
          ],
          "name": "stderr"
        },
        {
          "output_type": "stream",
          "text": [
            "Epoch #19, training loss: 0.06318779084831476, training iou: 0.2891078293323517\n"
          ],
          "name": "stdout"
        },
        {
          "output_type": "stream",
          "text": [
            "100%|██████████| 5/5 [00:09<00:00,  1.89s/it]\n",
            "  0%|          | 0/20 [00:00<?, ?it/s]"
          ],
          "name": "stderr"
        },
        {
          "output_type": "stream",
          "text": [
            "Epoch #19, validation loss: 0.08051407337188721, validation iou: 0.0009972057305276394\n"
          ],
          "name": "stdout"
        },
        {
          "output_type": "stream",
          "text": [
            "100%|██████████| 20/20 [00:40<00:00,  2.03s/it]\n",
            "  0%|          | 0/5 [00:00<?, ?it/s]"
          ],
          "name": "stderr"
        },
        {
          "output_type": "stream",
          "text": [
            "Epoch #20, training loss: 0.06312914937734604, training iou: 0.30007869005203247\n"
          ],
          "name": "stdout"
        },
        {
          "output_type": "stream",
          "text": [
            "100%|██████████| 5/5 [00:09<00:00,  1.88s/it]\n",
            "  0%|          | 0/20 [00:00<?, ?it/s]"
          ],
          "name": "stderr"
        },
        {
          "output_type": "stream",
          "text": [
            "Epoch #20, validation loss: 0.06539024412631989, validation iou: 0.14271868765354156\n"
          ],
          "name": "stdout"
        },
        {
          "output_type": "stream",
          "text": [
            "100%|██████████| 20/20 [00:41<00:00,  2.06s/it]\n",
            "  0%|          | 0/5 [00:00<?, ?it/s]"
          ],
          "name": "stderr"
        },
        {
          "output_type": "stream",
          "text": [
            "Epoch #21, training loss: 0.06196533497422933, training iou: 0.3232547342777252\n"
          ],
          "name": "stdout"
        },
        {
          "output_type": "stream",
          "text": [
            "100%|██████████| 5/5 [00:09<00:00,  1.87s/it]\n",
            "  0%|          | 0/20 [00:00<?, ?it/s]"
          ],
          "name": "stderr"
        },
        {
          "output_type": "stream",
          "text": [
            "Epoch #21, validation loss: 0.0730747863650322, validation iou: 0.0041625420562922955\n"
          ],
          "name": "stdout"
        },
        {
          "output_type": "stream",
          "text": [
            "100%|██████████| 20/20 [00:40<00:00,  2.05s/it]\n",
            "  0%|          | 0/5 [00:00<?, ?it/s]"
          ],
          "name": "stderr"
        },
        {
          "output_type": "stream",
          "text": [
            "Epoch #22, training loss: 0.060825069434940815, training iou: 0.32011914253234863\n"
          ],
          "name": "stdout"
        },
        {
          "output_type": "stream",
          "text": [
            "100%|██████████| 5/5 [00:09<00:00,  1.90s/it]\n",
            "  0%|          | 0/20 [00:00<?, ?it/s]"
          ],
          "name": "stderr"
        },
        {
          "output_type": "stream",
          "text": [
            "Epoch #22, validation loss: 0.07098986580967903, validation iou: 0.25142166018486023\n"
          ],
          "name": "stdout"
        },
        {
          "output_type": "stream",
          "text": [
            "100%|██████████| 20/20 [00:41<00:00,  2.06s/it]\n",
            "  0%|          | 0/5 [00:00<?, ?it/s]"
          ],
          "name": "stderr"
        },
        {
          "output_type": "stream",
          "text": [
            "Epoch #23, training loss: 0.06016003116965294, training iou: 0.34320762753486633\n"
          ],
          "name": "stdout"
        },
        {
          "output_type": "stream",
          "text": [
            "100%|██████████| 5/5 [00:09<00:00,  1.87s/it]\n"
          ],
          "name": "stderr"
        },
        {
          "output_type": "stream",
          "text": [
            "Epoch #23, validation loss: 0.06054663360118866, validation iou: 0.26540836691856384\n"
          ],
          "name": "stdout"
        },
        {
          "output_type": "stream",
          "text": [
            "100%|██████████| 20/20 [00:41<00:00,  2.07s/it]\n",
            "  0%|          | 0/5 [00:00<?, ?it/s]"
          ],
          "name": "stderr"
        },
        {
          "output_type": "stream",
          "text": [
            "Epoch #24, training loss: 0.05978500619530678, training iou: 0.3495529890060425\n"
          ],
          "name": "stdout"
        },
        {
          "output_type": "stream",
          "text": [
            "100%|██████████| 5/5 [00:09<00:00,  1.91s/it]\n"
          ],
          "name": "stderr"
        },
        {
          "output_type": "stream",
          "text": [
            "Epoch #24, validation loss: 0.060453534871339795, validation iou: 0.2750149369239807\n"
          ],
          "name": "stdout"
        },
        {
          "output_type": "stream",
          "text": [
            "100%|██████████| 20/20 [00:41<00:00,  2.08s/it]\n",
            "  0%|          | 0/5 [00:00<?, ?it/s]"
          ],
          "name": "stderr"
        },
        {
          "output_type": "stream",
          "text": [
            "Epoch #25, training loss: 0.05904349982738495, training iou: 0.3734692931175232\n"
          ],
          "name": "stdout"
        },
        {
          "output_type": "stream",
          "text": [
            "100%|██████████| 5/5 [00:09<00:00,  1.89s/it]\n",
            "  0%|          | 0/20 [00:00<?, ?it/s]"
          ],
          "name": "stderr"
        },
        {
          "output_type": "stream",
          "text": [
            "Epoch #25, validation loss: 0.06689510494470596, validation iou: 0.15348538756370544\n"
          ],
          "name": "stdout"
        },
        {
          "output_type": "stream",
          "text": [
            "100%|██████████| 20/20 [00:41<00:00,  2.06s/it]\n",
            "  0%|          | 0/5 [00:00<?, ?it/s]"
          ],
          "name": "stderr"
        },
        {
          "output_type": "stream",
          "text": [
            "Epoch #26, training loss: 0.05975433122366667, training iou: 0.35130080580711365\n"
          ],
          "name": "stdout"
        },
        {
          "output_type": "stream",
          "text": [
            "100%|██████████| 5/5 [00:09<00:00,  1.90s/it]\n",
            "  0%|          | 0/20 [00:00<?, ?it/s]"
          ],
          "name": "stderr"
        },
        {
          "output_type": "stream",
          "text": [
            "Epoch #26, validation loss: 0.06695800498127938, validation iou: 0.10127346962690353\n"
          ],
          "name": "stdout"
        },
        {
          "output_type": "stream",
          "text": [
            "100%|██████████| 20/20 [00:40<00:00,  2.05s/it]\n",
            "  0%|          | 0/5 [00:00<?, ?it/s]"
          ],
          "name": "stderr"
        },
        {
          "output_type": "stream",
          "text": [
            "Epoch #27, training loss: 0.061911707371473314, training iou: 0.33812007308006287\n"
          ],
          "name": "stdout"
        },
        {
          "output_type": "stream",
          "text": [
            "100%|██████████| 5/5 [00:09<00:00,  1.88s/it]\n",
            "  0%|          | 0/20 [00:00<?, ?it/s]"
          ],
          "name": "stderr"
        },
        {
          "output_type": "stream",
          "text": [
            "Epoch #27, validation loss: 0.06662852019071579, validation iou: 0.2407940924167633\n"
          ],
          "name": "stdout"
        },
        {
          "output_type": "stream",
          "text": [
            "100%|██████████| 20/20 [00:41<00:00,  2.05s/it]\n",
            "  0%|          | 0/5 [00:00<?, ?it/s]"
          ],
          "name": "stderr"
        },
        {
          "output_type": "stream",
          "text": [
            "Epoch #28, training loss: 0.06011580005288124, training iou: 0.3532125651836395\n"
          ],
          "name": "stdout"
        },
        {
          "output_type": "stream",
          "text": [
            "100%|██████████| 5/5 [00:09<00:00,  1.88s/it]\n"
          ],
          "name": "stderr"
        },
        {
          "output_type": "stream",
          "text": [
            "Epoch #28, validation loss: 0.06556040197610855, validation iou: 0.13910910487174988\n",
            "Last epoch saved: 24\n"
          ],
          "name": "stdout"
        },
        {
          "output_type": "display_data",
          "data": {
            "text/html": [
              "<br/>Waiting for W&B process to finish, PID 1477<br/>Program ended successfully."
            ],
            "text/plain": [
              "<IPython.core.display.HTML object>"
            ]
          },
          "metadata": {
            "tags": []
          }
        },
        {
          "output_type": "display_data",
          "data": {
            "application/vnd.jupyter.widget-view+json": {
              "model_id": "3706847d00bb4deba5a556e486d2584a",
              "version_minor": 0,
              "version_major": 2
            },
            "text/plain": [
              "VBox(children=(Label(value=' 0.00MB of 0.00MB uploaded (0.00MB deduped)\\r'), FloatProgress(value=1.0, max=1.0)…"
            ]
          },
          "metadata": {
            "tags": []
          }
        },
        {
          "output_type": "display_data",
          "data": {
            "text/html": [
              "Find user logs for this run at: <code>/content/wandb/run-20210704_135656-hb8lffhq/logs/debug.log</code>"
            ],
            "text/plain": [
              "<IPython.core.display.HTML object>"
            ]
          },
          "metadata": {
            "tags": []
          }
        },
        {
          "output_type": "display_data",
          "data": {
            "text/html": [
              "Find internal logs for this run at: <code>/content/wandb/run-20210704_135656-hb8lffhq/logs/debug-internal.log</code>"
            ],
            "text/plain": [
              "<IPython.core.display.HTML object>"
            ]
          },
          "metadata": {
            "tags": []
          }
        },
        {
          "output_type": "display_data",
          "data": {
            "text/html": [
              "<h3>Run summary:</h3><br/><style>\n",
              "    table.wandb td:nth-child(1) { padding: 0 10px; text-align: right }\n",
              "    </style><table class=\"wandb\">\n",
              "<tr><td>training loss</td><td>0.06012</td></tr><tr><td>_runtime</td><td>1885</td></tr><tr><td>_timestamp</td><td>1625408901</td></tr><tr><td>_step</td><td>111</td></tr><tr><td>training iou</td><td>0.35321</td></tr><tr><td>validation loss</td><td>0.06556</td></tr><tr><td>validation iou</td><td>0.13911</td></tr></table>"
            ],
            "text/plain": [
              "<IPython.core.display.HTML object>"
            ]
          },
          "metadata": {
            "tags": []
          }
        },
        {
          "output_type": "display_data",
          "data": {
            "text/html": [
              "<h3>Run history:</h3><br/><style>\n",
              "    table.wandb td:nth-child(1) { padding: 0 10px; text-align: right }\n",
              "    </style><table class=\"wandb\">\n",
              "<tr><td>training loss</td><td>█▅▅▅▄▄▄▄▄▃▃▃▂▂▂▂▂▂▂▂▂▁▁▁▁▁▂▁</td></tr><tr><td>_runtime</td><td>▁▂▂▂▂▂▂▂▃▃▃▃▃▄▄▄▄▄▄▅▅▅▅▅▆▆▆▆▆▆▇▇▇▇▇▇████</td></tr><tr><td>_timestamp</td><td>▁▂▂▂▂▂▂▂▃▃▃▃▃▄▄▄▄▄▄▅▅▅▅▅▆▆▆▆▆▆▇▇▇▇▇▇████</td></tr><tr><td>_step</td><td>▁▁▁▂▂▂▂▂▂▃▃▃▃▃▃▄▄▄▄▄▅▅▅▅▅▅▆▆▆▆▆▇▇▇▇▇▇███</td></tr><tr><td>training iou</td><td>▁▁▁▁▃▃▄▄▅▄▅▅▆▆▆▆▆▇▆▇▇▇▇███▇█</td></tr><tr><td>validation loss</td><td>█▁▁▁▁▁▁▁▁▁▁▁▁▁▁▁▁▁▁▁▁▁▁▁▁▁▁▁</td></tr><tr><td>validation iou</td><td>▁▂▁▂▆█▁▅▁▄▅▂▆▃▆▄▃▇▁▄▁▆▇▇▄▃▆▄</td></tr></table><br/>"
            ],
            "text/plain": [
              "<IPython.core.display.HTML object>"
            ]
          },
          "metadata": {
            "tags": []
          }
        },
        {
          "output_type": "display_data",
          "data": {
            "text/html": [
              "Synced 5 W&B file(s), 0 media file(s), 0 artifact file(s) and 0 other file(s)"
            ],
            "text/plain": [
              "<IPython.core.display.HTML object>"
            ]
          },
          "metadata": {
            "tags": []
          }
        },
        {
          "output_type": "display_data",
          "data": {
            "text/html": [
              "\n",
              "                    <br/>Synced <strong style=\"color:#cdcd00\">worthy-sweep-1</strong>: <a href=\"https://wandb.ai/emanuelefasce/uncategorized/runs/hb8lffhq\" target=\"_blank\">https://wandb.ai/emanuelefasce/uncategorized/runs/hb8lffhq</a><br/>\n",
              "                "
            ],
            "text/plain": [
              "<IPython.core.display.HTML object>"
            ]
          },
          "metadata": {
            "tags": []
          }
        },
        {
          "output_type": "stream",
          "text": [
            "\u001b[34m\u001b[1mwandb\u001b[0m: Agent Starting Run: 508ciw0y with config:\n",
            "\u001b[34m\u001b[1mwandb\u001b[0m: \tencoder_type: resnet50\n",
            "\u001b[34m\u001b[1mwandb\u001b[0m: \tgamma: 0.2722744720560231\n",
            "\u001b[34m\u001b[1mwandb\u001b[0m: \tlearning_rate: 0.1\n",
            "\u001b[34m\u001b[1mwandb\u001b[0m: \tn_epochs: 22\n",
            "\u001b[34m\u001b[1mwandb\u001b[0m: \toptimizer_config: SGD\n",
            "\u001b[34m\u001b[1mwandb\u001b[0m: \tstep_size: 1\n"
          ],
          "name": "stderr"
        },
        {
          "output_type": "display_data",
          "data": {
            "text/html": [
              "\n",
              "                Tracking run with wandb version 0.10.33<br/>\n",
              "                Syncing run <strong style=\"color:#cdcd00\">still-sweep-2</strong> to <a href=\"https://wandb.ai\" target=\"_blank\">Weights & Biases</a> <a href=\"https://docs.wandb.com/integrations/jupyter.html\" target=\"_blank\">(Documentation)</a>.<br/>\n",
              "                Project page: <a href=\"https://wandb.ai/emanuelefasce/uncategorized\" target=\"_blank\">https://wandb.ai/emanuelefasce/uncategorized</a><br/>\n",
              "                Sweep page: <a href=\"https://wandb.ai/emanuelefasce/uncategorized/sweeps/ynj430y5\" target=\"_blank\">https://wandb.ai/emanuelefasce/uncategorized/sweeps/ynj430y5</a><br/>\n",
              "Run page: <a href=\"https://wandb.ai/emanuelefasce/uncategorized/runs/508ciw0y\" target=\"_blank\">https://wandb.ai/emanuelefasce/uncategorized/runs/508ciw0y</a><br/>\n",
              "                Run data is saved locally in <code>/content/wandb/run-20210704_142826-508ciw0y</code><br/><br/>\n",
              "            "
            ],
            "text/plain": [
              "<IPython.core.display.HTML object>"
            ]
          },
          "metadata": {
            "tags": []
          }
        },
        {
          "output_type": "stream",
          "text": [
            "100%|██████████| 20/20 [00:42<00:00,  2.12s/it]\n",
            "  0%|          | 0/5 [00:00<?, ?it/s]"
          ],
          "name": "stderr"
        },
        {
          "output_type": "stream",
          "text": [
            "Epoch #1, training loss: 0.07825203444808722, training iou: 0.05796057730913162\n"
          ],
          "name": "stdout"
        },
        {
          "output_type": "stream",
          "text": [
            "100%|██████████| 5/5 [00:09<00:00,  1.93s/it]\n"
          ],
          "name": "stderr"
        },
        {
          "output_type": "stream",
          "text": [
            "Epoch #1, validation loss: 0.09405239075422286, validation iou: 0.21507477760314941\n"
          ],
          "name": "stdout"
        },
        {
          "output_type": "stream",
          "text": [
            "100%|██████████| 20/20 [00:43<00:00,  2.15s/it]\n",
            "  0%|          | 0/5 [00:00<?, ?it/s]"
          ],
          "name": "stderr"
        },
        {
          "output_type": "stream",
          "text": [
            "Epoch #2, training loss: 0.06491519901901484, training iou: 0.27269503474235535\n"
          ],
          "name": "stdout"
        },
        {
          "output_type": "stream",
          "text": [
            "100%|██████████| 5/5 [00:09<00:00,  1.93s/it]\n",
            "  0%|          | 0/20 [00:00<?, ?it/s]"
          ],
          "name": "stderr"
        },
        {
          "output_type": "stream",
          "text": [
            "Epoch #2, validation loss: 0.1980033427476883, validation iou: 0.34844300150871277\n"
          ],
          "name": "stdout"
        },
        {
          "output_type": "stream",
          "text": [
            "100%|██████████| 20/20 [00:42<00:00,  2.12s/it]\n",
            "  0%|          | 0/5 [00:00<?, ?it/s]"
          ],
          "name": "stderr"
        },
        {
          "output_type": "stream",
          "text": [
            "Epoch #3, training loss: 0.061949236690998076, training iou: 0.32615724205970764\n"
          ],
          "name": "stdout"
        },
        {
          "output_type": "stream",
          "text": [
            "100%|██████████| 5/5 [00:09<00:00,  1.95s/it]\n"
          ],
          "name": "stderr"
        },
        {
          "output_type": "stream",
          "text": [
            "Epoch #3, validation loss: 0.057089314609766004, validation iou: 0.292725533246994\n"
          ],
          "name": "stdout"
        },
        {
          "output_type": "stream",
          "text": [
            "100%|██████████| 20/20 [00:43<00:00,  2.15s/it]\n",
            "  0%|          | 0/5 [00:00<?, ?it/s]"
          ],
          "name": "stderr"
        },
        {
          "output_type": "stream",
          "text": [
            "Epoch #4, training loss: 0.05875047724694014, training iou: 0.3726596534252167\n"
          ],
          "name": "stdout"
        },
        {
          "output_type": "stream",
          "text": [
            "100%|██████████| 5/5 [00:09<00:00,  1.91s/it]\n",
            "  0%|          | 0/20 [00:00<?, ?it/s]"
          ],
          "name": "stderr"
        },
        {
          "output_type": "stream",
          "text": [
            "Epoch #4, validation loss: 0.06183437705039978, validation iou: 0.36815187335014343\n"
          ],
          "name": "stdout"
        },
        {
          "output_type": "stream",
          "text": [
            "100%|██████████| 20/20 [00:42<00:00,  2.13s/it]\n",
            "  0%|          | 0/5 [00:00<?, ?it/s]"
          ],
          "name": "stderr"
        },
        {
          "output_type": "stream",
          "text": [
            "Epoch #5, training loss: 0.05779543109238148, training iou: 0.39340004324913025\n"
          ],
          "name": "stdout"
        },
        {
          "output_type": "stream",
          "text": [
            "100%|██████████| 5/5 [00:09<00:00,  1.93s/it]\n"
          ],
          "name": "stderr"
        },
        {
          "output_type": "stream",
          "text": [
            "Epoch #5, validation loss: 0.05586072951555252, validation iou: 0.2932606339454651\n"
          ],
          "name": "stdout"
        },
        {
          "output_type": "stream",
          "text": [
            "100%|██████████| 20/20 [00:42<00:00,  2.14s/it]\n",
            "  0%|          | 0/5 [00:00<?, ?it/s]"
          ],
          "name": "stderr"
        },
        {
          "output_type": "stream",
          "text": [
            "Epoch #6, training loss: 0.05560605376958847, training iou: 0.4053132236003876\n"
          ],
          "name": "stdout"
        },
        {
          "output_type": "stream",
          "text": [
            "100%|██████████| 5/5 [00:09<00:00,  1.94s/it]\n",
            "  0%|          | 0/20 [00:00<?, ?it/s]"
          ],
          "name": "stderr"
        },
        {
          "output_type": "stream",
          "text": [
            "Epoch #6, validation loss: 0.06001436412334442, validation iou: 0.3728642463684082\n"
          ],
          "name": "stdout"
        },
        {
          "output_type": "stream",
          "text": [
            "100%|██████████| 20/20 [00:42<00:00,  2.13s/it]\n",
            "  0%|          | 0/5 [00:00<?, ?it/s]"
          ],
          "name": "stderr"
        },
        {
          "output_type": "stream",
          "text": [
            "Epoch #7, training loss: 0.05540607087314129, training iou: 0.41842207312583923\n"
          ],
          "name": "stdout"
        },
        {
          "output_type": "stream",
          "text": [
            "100%|██████████| 5/5 [00:09<00:00,  1.91s/it]\n",
            "  0%|          | 0/20 [00:00<?, ?it/s]"
          ],
          "name": "stderr"
        },
        {
          "output_type": "stream",
          "text": [
            "Epoch #7, validation loss: 0.06958275213837624, validation iou: 0.24434331059455872\n"
          ],
          "name": "stdout"
        },
        {
          "output_type": "stream",
          "text": [
            "100%|██████████| 20/20 [00:42<00:00,  2.11s/it]\n",
            "  0%|          | 0/5 [00:00<?, ?it/s]"
          ],
          "name": "stderr"
        },
        {
          "output_type": "stream",
          "text": [
            "Epoch #8, training loss: 0.05367258004844189, training iou: 0.43845367431640625\n"
          ],
          "name": "stdout"
        },
        {
          "output_type": "stream",
          "text": [
            "100%|██████████| 5/5 [00:09<00:00,  1.94s/it]\n"
          ],
          "name": "stderr"
        },
        {
          "output_type": "stream",
          "text": [
            "Epoch #8, validation loss: 0.05069990232586861, validation iou: 0.4493207633495331\n"
          ],
          "name": "stdout"
        },
        {
          "output_type": "stream",
          "text": [
            "100%|██████████| 20/20 [00:42<00:00,  2.14s/it]\n",
            "  0%|          | 0/5 [00:00<?, ?it/s]"
          ],
          "name": "stderr"
        },
        {
          "output_type": "stream",
          "text": [
            "Epoch #9, training loss: 0.052182207070291045, training iou: 0.45118066668510437\n"
          ],
          "name": "stdout"
        },
        {
          "output_type": "stream",
          "text": [
            "100%|██████████| 5/5 [00:09<00:00,  1.92s/it]\n"
          ],
          "name": "stderr"
        },
        {
          "output_type": "stream",
          "text": [
            "Epoch #9, validation loss: 0.049075405299663546, validation iou: 0.424683541059494\n"
          ],
          "name": "stdout"
        },
        {
          "output_type": "stream",
          "text": [
            "100%|██████████| 20/20 [00:43<00:00,  2.16s/it]\n",
            "  0%|          | 0/5 [00:00<?, ?it/s]"
          ],
          "name": "stderr"
        },
        {
          "output_type": "stream",
          "text": [
            "Epoch #10, training loss: 0.05235829260200262, training iou: 0.46604371070861816\n"
          ],
          "name": "stdout"
        },
        {
          "output_type": "stream",
          "text": [
            "100%|██████████| 5/5 [00:09<00:00,  1.94s/it]\n",
            "  0%|          | 0/20 [00:00<?, ?it/s]"
          ],
          "name": "stderr"
        },
        {
          "output_type": "stream",
          "text": [
            "Epoch #10, validation loss: 0.05054102391004563, validation iou: 0.4680619239807129\n"
          ],
          "name": "stdout"
        },
        {
          "output_type": "stream",
          "text": [
            "100%|██████████| 20/20 [00:42<00:00,  2.15s/it]\n",
            "  0%|          | 0/5 [00:00<?, ?it/s]"
          ],
          "name": "stderr"
        },
        {
          "output_type": "stream",
          "text": [
            "Epoch #11, training loss: 0.051583525538444516, training iou: 0.46953725814819336\n"
          ],
          "name": "stdout"
        },
        {
          "output_type": "stream",
          "text": [
            "100%|██████████| 5/5 [00:09<00:00,  1.94s/it]\n",
            "  0%|          | 0/20 [00:00<?, ?it/s]"
          ],
          "name": "stderr"
        },
        {
          "output_type": "stream",
          "text": [
            "Epoch #11, validation loss: 0.05020317807793617, validation iou: 0.38267451524734497\n"
          ],
          "name": "stdout"
        },
        {
          "output_type": "stream",
          "text": [
            "100%|██████████| 20/20 [00:42<00:00,  2.14s/it]\n",
            "  0%|          | 0/5 [00:00<?, ?it/s]"
          ],
          "name": "stderr"
        },
        {
          "output_type": "stream",
          "text": [
            "Epoch #12, training loss: 0.05190028753131628, training iou: 0.46121594309806824\n"
          ],
          "name": "stdout"
        },
        {
          "output_type": "stream",
          "text": [
            "100%|██████████| 5/5 [00:09<00:00,  1.90s/it]\n",
            "  0%|          | 0/20 [00:00<?, ?it/s]"
          ],
          "name": "stderr"
        },
        {
          "output_type": "stream",
          "text": [
            "Epoch #12, validation loss: 0.061875137686729434, validation iou: 0.44321107864379883\n"
          ],
          "name": "stdout"
        },
        {
          "output_type": "stream",
          "text": [
            "100%|██████████| 20/20 [00:42<00:00,  2.10s/it]\n",
            "  0%|          | 0/5 [00:00<?, ?it/s]"
          ],
          "name": "stderr"
        },
        {
          "output_type": "stream",
          "text": [
            "Epoch #13, training loss: 0.05113503057509661, training iou: 0.4692629873752594\n"
          ],
          "name": "stdout"
        },
        {
          "output_type": "stream",
          "text": [
            "100%|██████████| 5/5 [00:09<00:00,  1.92s/it]\n",
            "  0%|          | 0/20 [00:00<?, ?it/s]"
          ],
          "name": "stderr"
        },
        {
          "output_type": "stream",
          "text": [
            "Epoch #13, validation loss: 0.04916199892759323, validation iou: 0.43631163239479065\n"
          ],
          "name": "stdout"
        },
        {
          "output_type": "stream",
          "text": [
            "100%|██████████| 20/20 [00:41<00:00,  2.10s/it]\n",
            "  0%|          | 0/5 [00:00<?, ?it/s]"
          ],
          "name": "stderr"
        },
        {
          "output_type": "stream",
          "text": [
            "Epoch #14, training loss: 0.050097863748669626, training iou: 0.484514057636261\n"
          ],
          "name": "stdout"
        },
        {
          "output_type": "stream",
          "text": [
            "100%|██████████| 5/5 [00:09<00:00,  1.92s/it]\n",
            "  0%|          | 0/20 [00:00<?, ?it/s]"
          ],
          "name": "stderr"
        },
        {
          "output_type": "stream",
          "text": [
            "Epoch #14, validation loss: 0.05039890334010124, validation iou: 0.4588986933231354\n"
          ],
          "name": "stdout"
        },
        {
          "output_type": "stream",
          "text": [
            "100%|██████████| 20/20 [00:42<00:00,  2.12s/it]\n",
            "  0%|          | 0/5 [00:00<?, ?it/s]"
          ],
          "name": "stderr"
        },
        {
          "output_type": "stream",
          "text": [
            "Epoch #15, training loss: 0.048572851531207564, training iou: 0.499993234872818\n"
          ],
          "name": "stdout"
        },
        {
          "output_type": "stream",
          "text": [
            "100%|██████████| 5/5 [00:09<00:00,  1.90s/it]\n"
          ],
          "name": "stderr"
        },
        {
          "output_type": "stream",
          "text": [
            "Epoch #15, validation loss: 0.04906681254506111, validation iou: 0.4446752667427063\n"
          ],
          "name": "stdout"
        },
        {
          "output_type": "stream",
          "text": [
            "100%|██████████| 20/20 [00:42<00:00,  2.14s/it]\n",
            "  0%|          | 0/5 [00:00<?, ?it/s]"
          ],
          "name": "stderr"
        },
        {
          "output_type": "stream",
          "text": [
            "Epoch #16, training loss: 0.04789871498942375, training iou: 0.5052286982536316\n"
          ],
          "name": "stdout"
        },
        {
          "output_type": "stream",
          "text": [
            "100%|██████████| 5/5 [00:09<00:00,  1.91s/it]\n"
          ],
          "name": "stderr"
        },
        {
          "output_type": "stream",
          "text": [
            "Epoch #16, validation loss: 0.04662766233086586, validation iou: 0.48162227869033813\n"
          ],
          "name": "stdout"
        },
        {
          "output_type": "stream",
          "text": [
            "100%|██████████| 20/20 [00:42<00:00,  2.14s/it]\n",
            "  0%|          | 0/5 [00:00<?, ?it/s]"
          ],
          "name": "stderr"
        },
        {
          "output_type": "stream",
          "text": [
            "Epoch #17, training loss: 0.047218856029212476, training iou: 0.516476035118103\n"
          ],
          "name": "stdout"
        },
        {
          "output_type": "stream",
          "text": [
            "100%|██████████| 5/5 [00:09<00:00,  1.93s/it]\n",
            "  0%|          | 0/20 [00:00<?, ?it/s]"
          ],
          "name": "stderr"
        },
        {
          "output_type": "stream",
          "text": [
            "Epoch #17, validation loss: 0.04950881600379944, validation iou: 0.4248947203159332\n"
          ],
          "name": "stdout"
        },
        {
          "output_type": "stream",
          "text": [
            "100%|██████████| 20/20 [00:42<00:00,  2.12s/it]\n",
            "  0%|          | 0/5 [00:00<?, ?it/s]"
          ],
          "name": "stderr"
        },
        {
          "output_type": "stream",
          "text": [
            "Epoch #18, training loss: 0.04718366060405969, training iou: 0.5197488069534302\n"
          ],
          "name": "stdout"
        },
        {
          "output_type": "stream",
          "text": [
            "100%|██████████| 5/5 [00:09<00:00,  1.91s/it]\n",
            "  0%|          | 0/20 [00:00<?, ?it/s]"
          ],
          "name": "stderr"
        },
        {
          "output_type": "stream",
          "text": [
            "Epoch #18, validation loss: 0.053021276742219924, validation iou: 0.45450448989868164\n"
          ],
          "name": "stdout"
        },
        {
          "output_type": "stream",
          "text": [
            "100%|██████████| 20/20 [00:42<00:00,  2.11s/it]\n",
            "  0%|          | 0/5 [00:00<?, ?it/s]"
          ],
          "name": "stderr"
        },
        {
          "output_type": "stream",
          "text": [
            "Epoch #19, training loss: 0.046072492562234404, training iou: 0.527969241142273\n"
          ],
          "name": "stdout"
        },
        {
          "output_type": "stream",
          "text": [
            "100%|██████████| 5/5 [00:09<00:00,  1.91s/it]\n",
            "  0%|          | 0/20 [00:00<?, ?it/s]"
          ],
          "name": "stderr"
        },
        {
          "output_type": "stream",
          "text": [
            "Epoch #19, validation loss: 0.04808420240879059, validation iou: 0.4884497821331024\n"
          ],
          "name": "stdout"
        },
        {
          "output_type": "stream",
          "text": [
            "100%|██████████| 20/20 [00:42<00:00,  2.10s/it]\n",
            "  0%|          | 0/5 [00:00<?, ?it/s]"
          ],
          "name": "stderr"
        },
        {
          "output_type": "stream",
          "text": [
            "Epoch #20, training loss: 0.04533098191022873, training iou: 0.5353185534477234\n"
          ],
          "name": "stdout"
        },
        {
          "output_type": "stream",
          "text": [
            "100%|██████████| 5/5 [00:09<00:00,  1.90s/it]\n",
            "  0%|          | 0/20 [00:00<?, ?it/s]"
          ],
          "name": "stderr"
        },
        {
          "output_type": "stream",
          "text": [
            "Epoch #20, validation loss: 0.05124960467219353, validation iou: 0.42808452248573303\n"
          ],
          "name": "stdout"
        },
        {
          "output_type": "stream",
          "text": [
            "100%|██████████| 20/20 [00:41<00:00,  2.09s/it]\n",
            "  0%|          | 0/5 [00:00<?, ?it/s]"
          ],
          "name": "stderr"
        },
        {
          "output_type": "stream",
          "text": [
            "Epoch #21, training loss: 0.04444717951118946, training iou: 0.5439772605895996\n"
          ],
          "name": "stdout"
        },
        {
          "output_type": "stream",
          "text": [
            "100%|██████████| 5/5 [00:09<00:00,  1.89s/it]\n",
            "  0%|          | 0/20 [00:00<?, ?it/s]"
          ],
          "name": "stderr"
        },
        {
          "output_type": "stream",
          "text": [
            "Epoch #21, validation loss: 0.05468995124101639, validation iou: 0.3985605537891388\n"
          ],
          "name": "stdout"
        },
        {
          "output_type": "stream",
          "text": [
            "100%|██████████| 20/20 [00:42<00:00,  2.10s/it]\n",
            "  0%|          | 0/5 [00:00<?, ?it/s]"
          ],
          "name": "stderr"
        },
        {
          "output_type": "stream",
          "text": [
            "Epoch #22, training loss: 0.042560058459639546, training iou: 0.5644625425338745\n"
          ],
          "name": "stdout"
        },
        {
          "output_type": "stream",
          "text": [
            "100%|██████████| 5/5 [00:09<00:00,  1.92s/it]\n"
          ],
          "name": "stderr"
        },
        {
          "output_type": "stream",
          "text": [
            "Epoch #22, validation loss: 0.08526888191699981, validation iou: 0.2171240895986557\n",
            "Last epoch saved: 16\n"
          ],
          "name": "stdout"
        },
        {
          "output_type": "display_data",
          "data": {
            "text/html": [
              "<br/>Waiting for W&B process to finish, PID 1984<br/>Program ended successfully."
            ],
            "text/plain": [
              "<IPython.core.display.HTML object>"
            ]
          },
          "metadata": {
            "tags": []
          }
        },
        {
          "output_type": "display_data",
          "data": {
            "application/vnd.jupyter.widget-view+json": {
              "model_id": "3ed06e5c11da4b85af44b26cbe5eb64e",
              "version_minor": 0,
              "version_major": 2
            },
            "text/plain": [
              "VBox(children=(Label(value=' 0.00MB of 0.00MB uploaded (0.00MB deduped)\\r'), FloatProgress(value=1.0, max=1.0)…"
            ]
          },
          "metadata": {
            "tags": []
          }
        },
        {
          "output_type": "display_data",
          "data": {
            "text/html": [
              "Find user logs for this run at: <code>/content/wandb/run-20210704_142826-508ciw0y/logs/debug.log</code>"
            ],
            "text/plain": [
              "<IPython.core.display.HTML object>"
            ]
          },
          "metadata": {
            "tags": []
          }
        },
        {
          "output_type": "display_data",
          "data": {
            "text/html": [
              "Find internal logs for this run at: <code>/content/wandb/run-20210704_142826-508ciw0y/logs/debug-internal.log</code>"
            ],
            "text/plain": [
              "<IPython.core.display.HTML object>"
            ]
          },
          "metadata": {
            "tags": []
          }
        },
        {
          "output_type": "display_data",
          "data": {
            "text/html": [
              "<h3>Run summary:</h3><br/><style>\n",
              "    table.wandb td:nth-child(1) { padding: 0 10px; text-align: right }\n",
              "    </style><table class=\"wandb\">\n",
              "<tr><td>training loss</td><td>0.04256</td></tr><tr><td>_runtime</td><td>1155</td></tr><tr><td>_timestamp</td><td>1625410061</td></tr><tr><td>_step</td><td>87</td></tr><tr><td>training iou</td><td>0.56446</td></tr><tr><td>validation loss</td><td>0.08527</td></tr><tr><td>validation iou</td><td>0.21712</td></tr></table>"
            ],
            "text/plain": [
              "<IPython.core.display.HTML object>"
            ]
          },
          "metadata": {
            "tags": []
          }
        },
        {
          "output_type": "display_data",
          "data": {
            "text/html": [
              "<h3>Run history:</h3><br/><style>\n",
              "    table.wandb td:nth-child(1) { padding: 0 10px; text-align: right }\n",
              "    </style><table class=\"wandb\">\n",
              "<tr><td>training loss</td><td>█▅▅▄▄▄▄▃▃▃▃▃▃▂▂▂▂▂▂▂▁▁</td></tr><tr><td>_runtime</td><td>▁▁▁▁▂▂▂▂▂▃▃▃▃▃▃▄▄▄▄▄▅▅▅▅▅▅▆▆▆▆▆▇▇▇▇▇████</td></tr><tr><td>_timestamp</td><td>▁▁▁▁▂▂▂▂▂▃▃▃▃▃▃▄▄▄▄▄▅▅▅▅▅▅▆▆▆▆▆▇▇▇▇▇████</td></tr><tr><td>_step</td><td>▁▁▁▁▂▂▂▂▂▃▃▃▃▃▃▄▄▄▄▄▅▅▅▅▅▅▆▆▆▆▆▇▇▇▇▇▇███</td></tr><tr><td>training iou</td><td>▁▄▅▅▆▆▆▆▆▇▇▇▇▇▇▇▇▇▇███</td></tr><tr><td>validation loss</td><td>▃█▁▂▁▂▂▁▁▁▁▂▁▁▁▁▁▁▁▁▁▃</td></tr><tr><td>validation iou</td><td>▁▄▃▅▃▅▂▇▆▇▅▇▇▇▇█▆▇█▆▆▁</td></tr></table><br/>"
            ],
            "text/plain": [
              "<IPython.core.display.HTML object>"
            ]
          },
          "metadata": {
            "tags": []
          }
        },
        {
          "output_type": "display_data",
          "data": {
            "text/html": [
              "Synced 5 W&B file(s), 0 media file(s), 0 artifact file(s) and 0 other file(s)"
            ],
            "text/plain": [
              "<IPython.core.display.HTML object>"
            ]
          },
          "metadata": {
            "tags": []
          }
        },
        {
          "output_type": "display_data",
          "data": {
            "text/html": [
              "\n",
              "                    <br/>Synced <strong style=\"color:#cdcd00\">still-sweep-2</strong>: <a href=\"https://wandb.ai/emanuelefasce/uncategorized/runs/508ciw0y\" target=\"_blank\">https://wandb.ai/emanuelefasce/uncategorized/runs/508ciw0y</a><br/>\n",
              "                "
            ],
            "text/plain": [
              "<IPython.core.display.HTML object>"
            ]
          },
          "metadata": {
            "tags": []
          }
        },
        {
          "output_type": "stream",
          "text": [
            "\u001b[34m\u001b[1mwandb\u001b[0m: Agent Starting Run: gwce9n7m with config:\n",
            "\u001b[34m\u001b[1mwandb\u001b[0m: \tencoder_type: resnet18\n",
            "\u001b[34m\u001b[1mwandb\u001b[0m: \tgamma: 0.5795643539340837\n",
            "\u001b[34m\u001b[1mwandb\u001b[0m: \tlearning_rate: 1\n",
            "\u001b[34m\u001b[1mwandb\u001b[0m: \tn_epochs: 5\n",
            "\u001b[34m\u001b[1mwandb\u001b[0m: \toptimizer_config: SGD\n",
            "\u001b[34m\u001b[1mwandb\u001b[0m: \tstep_size: 5\n"
          ],
          "name": "stderr"
        },
        {
          "output_type": "display_data",
          "data": {
            "text/html": [
              "\n",
              "                Tracking run with wandb version 0.10.33<br/>\n",
              "                Syncing run <strong style=\"color:#cdcd00\">stellar-sweep-3</strong> to <a href=\"https://wandb.ai\" target=\"_blank\">Weights & Biases</a> <a href=\"https://docs.wandb.com/integrations/jupyter.html\" target=\"_blank\">(Documentation)</a>.<br/>\n",
              "                Project page: <a href=\"https://wandb.ai/emanuelefasce/uncategorized\" target=\"_blank\">https://wandb.ai/emanuelefasce/uncategorized</a><br/>\n",
              "                Sweep page: <a href=\"https://wandb.ai/emanuelefasce/uncategorized/sweeps/ynj430y5\" target=\"_blank\">https://wandb.ai/emanuelefasce/uncategorized/sweeps/ynj430y5</a><br/>\n",
              "Run page: <a href=\"https://wandb.ai/emanuelefasce/uncategorized/runs/gwce9n7m\" target=\"_blank\">https://wandb.ai/emanuelefasce/uncategorized/runs/gwce9n7m</a><br/>\n",
              "                Run data is saved locally in <code>/content/wandb/run-20210704_144746-gwce9n7m</code><br/><br/>\n",
              "            "
            ],
            "text/plain": [
              "<IPython.core.display.HTML object>"
            ]
          },
          "metadata": {
            "tags": []
          }
        },
        {
          "output_type": "stream",
          "text": [
            "100%|██████████| 20/20 [00:39<00:00,  1.99s/it]\n",
            "  0%|          | 0/5 [00:00<?, ?it/s]"
          ],
          "name": "stderr"
        },
        {
          "output_type": "stream",
          "text": [
            "Epoch #1, training loss: 0.08094757720828057, training iou: 0.01711100898683071\n"
          ],
          "name": "stdout"
        },
        {
          "output_type": "stream",
          "text": [
            "100%|██████████| 5/5 [00:09<00:00,  1.88s/it]\n"
          ],
          "name": "stderr"
        },
        {
          "output_type": "stream",
          "text": [
            "Epoch #1, validation loss: 0.2988092839717865, validation iou: 0.0\n"
          ],
          "name": "stdout"
        },
        {
          "output_type": "stream",
          "text": [
            "100%|██████████| 20/20 [00:40<00:00,  2.02s/it]\n",
            "  0%|          | 0/5 [00:00<?, ?it/s]"
          ],
          "name": "stderr"
        },
        {
          "output_type": "stream",
          "text": [
            "Epoch #2, training loss: 0.07388240322470666, training iou: 1.3689337720279582e-05\n"
          ],
          "name": "stdout"
        },
        {
          "output_type": "stream",
          "text": [
            "100%|██████████| 5/5 [00:09<00:00,  1.87s/it]\n"
          ],
          "name": "stderr"
        },
        {
          "output_type": "stream",
          "text": [
            "Epoch #2, validation loss: 0.07666125148534775, validation iou: 0.0\n"
          ],
          "name": "stdout"
        },
        {
          "output_type": "stream",
          "text": [
            "100%|██████████| 20/20 [00:40<00:00,  2.01s/it]\n",
            "  0%|          | 0/5 [00:00<?, ?it/s]"
          ],
          "name": "stderr"
        },
        {
          "output_type": "stream",
          "text": [
            "Epoch #3, training loss: 0.06905581634491682, training iou: 0.1917879432439804\n"
          ],
          "name": "stdout"
        },
        {
          "output_type": "stream",
          "text": [
            "100%|██████████| 5/5 [00:09<00:00,  1.88s/it]\n",
            "  0%|          | 0/20 [00:00<?, ?it/s]"
          ],
          "name": "stderr"
        },
        {
          "output_type": "stream",
          "text": [
            "Epoch #3, validation loss: 0.08191998600959778, validation iou: 0.19012239575386047\n"
          ],
          "name": "stdout"
        },
        {
          "output_type": "stream",
          "text": [
            "100%|██████████| 20/20 [00:39<00:00,  1.99s/it]\n",
            "  0%|          | 0/5 [00:00<?, ?it/s]"
          ],
          "name": "stderr"
        },
        {
          "output_type": "stream",
          "text": [
            "Epoch #4, training loss: 0.06682734470814466, training iou: 0.2587527930736542\n"
          ],
          "name": "stdout"
        },
        {
          "output_type": "stream",
          "text": [
            "100%|██████████| 5/5 [00:09<00:00,  1.85s/it]\n"
          ],
          "name": "stderr"
        },
        {
          "output_type": "stream",
          "text": [
            "Epoch #4, validation loss: 0.06075667962431908, validation iou: 0.32269948720932007\n"
          ],
          "name": "stdout"
        },
        {
          "output_type": "stream",
          "text": [
            "100%|██████████| 20/20 [00:40<00:00,  2.01s/it]\n",
            "  0%|          | 0/5 [00:00<?, ?it/s]"
          ],
          "name": "stderr"
        },
        {
          "output_type": "stream",
          "text": [
            "Epoch #5, training loss: 0.06748179569840432, training iou: 0.2397342473268509\n"
          ],
          "name": "stdout"
        },
        {
          "output_type": "stream",
          "text": [
            "100%|██████████| 5/5 [00:09<00:00,  1.88s/it]\n"
          ],
          "name": "stderr"
        },
        {
          "output_type": "stream",
          "text": [
            "Epoch #5, validation loss: 0.07306053638458251, validation iou: 0.0\n",
            "Last epoch saved: 4\n"
          ],
          "name": "stdout"
        },
        {
          "output_type": "display_data",
          "data": {
            "text/html": [
              "<br/>Waiting for W&B process to finish, PID 2303<br/>Program ended successfully."
            ],
            "text/plain": [
              "<IPython.core.display.HTML object>"
            ]
          },
          "metadata": {
            "tags": []
          }
        },
        {
          "output_type": "display_data",
          "data": {
            "application/vnd.jupyter.widget-view+json": {
              "model_id": "dd804d093b6045b3a1aea92e00728339",
              "version_minor": 0,
              "version_major": 2
            },
            "text/plain": [
              "VBox(children=(Label(value=' 0.00MB of 0.00MB uploaded (0.00MB deduped)\\r'), FloatProgress(value=1.0, max=1.0)…"
            ]
          },
          "metadata": {
            "tags": []
          }
        },
        {
          "output_type": "display_data",
          "data": {
            "text/html": [
              "Find user logs for this run at: <code>/content/wandb/run-20210704_144746-gwce9n7m/logs/debug.log</code>"
            ],
            "text/plain": [
              "<IPython.core.display.HTML object>"
            ]
          },
          "metadata": {
            "tags": []
          }
        },
        {
          "output_type": "display_data",
          "data": {
            "text/html": [
              "Find internal logs for this run at: <code>/content/wandb/run-20210704_144746-gwce9n7m/logs/debug-internal.log</code>"
            ],
            "text/plain": [
              "<IPython.core.display.HTML object>"
            ]
          },
          "metadata": {
            "tags": []
          }
        },
        {
          "output_type": "display_data",
          "data": {
            "text/html": [
              "<h3>Run summary:</h3><br/><style>\n",
              "    table.wandb td:nth-child(1) { padding: 0 10px; text-align: right }\n",
              "    </style><table class=\"wandb\">\n",
              "<tr><td>training loss</td><td>0.06748</td></tr><tr><td>_runtime</td><td>253</td></tr><tr><td>_timestamp</td><td>1625410319</td></tr><tr><td>_step</td><td>19</td></tr><tr><td>training iou</td><td>0.23973</td></tr><tr><td>validation loss</td><td>0.07306</td></tr><tr><td>validation iou</td><td>0.0</td></tr></table>"
            ],
            "text/plain": [
              "<IPython.core.display.HTML object>"
            ]
          },
          "metadata": {
            "tags": []
          }
        },
        {
          "output_type": "display_data",
          "data": {
            "text/html": [
              "<h3>Run history:</h3><br/><style>\n",
              "    table.wandb td:nth-child(1) { padding: 0 10px; text-align: right }\n",
              "    </style><table class=\"wandb\">\n",
              "<tr><td>training loss</td><td>█▄▂▁▁</td></tr><tr><td>_runtime</td><td>▁▁▁▁▃▃▃▃▄▄▅▅▆▆▆▆████</td></tr><tr><td>_timestamp</td><td>▁▁▁▁▃▃▃▃▄▄▅▅▆▆▆▆████</td></tr><tr><td>_step</td><td>▁▁▂▂▂▃▃▄▄▄▅▅▅▆▆▇▇▇██</td></tr><tr><td>training iou</td><td>▁▁▆█▇</td></tr><tr><td>validation loss</td><td>█▁▂▁▁</td></tr><tr><td>validation iou</td><td>▁▁▅█▁</td></tr></table><br/>"
            ],
            "text/plain": [
              "<IPython.core.display.HTML object>"
            ]
          },
          "metadata": {
            "tags": []
          }
        },
        {
          "output_type": "display_data",
          "data": {
            "text/html": [
              "Synced 5 W&B file(s), 0 media file(s), 0 artifact file(s) and 0 other file(s)"
            ],
            "text/plain": [
              "<IPython.core.display.HTML object>"
            ]
          },
          "metadata": {
            "tags": []
          }
        },
        {
          "output_type": "display_data",
          "data": {
            "text/html": [
              "\n",
              "                    <br/>Synced <strong style=\"color:#cdcd00\">stellar-sweep-3</strong>: <a href=\"https://wandb.ai/emanuelefasce/uncategorized/runs/gwce9n7m\" target=\"_blank\">https://wandb.ai/emanuelefasce/uncategorized/runs/gwce9n7m</a><br/>\n",
              "                "
            ],
            "text/plain": [
              "<IPython.core.display.HTML object>"
            ]
          },
          "metadata": {
            "tags": []
          }
        },
        {
          "output_type": "stream",
          "text": [
            "\u001b[34m\u001b[1mwandb\u001b[0m: Agent Starting Run: lkfe77y9 with config:\n",
            "\u001b[34m\u001b[1mwandb\u001b[0m: \tencoder_type: resnet34\n",
            "\u001b[34m\u001b[1mwandb\u001b[0m: \tgamma: 0.7798788012113624\n",
            "\u001b[34m\u001b[1mwandb\u001b[0m: \tlearning_rate: 0.1\n",
            "\u001b[34m\u001b[1mwandb\u001b[0m: \tn_epochs: 25\n",
            "\u001b[34m\u001b[1mwandb\u001b[0m: \toptimizer_config: Adam\n",
            "\u001b[34m\u001b[1mwandb\u001b[0m: \tstep_size: 3\n"
          ],
          "name": "stderr"
        },
        {
          "output_type": "display_data",
          "data": {
            "text/html": [
              "\n",
              "                Tracking run with wandb version 0.10.33<br/>\n",
              "                Syncing run <strong style=\"color:#cdcd00\">bumbling-sweep-4</strong> to <a href=\"https://wandb.ai\" target=\"_blank\">Weights & Biases</a> <a href=\"https://docs.wandb.com/integrations/jupyter.html\" target=\"_blank\">(Documentation)</a>.<br/>\n",
              "                Project page: <a href=\"https://wandb.ai/emanuelefasce/uncategorized\" target=\"_blank\">https://wandb.ai/emanuelefasce/uncategorized</a><br/>\n",
              "                Sweep page: <a href=\"https://wandb.ai/emanuelefasce/uncategorized/sweeps/ynj430y5\" target=\"_blank\">https://wandb.ai/emanuelefasce/uncategorized/sweeps/ynj430y5</a><br/>\n",
              "Run page: <a href=\"https://wandb.ai/emanuelefasce/uncategorized/runs/lkfe77y9\" target=\"_blank\">https://wandb.ai/emanuelefasce/uncategorized/runs/lkfe77y9</a><br/>\n",
              "                Run data is saved locally in <code>/content/wandb/run-20210704_145204-lkfe77y9</code><br/><br/>\n",
              "            "
            ],
            "text/plain": [
              "<IPython.core.display.HTML object>"
            ]
          },
          "metadata": {
            "tags": []
          }
        },
        {
          "output_type": "stream",
          "text": [
            "100%|██████████| 20/20 [00:41<00:00,  2.07s/it]\n",
            "  0%|          | 0/5 [00:00<?, ?it/s]"
          ],
          "name": "stderr"
        },
        {
          "output_type": "stream",
          "text": [
            "Epoch #1, training loss: 0.08819269649684429, training iou: 0.02269715629518032\n"
          ],
          "name": "stdout"
        },
        {
          "output_type": "stream",
          "text": [
            "100%|██████████| 5/5 [00:09<00:00,  1.92s/it]\n"
          ],
          "name": "stderr"
        },
        {
          "output_type": "stream",
          "text": [
            "Epoch #1, validation loss: 159.7708953857422, validation iou: 0.2881341874599457\n"
          ],
          "name": "stdout"
        },
        {
          "output_type": "stream",
          "text": [
            "100%|██████████| 20/20 [00:41<00:00,  2.09s/it]\n",
            "  0%|          | 0/5 [00:00<?, ?it/s]"
          ],
          "name": "stderr"
        },
        {
          "output_type": "stream",
          "text": [
            "Epoch #2, training loss: 0.07799744121730327, training iou: 0.0009487421484664083\n"
          ],
          "name": "stdout"
        },
        {
          "output_type": "stream",
          "text": [
            "100%|██████████| 5/5 [00:09<00:00,  1.91s/it]\n"
          ],
          "name": "stderr"
        },
        {
          "output_type": "stream",
          "text": [
            "Epoch #2, validation loss: 0.22777974605560303, validation iou: 0.0\n"
          ],
          "name": "stdout"
        },
        {
          "output_type": "stream",
          "text": [
            "100%|██████████| 20/20 [00:41<00:00,  2.08s/it]\n",
            "  0%|          | 0/5 [00:00<?, ?it/s]"
          ],
          "name": "stderr"
        },
        {
          "output_type": "stream",
          "text": [
            "Epoch #3, training loss: 0.07707536332309246, training iou: 0.0\n"
          ],
          "name": "stdout"
        },
        {
          "output_type": "stream",
          "text": [
            "100%|██████████| 5/5 [00:09<00:00,  1.93s/it]\n"
          ],
          "name": "stderr"
        },
        {
          "output_type": "stream",
          "text": [
            "Epoch #3, validation loss: 0.07506352066993713, validation iou: 0.0\n"
          ],
          "name": "stdout"
        },
        {
          "output_type": "stream",
          "text": [
            "100%|██████████| 20/20 [00:41<00:00,  2.07s/it]\n",
            "  0%|          | 0/5 [00:00<?, ?it/s]"
          ],
          "name": "stderr"
        },
        {
          "output_type": "stream",
          "text": [
            "Epoch #4, training loss: 0.07668817825615407, training iou: 0.0\n"
          ],
          "name": "stdout"
        },
        {
          "output_type": "stream",
          "text": [
            "100%|██████████| 5/5 [00:09<00:00,  1.92s/it]\n"
          ],
          "name": "stderr"
        },
        {
          "output_type": "stream",
          "text": [
            "Epoch #4, validation loss: 0.07396129071712494, validation iou: 0.0\n"
          ],
          "name": "stdout"
        },
        {
          "output_type": "stream",
          "text": [
            " 35%|███▌      | 7/20 [00:14<00:26,  2.06s/it]\u001b[34m\u001b[1mwandb\u001b[0m: Ctrl + C detected. Stopping sweep.\n"
          ],
          "name": "stderr"
        }
      ]
    }
  ]
}